{
 "cells": [
  {
   "cell_type": "markdown",
   "id": "2ea64fb3-084e-4467-90ce-f3f6356cd3c3",
   "metadata": {
    "slideshow": {
     "slide_type": "skip"
    },
    "tags": []
   },
   "source": [
    "[![Binder](https://mybinder.org/badge_logo.svg)](https://mybinder.org/v2/gh/stefmolin/pandas-workshop/main?urlpath=lab/tree/notebooks/2-data_wrangling.ipynb) [![View slides in browser](https://img.shields.io/badge/view-slides-orange?logo=reveal.js&logoColor=white)](https://stefaniemolin.com/pandas-workshop/#/section-2)\n",
    "\n",
    "---\n",
    "\n"
   ]
  },
  {
   "cell_type": "markdown",
   "id": "03ad7f69-c3e9-4ce8-a044-fd12502fd622",
   "metadata": {
    "slideshow": {
     "slide_type": "slide"
    },
    "tags": []
   },
   "source": [
    "# Section 2: Data Wrangling\n",
    "\n",
    "To prepare our data for analysis, we need to perform data wrangling. In this section, we will learn how to clean and reformat data (e.g., renaming columns and fixing data type mismatches), restructure/reshape it, and enrich it (e.g., discretizing columns, calculating aggregations, and combining data sources)."
   ]
  },
  {
   "cell_type": "markdown",
   "id": "d1acd617-c093-4406-9ea8-61289e29e12c",
   "metadata": {
    "slideshow": {
     "slide_type": "slide"
    },
    "tags": []
   },
   "source": [
    "## Data cleaning\n",
    "\n",
    "In this section, we will take a look at creating, renaming, and dropping columns; type conversion; and sorting &ndash; all of which make our analysis easier. We will be working with the 2019 Yellow Taxi Trip Data provided by NYC Open Data."
   ]
  },
  {
   "cell_type": "code",
   "execution_count": 1,
   "id": "c91ca2ea-c35b-455d-bbc9-312b47c864e4",
   "metadata": {},
   "outputs": [
    {
     "data": {
      "text/html": [
       "<div>\n",
       "<style scoped>\n",
       "    .dataframe tbody tr th:only-of-type {\n",
       "        vertical-align: middle;\n",
       "    }\n",
       "\n",
       "    .dataframe tbody tr th {\n",
       "        vertical-align: top;\n",
       "    }\n",
       "\n",
       "    .dataframe thead th {\n",
       "        text-align: right;\n",
       "    }\n",
       "</style>\n",
       "<table border=\"1\" class=\"dataframe\">\n",
       "  <thead>\n",
       "    <tr style=\"text-align: right;\">\n",
       "      <th></th>\n",
       "      <th>vendorid</th>\n",
       "      <th>tpep_pickup_datetime</th>\n",
       "      <th>tpep_dropoff_datetime</th>\n",
       "      <th>passenger_count</th>\n",
       "      <th>trip_distance</th>\n",
       "      <th>ratecodeid</th>\n",
       "      <th>store_and_fwd_flag</th>\n",
       "      <th>pulocationid</th>\n",
       "      <th>dolocationid</th>\n",
       "      <th>payment_type</th>\n",
       "      <th>fare_amount</th>\n",
       "      <th>extra</th>\n",
       "      <th>mta_tax</th>\n",
       "      <th>tip_amount</th>\n",
       "      <th>tolls_amount</th>\n",
       "      <th>improvement_surcharge</th>\n",
       "      <th>total_amount</th>\n",
       "      <th>congestion_surcharge</th>\n",
       "    </tr>\n",
       "  </thead>\n",
       "  <tbody>\n",
       "    <tr>\n",
       "      <th>0</th>\n",
       "      <td>2</td>\n",
       "      <td>2019-10-23T16:39:42.000</td>\n",
       "      <td>2019-10-23T17:14:10.000</td>\n",
       "      <td>1</td>\n",
       "      <td>7.93</td>\n",
       "      <td>1</td>\n",
       "      <td>N</td>\n",
       "      <td>138</td>\n",
       "      <td>170</td>\n",
       "      <td>1</td>\n",
       "      <td>29.5</td>\n",
       "      <td>1.0</td>\n",
       "      <td>0.5</td>\n",
       "      <td>7.98</td>\n",
       "      <td>6.12</td>\n",
       "      <td>0.3</td>\n",
       "      <td>47.90</td>\n",
       "      <td>2.5</td>\n",
       "    </tr>\n",
       "    <tr>\n",
       "      <th>1</th>\n",
       "      <td>1</td>\n",
       "      <td>2019-10-23T16:32:08.000</td>\n",
       "      <td>2019-10-23T16:45:26.000</td>\n",
       "      <td>1</td>\n",
       "      <td>2.00</td>\n",
       "      <td>1</td>\n",
       "      <td>N</td>\n",
       "      <td>11</td>\n",
       "      <td>26</td>\n",
       "      <td>1</td>\n",
       "      <td>10.5</td>\n",
       "      <td>1.0</td>\n",
       "      <td>0.5</td>\n",
       "      <td>0.00</td>\n",
       "      <td>0.00</td>\n",
       "      <td>0.3</td>\n",
       "      <td>12.30</td>\n",
       "      <td>0.0</td>\n",
       "    </tr>\n",
       "    <tr>\n",
       "      <th>2</th>\n",
       "      <td>2</td>\n",
       "      <td>2019-10-23T16:08:44.000</td>\n",
       "      <td>2019-10-23T16:21:11.000</td>\n",
       "      <td>1</td>\n",
       "      <td>1.36</td>\n",
       "      <td>1</td>\n",
       "      <td>N</td>\n",
       "      <td>163</td>\n",
       "      <td>162</td>\n",
       "      <td>1</td>\n",
       "      <td>9.5</td>\n",
       "      <td>1.0</td>\n",
       "      <td>0.5</td>\n",
       "      <td>2.00</td>\n",
       "      <td>0.00</td>\n",
       "      <td>0.3</td>\n",
       "      <td>15.80</td>\n",
       "      <td>2.5</td>\n",
       "    </tr>\n",
       "    <tr>\n",
       "      <th>3</th>\n",
       "      <td>2</td>\n",
       "      <td>2019-10-23T16:22:44.000</td>\n",
       "      <td>2019-10-23T16:43:26.000</td>\n",
       "      <td>1</td>\n",
       "      <td>1.00</td>\n",
       "      <td>1</td>\n",
       "      <td>N</td>\n",
       "      <td>170</td>\n",
       "      <td>163</td>\n",
       "      <td>1</td>\n",
       "      <td>13.0</td>\n",
       "      <td>1.0</td>\n",
       "      <td>0.5</td>\n",
       "      <td>4.32</td>\n",
       "      <td>0.00</td>\n",
       "      <td>0.3</td>\n",
       "      <td>21.62</td>\n",
       "      <td>2.5</td>\n",
       "    </tr>\n",
       "    <tr>\n",
       "      <th>4</th>\n",
       "      <td>2</td>\n",
       "      <td>2019-10-23T16:45:11.000</td>\n",
       "      <td>2019-10-23T16:58:49.000</td>\n",
       "      <td>1</td>\n",
       "      <td>1.96</td>\n",
       "      <td>1</td>\n",
       "      <td>N</td>\n",
       "      <td>163</td>\n",
       "      <td>236</td>\n",
       "      <td>1</td>\n",
       "      <td>10.5</td>\n",
       "      <td>1.0</td>\n",
       "      <td>0.5</td>\n",
       "      <td>0.50</td>\n",
       "      <td>0.00</td>\n",
       "      <td>0.3</td>\n",
       "      <td>15.30</td>\n",
       "      <td>2.5</td>\n",
       "    </tr>\n",
       "  </tbody>\n",
       "</table>\n",
       "</div>"
      ],
      "text/plain": [
       "   vendorid     tpep_pickup_datetime    tpep_dropoff_datetime   \n",
       "0         2  2019-10-23T16:39:42.000  2019-10-23T17:14:10.000  \\\n",
       "1         1  2019-10-23T16:32:08.000  2019-10-23T16:45:26.000   \n",
       "2         2  2019-10-23T16:08:44.000  2019-10-23T16:21:11.000   \n",
       "3         2  2019-10-23T16:22:44.000  2019-10-23T16:43:26.000   \n",
       "4         2  2019-10-23T16:45:11.000  2019-10-23T16:58:49.000   \n",
       "\n",
       "   passenger_count  trip_distance  ratecodeid store_and_fwd_flag   \n",
       "0                1           7.93           1                  N  \\\n",
       "1                1           2.00           1                  N   \n",
       "2                1           1.36           1                  N   \n",
       "3                1           1.00           1                  N   \n",
       "4                1           1.96           1                  N   \n",
       "\n",
       "   pulocationid  dolocationid  payment_type  fare_amount  extra  mta_tax   \n",
       "0           138           170             1         29.5    1.0      0.5  \\\n",
       "1            11            26             1         10.5    1.0      0.5   \n",
       "2           163           162             1          9.5    1.0      0.5   \n",
       "3           170           163             1         13.0    1.0      0.5   \n",
       "4           163           236             1         10.5    1.0      0.5   \n",
       "\n",
       "   tip_amount  tolls_amount  improvement_surcharge  total_amount   \n",
       "0        7.98          6.12                    0.3         47.90  \\\n",
       "1        0.00          0.00                    0.3         12.30   \n",
       "2        2.00          0.00                    0.3         15.80   \n",
       "3        4.32          0.00                    0.3         21.62   \n",
       "4        0.50          0.00                    0.3         15.30   \n",
       "\n",
       "   congestion_surcharge  \n",
       "0                   2.5  \n",
       "1                   0.0  \n",
       "2                   2.5  \n",
       "3                   2.5  \n",
       "4                   2.5  "
      ]
     },
     "execution_count": 1,
     "metadata": {},
     "output_type": "execute_result"
    }
   ],
   "source": [
    "import pandas as pd\n",
    "\n",
    "taxis = pd.read_csv('../data/2019_Yellow_Taxi_Trip_Data.csv')\n",
    "taxis.head()"
   ]
  },
  {
   "cell_type": "markdown",
   "id": "d65aa6c3-092a-4ed9-95aa-57e8ec41e131",
   "metadata": {},
   "source": [
    "*Source: [NYC Open Data](https://data.cityofnewyork.us/Transportation/2019-Yellow-Taxi-Trip-Data/2upf-qytp) collected via [SODA](https://dev.socrata.com/foundry/data.cityofnewyork.us/2upf-qytp).*"
   ]
  },
  {
   "cell_type": "markdown",
   "id": "79315a59-bc5b-4bd2-a25a-8f2de24217e2",
   "metadata": {
    "slideshow": {
     "slide_type": "subslide"
    },
    "tags": []
   },
   "source": [
    "### Dropping columns\n",
    "Let's start by dropping the ID columns and the `store_and_fwd_flag` column, which we won't be using."
   ]
  },
  {
   "cell_type": "code",
   "execution_count": 2,
   "id": "e782b52c-dc8c-4aac-ba6d-f3b3cd7b5f2c",
   "metadata": {
    "slideshow": {
     "slide_type": "fragment"
    },
    "tags": []
   },
   "outputs": [
    {
     "data": {
      "text/plain": [
       "Index(['vendorid', 'ratecodeid', 'store_and_fwd_flag', 'pulocationid',\n",
       "       'dolocationid'],\n",
       "      dtype='object')"
      ]
     },
     "execution_count": 2,
     "metadata": {},
     "output_type": "execute_result"
    }
   ],
   "source": [
    "mask = taxis.columns.str.contains('id$|store_and_fwd_flag', regex=True)\n",
    "columns_to_drop = taxis.columns[mask]\n",
    "columns_to_drop"
   ]
  },
  {
   "cell_type": "code",
   "execution_count": 3,
   "id": "bc0652f8-87af-43dd-82d0-07ba120b05f8",
   "metadata": {
    "slideshow": {
     "slide_type": "subslide"
    },
    "tags": []
   },
   "outputs": [
    {
     "data": {
      "text/html": [
       "<div>\n",
       "<style scoped>\n",
       "    .dataframe tbody tr th:only-of-type {\n",
       "        vertical-align: middle;\n",
       "    }\n",
       "\n",
       "    .dataframe tbody tr th {\n",
       "        vertical-align: top;\n",
       "    }\n",
       "\n",
       "    .dataframe thead th {\n",
       "        text-align: right;\n",
       "    }\n",
       "</style>\n",
       "<table border=\"1\" class=\"dataframe\">\n",
       "  <thead>\n",
       "    <tr style=\"text-align: right;\">\n",
       "      <th></th>\n",
       "      <th>tpep_pickup_datetime</th>\n",
       "      <th>tpep_dropoff_datetime</th>\n",
       "      <th>passenger_count</th>\n",
       "      <th>trip_distance</th>\n",
       "      <th>payment_type</th>\n",
       "      <th>fare_amount</th>\n",
       "      <th>extra</th>\n",
       "      <th>mta_tax</th>\n",
       "      <th>tip_amount</th>\n",
       "      <th>tolls_amount</th>\n",
       "      <th>improvement_surcharge</th>\n",
       "      <th>total_amount</th>\n",
       "      <th>congestion_surcharge</th>\n",
       "    </tr>\n",
       "  </thead>\n",
       "  <tbody>\n",
       "    <tr>\n",
       "      <th>0</th>\n",
       "      <td>2019-10-23T16:39:42.000</td>\n",
       "      <td>2019-10-23T17:14:10.000</td>\n",
       "      <td>1</td>\n",
       "      <td>7.93</td>\n",
       "      <td>1</td>\n",
       "      <td>29.5</td>\n",
       "      <td>1.0</td>\n",
       "      <td>0.5</td>\n",
       "      <td>7.98</td>\n",
       "      <td>6.12</td>\n",
       "      <td>0.3</td>\n",
       "      <td>47.90</td>\n",
       "      <td>2.5</td>\n",
       "    </tr>\n",
       "    <tr>\n",
       "      <th>1</th>\n",
       "      <td>2019-10-23T16:32:08.000</td>\n",
       "      <td>2019-10-23T16:45:26.000</td>\n",
       "      <td>1</td>\n",
       "      <td>2.00</td>\n",
       "      <td>1</td>\n",
       "      <td>10.5</td>\n",
       "      <td>1.0</td>\n",
       "      <td>0.5</td>\n",
       "      <td>0.00</td>\n",
       "      <td>0.00</td>\n",
       "      <td>0.3</td>\n",
       "      <td>12.30</td>\n",
       "      <td>0.0</td>\n",
       "    </tr>\n",
       "    <tr>\n",
       "      <th>2</th>\n",
       "      <td>2019-10-23T16:08:44.000</td>\n",
       "      <td>2019-10-23T16:21:11.000</td>\n",
       "      <td>1</td>\n",
       "      <td>1.36</td>\n",
       "      <td>1</td>\n",
       "      <td>9.5</td>\n",
       "      <td>1.0</td>\n",
       "      <td>0.5</td>\n",
       "      <td>2.00</td>\n",
       "      <td>0.00</td>\n",
       "      <td>0.3</td>\n",
       "      <td>15.80</td>\n",
       "      <td>2.5</td>\n",
       "    </tr>\n",
       "    <tr>\n",
       "      <th>3</th>\n",
       "      <td>2019-10-23T16:22:44.000</td>\n",
       "      <td>2019-10-23T16:43:26.000</td>\n",
       "      <td>1</td>\n",
       "      <td>1.00</td>\n",
       "      <td>1</td>\n",
       "      <td>13.0</td>\n",
       "      <td>1.0</td>\n",
       "      <td>0.5</td>\n",
       "      <td>4.32</td>\n",
       "      <td>0.00</td>\n",
       "      <td>0.3</td>\n",
       "      <td>21.62</td>\n",
       "      <td>2.5</td>\n",
       "    </tr>\n",
       "    <tr>\n",
       "      <th>4</th>\n",
       "      <td>2019-10-23T16:45:11.000</td>\n",
       "      <td>2019-10-23T16:58:49.000</td>\n",
       "      <td>1</td>\n",
       "      <td>1.96</td>\n",
       "      <td>1</td>\n",
       "      <td>10.5</td>\n",
       "      <td>1.0</td>\n",
       "      <td>0.5</td>\n",
       "      <td>0.50</td>\n",
       "      <td>0.00</td>\n",
       "      <td>0.3</td>\n",
       "      <td>15.30</td>\n",
       "      <td>2.5</td>\n",
       "    </tr>\n",
       "  </tbody>\n",
       "</table>\n",
       "</div>"
      ],
      "text/plain": [
       "      tpep_pickup_datetime    tpep_dropoff_datetime  passenger_count   \n",
       "0  2019-10-23T16:39:42.000  2019-10-23T17:14:10.000                1  \\\n",
       "1  2019-10-23T16:32:08.000  2019-10-23T16:45:26.000                1   \n",
       "2  2019-10-23T16:08:44.000  2019-10-23T16:21:11.000                1   \n",
       "3  2019-10-23T16:22:44.000  2019-10-23T16:43:26.000                1   \n",
       "4  2019-10-23T16:45:11.000  2019-10-23T16:58:49.000                1   \n",
       "\n",
       "   trip_distance  payment_type  fare_amount  extra  mta_tax  tip_amount   \n",
       "0           7.93             1         29.5    1.0      0.5        7.98  \\\n",
       "1           2.00             1         10.5    1.0      0.5        0.00   \n",
       "2           1.36             1          9.5    1.0      0.5        2.00   \n",
       "3           1.00             1         13.0    1.0      0.5        4.32   \n",
       "4           1.96             1         10.5    1.0      0.5        0.50   \n",
       "\n",
       "   tolls_amount  improvement_surcharge  total_amount  congestion_surcharge  \n",
       "0          6.12                    0.3         47.90                   2.5  \n",
       "1          0.00                    0.3         12.30                   0.0  \n",
       "2          0.00                    0.3         15.80                   2.5  \n",
       "3          0.00                    0.3         21.62                   2.5  \n",
       "4          0.00                    0.3         15.30                   2.5  "
      ]
     },
     "execution_count": 3,
     "metadata": {},
     "output_type": "execute_result"
    }
   ],
   "source": [
    "taxis = taxis.drop(columns=columns_to_drop)\n",
    "taxis.head()"
   ]
  },
  {
   "cell_type": "markdown",
   "id": "b6581776-8391-41a3-a7fa-c65af402da77",
   "metadata": {
    "slideshow": {
     "slide_type": "fragment"
    },
    "tags": []
   },
   "source": [
    "*Tip: Another way to do this is to select the columns we want to keep: `taxis.loc[:,~mask]`.*"
   ]
  },
  {
   "cell_type": "markdown",
   "id": "23cc920e-4af6-456b-a0ce-87ade2b189ac",
   "metadata": {
    "slideshow": {
     "slide_type": "subslide"
    },
    "tags": []
   },
   "source": [
    "### Renaming columns\n",
    "\n",
    "Next, let's rename the datetime columns:"
   ]
  },
  {
   "cell_type": "code",
   "execution_count": 4,
   "id": "32ec2dc4-c8c3-424d-ae36-d732907b9f59",
   "metadata": {},
   "outputs": [
    {
     "data": {
      "text/plain": [
       "Index(['pickup', 'dropoff', 'passenger_count', 'trip_distance', 'payment_type',\n",
       "       'fare_amount', 'extra', 'mta_tax', 'tip_amount', 'tolls_amount',\n",
       "       'improvement_surcharge', 'total_amount', 'congestion_surcharge'],\n",
       "      dtype='object')"
      ]
     },
     "execution_count": 4,
     "metadata": {},
     "output_type": "execute_result"
    }
   ],
   "source": [
    "taxis = taxis.rename(\n",
    "    columns={\n",
    "        'tpep_pickup_datetime': 'pickup', \n",
    "        'tpep_dropoff_datetime': 'dropoff'\n",
    "    }\n",
    ")\n",
    "taxis.columns"
   ]
  },
  {
   "cell_type": "markdown",
   "id": "d74d21a8-d733-4afa-a140-29ccdcd83b46",
   "metadata": {
    "slideshow": {
     "slide_type": "subslide"
    },
    "tags": []
   },
   "source": [
    "### Type conversion\n",
    "\n",
    "Notice anything off with the data types?"
   ]
  },
  {
   "cell_type": "code",
   "execution_count": 5,
   "id": "b5ff546c-4a66-4102-b947-1d9147e89369",
   "metadata": {},
   "outputs": [
    {
     "data": {
      "text/plain": [
       "pickup                    object\n",
       "dropoff                   object\n",
       "passenger_count            int64\n",
       "trip_distance            float64\n",
       "payment_type               int64\n",
       "fare_amount              float64\n",
       "extra                    float64\n",
       "mta_tax                  float64\n",
       "tip_amount               float64\n",
       "tolls_amount             float64\n",
       "improvement_surcharge    float64\n",
       "total_amount             float64\n",
       "congestion_surcharge     float64\n",
       "dtype: object"
      ]
     },
     "execution_count": 5,
     "metadata": {},
     "output_type": "execute_result"
    }
   ],
   "source": [
    "taxis.dtypes"
   ]
  },
  {
   "cell_type": "markdown",
   "id": "fa644cbb-24dd-4a62-a350-f773c54c50fe",
   "metadata": {
    "slideshow": {
     "slide_type": "subslide"
    },
    "tags": []
   },
   "source": [
    "Both `pickup` and `dropoff` should be stored as datetimes. Let's fix this:"
   ]
  },
  {
   "cell_type": "code",
   "execution_count": 2,
   "id": "01299409-aace-4d41-bea5-7bd40a85e620",
   "metadata": {},
   "outputs": [
    {
     "ename": "NameError",
     "evalue": "name 'taxis' is not defined",
     "output_type": "error",
     "traceback": [
      "\u001b[0;31m---------------------------------------------------------------------------\u001b[0m",
      "\u001b[0;31mNameError\u001b[0m                                 Traceback (most recent call last)",
      "Cell \u001b[0;32mIn[2], line 2\u001b[0m\n\u001b[1;32m      1\u001b[0m taxis[[\u001b[38;5;124m'\u001b[39m\u001b[38;5;124mpickup\u001b[39m\u001b[38;5;124m'\u001b[39m, \u001b[38;5;124m'\u001b[39m\u001b[38;5;124mdropoff\u001b[39m\u001b[38;5;124m'\u001b[39m]] \u001b[38;5;241m=\u001b[39m \\\n\u001b[0;32m----> 2\u001b[0m     \u001b[43mtaxis\u001b[49m[[\u001b[38;5;124m'\u001b[39m\u001b[38;5;124mpickup\u001b[39m\u001b[38;5;124m'\u001b[39m, \u001b[38;5;124m'\u001b[39m\u001b[38;5;124mdropoff\u001b[39m\u001b[38;5;124m'\u001b[39m]]\u001b[38;5;241m.\u001b[39mapply(pd\u001b[38;5;241m.\u001b[39mto_datetime)\n\u001b[1;32m      3\u001b[0m taxis\u001b[38;5;241m.\u001b[39mdtypes\n",
      "\u001b[0;31mNameError\u001b[0m: name 'taxis' is not defined"
     ]
    }
   ],
   "source": [
    "taxis[['pickup', 'dropoff']] = \\\n",
    "    taxis[['pickup', 'dropoff']].apply(pd.to_datetime)\n",
    "taxis.dtypes"
   ]
  },
  {
   "cell_type": "markdown",
   "id": "837ea457-45d8-4dae-aa0e-746be381f4da",
   "metadata": {},
   "source": [
    "*Tip: There are other ways to perform type conversion. For numeric values, we can use the `pd.to_numeric()` function, and we will see the `astype()` method, which is a more generic method, a little later.*"
   ]
  },
  {
   "cell_type": "markdown",
   "id": "5a8fafca-8cf2-4402-ab34-758dabe955e2",
   "metadata": {
    "slideshow": {
     "slide_type": "subslide"
    },
    "tags": []
   },
   "source": [
    "### Creating new columns\n",
    "\n",
    "Let's calculate the following for each row:\n",
    "\n",
    "1. elapsed time of the trip\n",
    "2. the tip percentage\n",
    "3. the total taxes, tolls, fees, and surcharges\n",
    "4. the average speed of the taxi"
   ]
  },
  {
   "cell_type": "code",
   "execution_count": 7,
   "id": "644ba83f-f834-4296-971e-5e7b07b955a8",
   "metadata": {
    "slideshow": {
     "slide_type": "fragment"
    },
    "tags": []
   },
   "outputs": [],
   "source": [
    "taxis = taxis.assign(\n",
    "    elapsed_time=lambda x: x.dropoff - x.pickup, # 1\n",
    "    cost_before_tip=lambda x: x.total_amount - x.tip_amount,\n",
    "    tip_pct=lambda x: x.tip_amount / x.cost_before_tip, # 2\n",
    "    fees=lambda x: x.cost_before_tip - x.fare_amount, # 3\n",
    "    avg_speed=lambda x: x.trip_distance.div(\n",
    "        x.elapsed_time.dt.total_seconds() / 60 / 60\n",
    "    ) # 4\n",
    ")"
   ]
  },
  {
   "cell_type": "markdown",
   "id": "8d2cabea-d370-4ea9-951a-a22290fe182f",
   "metadata": {},
   "source": [
    "*Tip: New to `lambda` functions? These small, anonymous functions can receive multiple arguments, but can only contain one expression (the return value). You will see these a lot in pandas code. Read more about them [here](https://realpython.com/python-lambda/).*"
   ]
  },
  {
   "cell_type": "markdown",
   "id": "b0b2af8a-0727-4e08-a07d-64ddb73a71dd",
   "metadata": {
    "slideshow": {
     "slide_type": "subslide"
    },
    "tags": []
   },
   "source": [
    "Our new columns get added to the right:"
   ]
  },
  {
   "cell_type": "code",
   "execution_count": 8,
   "id": "ec0a2df8-4f40-4bb0-8cd8-0f558d218fd6",
   "metadata": {},
   "outputs": [
    {
     "data": {
      "text/html": [
       "<div>\n",
       "<style scoped>\n",
       "    .dataframe tbody tr th:only-of-type {\n",
       "        vertical-align: middle;\n",
       "    }\n",
       "\n",
       "    .dataframe tbody tr th {\n",
       "        vertical-align: top;\n",
       "    }\n",
       "\n",
       "    .dataframe thead th {\n",
       "        text-align: right;\n",
       "    }\n",
       "</style>\n",
       "<table border=\"1\" class=\"dataframe\">\n",
       "  <thead>\n",
       "    <tr style=\"text-align: right;\">\n",
       "      <th></th>\n",
       "      <th>pickup</th>\n",
       "      <th>dropoff</th>\n",
       "      <th>passenger_count</th>\n",
       "      <th>trip_distance</th>\n",
       "      <th>payment_type</th>\n",
       "      <th>fare_amount</th>\n",
       "      <th>extra</th>\n",
       "      <th>mta_tax</th>\n",
       "      <th>tip_amount</th>\n",
       "      <th>tolls_amount</th>\n",
       "      <th>improvement_surcharge</th>\n",
       "      <th>total_amount</th>\n",
       "      <th>congestion_surcharge</th>\n",
       "      <th>elapsed_time</th>\n",
       "      <th>cost_before_tip</th>\n",
       "      <th>tip_pct</th>\n",
       "      <th>fees</th>\n",
       "      <th>avg_speed</th>\n",
       "    </tr>\n",
       "  </thead>\n",
       "  <tbody>\n",
       "    <tr>\n",
       "      <th>0</th>\n",
       "      <td>2019-10-23 16:39:42</td>\n",
       "      <td>2019-10-23 17:14:10</td>\n",
       "      <td>1</td>\n",
       "      <td>7.93</td>\n",
       "      <td>1</td>\n",
       "      <td>29.5</td>\n",
       "      <td>1.0</td>\n",
       "      <td>0.5</td>\n",
       "      <td>7.98</td>\n",
       "      <td>6.12</td>\n",
       "      <td>0.3</td>\n",
       "      <td>47.9</td>\n",
       "      <td>2.5</td>\n",
       "      <td>0 days 00:34:28</td>\n",
       "      <td>39.92</td>\n",
       "      <td>0.1999</td>\n",
       "      <td>10.42</td>\n",
       "      <td>13.804642</td>\n",
       "    </tr>\n",
       "    <tr>\n",
       "      <th>1</th>\n",
       "      <td>2019-10-23 16:32:08</td>\n",
       "      <td>2019-10-23 16:45:26</td>\n",
       "      <td>1</td>\n",
       "      <td>2.00</td>\n",
       "      <td>1</td>\n",
       "      <td>10.5</td>\n",
       "      <td>1.0</td>\n",
       "      <td>0.5</td>\n",
       "      <td>0.00</td>\n",
       "      <td>0.00</td>\n",
       "      <td>0.3</td>\n",
       "      <td>12.3</td>\n",
       "      <td>0.0</td>\n",
       "      <td>0 days 00:13:18</td>\n",
       "      <td>12.30</td>\n",
       "      <td>0.0000</td>\n",
       "      <td>1.80</td>\n",
       "      <td>9.022556</td>\n",
       "    </tr>\n",
       "  </tbody>\n",
       "</table>\n",
       "</div>"
      ],
      "text/plain": [
       "               pickup             dropoff  passenger_count  trip_distance   \n",
       "0 2019-10-23 16:39:42 2019-10-23 17:14:10                1           7.93  \\\n",
       "1 2019-10-23 16:32:08 2019-10-23 16:45:26                1           2.00   \n",
       "\n",
       "   payment_type  fare_amount  extra  mta_tax  tip_amount  tolls_amount   \n",
       "0             1         29.5    1.0      0.5        7.98          6.12  \\\n",
       "1             1         10.5    1.0      0.5        0.00          0.00   \n",
       "\n",
       "   improvement_surcharge  total_amount  congestion_surcharge    elapsed_time   \n",
       "0                    0.3          47.9                   2.5 0 days 00:34:28  \\\n",
       "1                    0.3          12.3                   0.0 0 days 00:13:18   \n",
       "\n",
       "   cost_before_tip  tip_pct   fees  avg_speed  \n",
       "0            39.92   0.1999  10.42  13.804642  \n",
       "1            12.30   0.0000   1.80   9.022556  "
      ]
     },
     "execution_count": 8,
     "metadata": {},
     "output_type": "execute_result"
    }
   ],
   "source": [
    "taxis.head(2)"
   ]
  },
  {
   "cell_type": "markdown",
   "id": "15049dfd-dd9e-4365-8ecf-0a74f5fe3498",
   "metadata": {
    "slideshow": {
     "slide_type": "fragment"
    },
    "tags": []
   },
   "source": [
    "Some things to note:\n",
    "- We used `lambda` functions to 1) avoid typing `taxis` repeatedly and 2) be able to access the `cost_before_tip` and `elapsed_time` columns in the same method that we create them.\n",
    "- To create a single new column, we can also use `df['new_col'] = <values>`."
   ]
  },
  {
   "cell_type": "markdown",
   "id": "f1ebce53-9f31-4aa0-806d-a1a9fa43ece1",
   "metadata": {
    "slideshow": {
     "slide_type": "subslide"
    },
    "tags": []
   },
   "source": [
    "### Sorting by values\n",
    "\n",
    "We can use the `sort_values()` method to sort based on any number of columns:"
   ]
  },
  {
   "cell_type": "code",
   "execution_count": 9,
   "id": "77dbdd94-e6b7-4fb9-b6b1-718633b0a38a",
   "metadata": {},
   "outputs": [
    {
     "data": {
      "text/html": [
       "<div>\n",
       "<style scoped>\n",
       "    .dataframe tbody tr th:only-of-type {\n",
       "        vertical-align: middle;\n",
       "    }\n",
       "\n",
       "    .dataframe tbody tr th {\n",
       "        vertical-align: top;\n",
       "    }\n",
       "\n",
       "    .dataframe thead th {\n",
       "        text-align: right;\n",
       "    }\n",
       "</style>\n",
       "<table border=\"1\" class=\"dataframe\">\n",
       "  <thead>\n",
       "    <tr style=\"text-align: right;\">\n",
       "      <th></th>\n",
       "      <th>pickup</th>\n",
       "      <th>dropoff</th>\n",
       "      <th>passenger_count</th>\n",
       "      <th>trip_distance</th>\n",
       "      <th>payment_type</th>\n",
       "      <th>fare_amount</th>\n",
       "      <th>extra</th>\n",
       "      <th>mta_tax</th>\n",
       "      <th>tip_amount</th>\n",
       "      <th>tolls_amount</th>\n",
       "      <th>improvement_surcharge</th>\n",
       "      <th>total_amount</th>\n",
       "      <th>congestion_surcharge</th>\n",
       "      <th>elapsed_time</th>\n",
       "      <th>cost_before_tip</th>\n",
       "      <th>tip_pct</th>\n",
       "      <th>fees</th>\n",
       "      <th>avg_speed</th>\n",
       "    </tr>\n",
       "  </thead>\n",
       "  <tbody>\n",
       "    <tr>\n",
       "      <th>5997</th>\n",
       "      <td>2019-10-23 15:55:19</td>\n",
       "      <td>2019-10-23 16:08:25</td>\n",
       "      <td>6</td>\n",
       "      <td>1.58</td>\n",
       "      <td>2</td>\n",
       "      <td>10.0</td>\n",
       "      <td>1.0</td>\n",
       "      <td>0.5</td>\n",
       "      <td>0.0</td>\n",
       "      <td>0.0</td>\n",
       "      <td>0.3</td>\n",
       "      <td>14.3</td>\n",
       "      <td>2.5</td>\n",
       "      <td>0 days 00:13:06</td>\n",
       "      <td>14.3</td>\n",
       "      <td>0.000000</td>\n",
       "      <td>4.3</td>\n",
       "      <td>7.236641</td>\n",
       "    </tr>\n",
       "    <tr>\n",
       "      <th>443</th>\n",
       "      <td>2019-10-23 15:56:59</td>\n",
       "      <td>2019-10-23 16:04:33</td>\n",
       "      <td>6</td>\n",
       "      <td>1.46</td>\n",
       "      <td>2</td>\n",
       "      <td>7.5</td>\n",
       "      <td>1.0</td>\n",
       "      <td>0.5</td>\n",
       "      <td>0.0</td>\n",
       "      <td>0.0</td>\n",
       "      <td>0.3</td>\n",
       "      <td>11.8</td>\n",
       "      <td>2.5</td>\n",
       "      <td>0 days 00:07:34</td>\n",
       "      <td>11.8</td>\n",
       "      <td>0.000000</td>\n",
       "      <td>4.3</td>\n",
       "      <td>11.577093</td>\n",
       "    </tr>\n",
       "    <tr>\n",
       "      <th>8722</th>\n",
       "      <td>2019-10-23 15:57:33</td>\n",
       "      <td>2019-10-23 16:03:34</td>\n",
       "      <td>6</td>\n",
       "      <td>0.62</td>\n",
       "      <td>1</td>\n",
       "      <td>5.5</td>\n",
       "      <td>1.0</td>\n",
       "      <td>0.5</td>\n",
       "      <td>0.7</td>\n",
       "      <td>0.0</td>\n",
       "      <td>0.3</td>\n",
       "      <td>10.5</td>\n",
       "      <td>2.5</td>\n",
       "      <td>0 days 00:06:01</td>\n",
       "      <td>9.8</td>\n",
       "      <td>0.071429</td>\n",
       "      <td>4.3</td>\n",
       "      <td>6.182825</td>\n",
       "    </tr>\n",
       "    <tr>\n",
       "      <th>4198</th>\n",
       "      <td>2019-10-23 15:57:38</td>\n",
       "      <td>2019-10-23 16:05:07</td>\n",
       "      <td>6</td>\n",
       "      <td>1.18</td>\n",
       "      <td>1</td>\n",
       "      <td>7.0</td>\n",
       "      <td>1.0</td>\n",
       "      <td>0.5</td>\n",
       "      <td>1.0</td>\n",
       "      <td>0.0</td>\n",
       "      <td>0.3</td>\n",
       "      <td>12.3</td>\n",
       "      <td>2.5</td>\n",
       "      <td>0 days 00:07:29</td>\n",
       "      <td>11.3</td>\n",
       "      <td>0.088496</td>\n",
       "      <td>4.3</td>\n",
       "      <td>9.461024</td>\n",
       "    </tr>\n",
       "    <tr>\n",
       "      <th>8238</th>\n",
       "      <td>2019-10-23 15:58:31</td>\n",
       "      <td>2019-10-23 16:29:29</td>\n",
       "      <td>6</td>\n",
       "      <td>3.23</td>\n",
       "      <td>2</td>\n",
       "      <td>19.5</td>\n",
       "      <td>1.0</td>\n",
       "      <td>0.5</td>\n",
       "      <td>0.0</td>\n",
       "      <td>0.0</td>\n",
       "      <td>0.3</td>\n",
       "      <td>23.8</td>\n",
       "      <td>2.5</td>\n",
       "      <td>0 days 00:30:58</td>\n",
       "      <td>23.8</td>\n",
       "      <td>0.000000</td>\n",
       "      <td>4.3</td>\n",
       "      <td>6.258342</td>\n",
       "    </tr>\n",
       "  </tbody>\n",
       "</table>\n",
       "</div>"
      ],
      "text/plain": [
       "                  pickup             dropoff  passenger_count  trip_distance   \n",
       "5997 2019-10-23 15:55:19 2019-10-23 16:08:25                6           1.58  \\\n",
       "443  2019-10-23 15:56:59 2019-10-23 16:04:33                6           1.46   \n",
       "8722 2019-10-23 15:57:33 2019-10-23 16:03:34                6           0.62   \n",
       "4198 2019-10-23 15:57:38 2019-10-23 16:05:07                6           1.18   \n",
       "8238 2019-10-23 15:58:31 2019-10-23 16:29:29                6           3.23   \n",
       "\n",
       "      payment_type  fare_amount  extra  mta_tax  tip_amount  tolls_amount   \n",
       "5997             2         10.0    1.0      0.5         0.0           0.0  \\\n",
       "443              2          7.5    1.0      0.5         0.0           0.0   \n",
       "8722             1          5.5    1.0      0.5         0.7           0.0   \n",
       "4198             1          7.0    1.0      0.5         1.0           0.0   \n",
       "8238             2         19.5    1.0      0.5         0.0           0.0   \n",
       "\n",
       "      improvement_surcharge  total_amount  congestion_surcharge   \n",
       "5997                    0.3          14.3                   2.5  \\\n",
       "443                     0.3          11.8                   2.5   \n",
       "8722                    0.3          10.5                   2.5   \n",
       "4198                    0.3          12.3                   2.5   \n",
       "8238                    0.3          23.8                   2.5   \n",
       "\n",
       "        elapsed_time  cost_before_tip   tip_pct  fees  avg_speed  \n",
       "5997 0 days 00:13:06             14.3  0.000000   4.3   7.236641  \n",
       "443  0 days 00:07:34             11.8  0.000000   4.3  11.577093  \n",
       "8722 0 days 00:06:01              9.8  0.071429   4.3   6.182825  \n",
       "4198 0 days 00:07:29             11.3  0.088496   4.3   9.461024  \n",
       "8238 0 days 00:30:58             23.8  0.000000   4.3   6.258342  "
      ]
     },
     "execution_count": 9,
     "metadata": {},
     "output_type": "execute_result"
    }
   ],
   "source": [
    "taxis.sort_values(['passenger_count', 'pickup'], ascending=[False, True]).head()"
   ]
  },
  {
   "cell_type": "markdown",
   "id": "e8d98a7c-7f12-43b7-9450-f0c0fa3162d3",
   "metadata": {
    "slideshow": {
     "slide_type": "subslide"
    },
    "tags": []
   },
   "source": [
    "To pick out the largest/smallest rows, use `nlargest()` / `nsmallest()` instead. Looking at the 3 trips with the longest elapsed time, we see some possible data integrity issues:"
   ]
  },
  {
   "cell_type": "code",
   "execution_count": 10,
   "id": "e1a26519-acb9-49e5-af1c-f5b055413bf8",
   "metadata": {},
   "outputs": [
    {
     "data": {
      "text/html": [
       "<div>\n",
       "<style scoped>\n",
       "    .dataframe tbody tr th:only-of-type {\n",
       "        vertical-align: middle;\n",
       "    }\n",
       "\n",
       "    .dataframe tbody tr th {\n",
       "        vertical-align: top;\n",
       "    }\n",
       "\n",
       "    .dataframe thead th {\n",
       "        text-align: right;\n",
       "    }\n",
       "</style>\n",
       "<table border=\"1\" class=\"dataframe\">\n",
       "  <thead>\n",
       "    <tr style=\"text-align: right;\">\n",
       "      <th></th>\n",
       "      <th>pickup</th>\n",
       "      <th>dropoff</th>\n",
       "      <th>passenger_count</th>\n",
       "      <th>trip_distance</th>\n",
       "      <th>payment_type</th>\n",
       "      <th>fare_amount</th>\n",
       "      <th>extra</th>\n",
       "      <th>mta_tax</th>\n",
       "      <th>tip_amount</th>\n",
       "      <th>tolls_amount</th>\n",
       "      <th>improvement_surcharge</th>\n",
       "      <th>total_amount</th>\n",
       "      <th>congestion_surcharge</th>\n",
       "      <th>elapsed_time</th>\n",
       "      <th>cost_before_tip</th>\n",
       "      <th>tip_pct</th>\n",
       "      <th>fees</th>\n",
       "      <th>avg_speed</th>\n",
       "    </tr>\n",
       "  </thead>\n",
       "  <tbody>\n",
       "    <tr>\n",
       "      <th>7576</th>\n",
       "      <td>2019-10-23 16:52:51</td>\n",
       "      <td>2019-10-24 16:51:44</td>\n",
       "      <td>1</td>\n",
       "      <td>3.75</td>\n",
       "      <td>1</td>\n",
       "      <td>17.5</td>\n",
       "      <td>1.0</td>\n",
       "      <td>0.5</td>\n",
       "      <td>0.0</td>\n",
       "      <td>0.0</td>\n",
       "      <td>0.3</td>\n",
       "      <td>21.8</td>\n",
       "      <td>2.5</td>\n",
       "      <td>0 days 23:58:53</td>\n",
       "      <td>21.8</td>\n",
       "      <td>0.0</td>\n",
       "      <td>4.3</td>\n",
       "      <td>0.156371</td>\n",
       "    </tr>\n",
       "    <tr>\n",
       "      <th>6902</th>\n",
       "      <td>2019-10-23 16:51:42</td>\n",
       "      <td>2019-10-24 16:50:22</td>\n",
       "      <td>1</td>\n",
       "      <td>11.19</td>\n",
       "      <td>2</td>\n",
       "      <td>39.5</td>\n",
       "      <td>1.0</td>\n",
       "      <td>0.5</td>\n",
       "      <td>0.0</td>\n",
       "      <td>0.0</td>\n",
       "      <td>0.3</td>\n",
       "      <td>41.3</td>\n",
       "      <td>0.0</td>\n",
       "      <td>0 days 23:58:40</td>\n",
       "      <td>41.3</td>\n",
       "      <td>0.0</td>\n",
       "      <td>1.8</td>\n",
       "      <td>0.466682</td>\n",
       "    </tr>\n",
       "    <tr>\n",
       "      <th>4975</th>\n",
       "      <td>2019-10-23 16:18:51</td>\n",
       "      <td>2019-10-24 16:17:30</td>\n",
       "      <td>1</td>\n",
       "      <td>0.70</td>\n",
       "      <td>2</td>\n",
       "      <td>7.0</td>\n",
       "      <td>1.0</td>\n",
       "      <td>0.5</td>\n",
       "      <td>0.0</td>\n",
       "      <td>0.0</td>\n",
       "      <td>0.3</td>\n",
       "      <td>11.3</td>\n",
       "      <td>2.5</td>\n",
       "      <td>0 days 23:58:39</td>\n",
       "      <td>11.3</td>\n",
       "      <td>0.0</td>\n",
       "      <td>4.3</td>\n",
       "      <td>0.029194</td>\n",
       "    </tr>\n",
       "  </tbody>\n",
       "</table>\n",
       "</div>"
      ],
      "text/plain": [
       "                  pickup             dropoff  passenger_count  trip_distance   \n",
       "7576 2019-10-23 16:52:51 2019-10-24 16:51:44                1           3.75  \\\n",
       "6902 2019-10-23 16:51:42 2019-10-24 16:50:22                1          11.19   \n",
       "4975 2019-10-23 16:18:51 2019-10-24 16:17:30                1           0.70   \n",
       "\n",
       "      payment_type  fare_amount  extra  mta_tax  tip_amount  tolls_amount   \n",
       "7576             1         17.5    1.0      0.5         0.0           0.0  \\\n",
       "6902             2         39.5    1.0      0.5         0.0           0.0   \n",
       "4975             2          7.0    1.0      0.5         0.0           0.0   \n",
       "\n",
       "      improvement_surcharge  total_amount  congestion_surcharge   \n",
       "7576                    0.3          21.8                   2.5  \\\n",
       "6902                    0.3          41.3                   0.0   \n",
       "4975                    0.3          11.3                   2.5   \n",
       "\n",
       "        elapsed_time  cost_before_tip  tip_pct  fees  avg_speed  \n",
       "7576 0 days 23:58:53             21.8      0.0   4.3   0.156371  \n",
       "6902 0 days 23:58:40             41.3      0.0   1.8   0.466682  \n",
       "4975 0 days 23:58:39             11.3      0.0   4.3   0.029194  "
      ]
     },
     "execution_count": 10,
     "metadata": {},
     "output_type": "execute_result"
    }
   ],
   "source": [
    "taxis.nlargest(3, 'elapsed_time')"
   ]
  },
  {
   "cell_type": "markdown",
   "id": "fbe64c0c-41ab-4fd0-99b0-4f97790c87b8",
   "metadata": {},
   "source": [
    "### [Exercise 2.1](./workbook.ipynb#Exercise-2.1)\n",
    "\n",
    "##### Read in the meteorite data from the `Meteorite_Landings.csv` file, rename the `mass (g)` column to `mass`, and drop all the latitude and longitude columns. Sort the result by mass in descending order."
   ]
  },
  {
   "cell_type": "code",
   "execution_count": 11,
   "id": "62bd241b-c87a-41e4-b87f-7a2336f4903e",
   "metadata": {},
   "outputs": [],
   "source": [
    "# Complete this exercise in the workbook.ipynb file\n",
    "# Click on `Exercise 2.1` above to open the workbook.ipynb file\n",
    "\n",
    "# WARNING: if you complete the exercise here, your cell numbers\n",
    "# for the rest of the training might not match the slides"
   ]
  },
  {
   "cell_type": "markdown",
   "id": "97d61c46-b1f4-4531-8a2c-0ac8fcce6007",
   "metadata": {
    "slideshow": {
     "slide_type": "slide"
    },
    "tags": []
   },
   "source": [
    "## Working with the index\n",
    "\n",
    "So far, we haven't really worked with the index because it's just been a row number; however, we can change the values we have in the index to access additional features of the pandas library."
   ]
  },
  {
   "cell_type": "markdown",
   "id": "cacbf64c-6356-4a2d-8a86-bd143d42914d",
   "metadata": {
    "slideshow": {
     "slide_type": "subslide"
    },
    "tags": []
   },
   "source": [
    "### Setting and sorting the index\n",
    "\n",
    "Currently, we have a RangeIndex, but we can switch to a DatetimeIndex by specifying a datetime column when calling `set_index()`:"
   ]
  },
  {
   "cell_type": "code",
   "execution_count": 12,
   "id": "223e2254-fef2-463f-841b-7b62e04cab4b",
   "metadata": {},
   "outputs": [
    {
     "data": {
      "text/html": [
       "<div>\n",
       "<style scoped>\n",
       "    .dataframe tbody tr th:only-of-type {\n",
       "        vertical-align: middle;\n",
       "    }\n",
       "\n",
       "    .dataframe tbody tr th {\n",
       "        vertical-align: top;\n",
       "    }\n",
       "\n",
       "    .dataframe thead th {\n",
       "        text-align: right;\n",
       "    }\n",
       "</style>\n",
       "<table border=\"1\" class=\"dataframe\">\n",
       "  <thead>\n",
       "    <tr style=\"text-align: right;\">\n",
       "      <th></th>\n",
       "      <th>dropoff</th>\n",
       "      <th>passenger_count</th>\n",
       "      <th>trip_distance</th>\n",
       "      <th>payment_type</th>\n",
       "      <th>fare_amount</th>\n",
       "      <th>extra</th>\n",
       "      <th>mta_tax</th>\n",
       "      <th>tip_amount</th>\n",
       "      <th>tolls_amount</th>\n",
       "      <th>improvement_surcharge</th>\n",
       "      <th>total_amount</th>\n",
       "      <th>congestion_surcharge</th>\n",
       "      <th>elapsed_time</th>\n",
       "      <th>cost_before_tip</th>\n",
       "      <th>tip_pct</th>\n",
       "      <th>fees</th>\n",
       "      <th>avg_speed</th>\n",
       "    </tr>\n",
       "    <tr>\n",
       "      <th>pickup</th>\n",
       "      <th></th>\n",
       "      <th></th>\n",
       "      <th></th>\n",
       "      <th></th>\n",
       "      <th></th>\n",
       "      <th></th>\n",
       "      <th></th>\n",
       "      <th></th>\n",
       "      <th></th>\n",
       "      <th></th>\n",
       "      <th></th>\n",
       "      <th></th>\n",
       "      <th></th>\n",
       "      <th></th>\n",
       "      <th></th>\n",
       "      <th></th>\n",
       "      <th></th>\n",
       "    </tr>\n",
       "  </thead>\n",
       "  <tbody>\n",
       "    <tr>\n",
       "      <th>2019-10-23 16:39:42</th>\n",
       "      <td>2019-10-23 17:14:10</td>\n",
       "      <td>1</td>\n",
       "      <td>7.93</td>\n",
       "      <td>1</td>\n",
       "      <td>29.5</td>\n",
       "      <td>1.0</td>\n",
       "      <td>0.5</td>\n",
       "      <td>7.98</td>\n",
       "      <td>6.12</td>\n",
       "      <td>0.3</td>\n",
       "      <td>47.9</td>\n",
       "      <td>2.5</td>\n",
       "      <td>0 days 00:34:28</td>\n",
       "      <td>39.92</td>\n",
       "      <td>0.199900</td>\n",
       "      <td>10.42</td>\n",
       "      <td>13.804642</td>\n",
       "    </tr>\n",
       "    <tr>\n",
       "      <th>2019-10-23 16:32:08</th>\n",
       "      <td>2019-10-23 16:45:26</td>\n",
       "      <td>1</td>\n",
       "      <td>2.00</td>\n",
       "      <td>1</td>\n",
       "      <td>10.5</td>\n",
       "      <td>1.0</td>\n",
       "      <td>0.5</td>\n",
       "      <td>0.00</td>\n",
       "      <td>0.00</td>\n",
       "      <td>0.3</td>\n",
       "      <td>12.3</td>\n",
       "      <td>0.0</td>\n",
       "      <td>0 days 00:13:18</td>\n",
       "      <td>12.30</td>\n",
       "      <td>0.000000</td>\n",
       "      <td>1.80</td>\n",
       "      <td>9.022556</td>\n",
       "    </tr>\n",
       "    <tr>\n",
       "      <th>2019-10-23 16:08:44</th>\n",
       "      <td>2019-10-23 16:21:11</td>\n",
       "      <td>1</td>\n",
       "      <td>1.36</td>\n",
       "      <td>1</td>\n",
       "      <td>9.5</td>\n",
       "      <td>1.0</td>\n",
       "      <td>0.5</td>\n",
       "      <td>2.00</td>\n",
       "      <td>0.00</td>\n",
       "      <td>0.3</td>\n",
       "      <td>15.8</td>\n",
       "      <td>2.5</td>\n",
       "      <td>0 days 00:12:27</td>\n",
       "      <td>13.80</td>\n",
       "      <td>0.144928</td>\n",
       "      <td>4.30</td>\n",
       "      <td>6.554217</td>\n",
       "    </tr>\n",
       "  </tbody>\n",
       "</table>\n",
       "</div>"
      ],
      "text/plain": [
       "                                dropoff  passenger_count  trip_distance   \n",
       "pickup                                                                    \n",
       "2019-10-23 16:39:42 2019-10-23 17:14:10                1           7.93  \\\n",
       "2019-10-23 16:32:08 2019-10-23 16:45:26                1           2.00   \n",
       "2019-10-23 16:08:44 2019-10-23 16:21:11                1           1.36   \n",
       "\n",
       "                     payment_type  fare_amount  extra  mta_tax  tip_amount   \n",
       "pickup                                                                       \n",
       "2019-10-23 16:39:42             1         29.5    1.0      0.5        7.98  \\\n",
       "2019-10-23 16:32:08             1         10.5    1.0      0.5        0.00   \n",
       "2019-10-23 16:08:44             1          9.5    1.0      0.5        2.00   \n",
       "\n",
       "                     tolls_amount  improvement_surcharge  total_amount   \n",
       "pickup                                                                   \n",
       "2019-10-23 16:39:42          6.12                    0.3          47.9  \\\n",
       "2019-10-23 16:32:08          0.00                    0.3          12.3   \n",
       "2019-10-23 16:08:44          0.00                    0.3          15.8   \n",
       "\n",
       "                     congestion_surcharge    elapsed_time  cost_before_tip   \n",
       "pickup                                                                       \n",
       "2019-10-23 16:39:42                   2.5 0 days 00:34:28            39.92  \\\n",
       "2019-10-23 16:32:08                   0.0 0 days 00:13:18            12.30   \n",
       "2019-10-23 16:08:44                   2.5 0 days 00:12:27            13.80   \n",
       "\n",
       "                      tip_pct   fees  avg_speed  \n",
       "pickup                                           \n",
       "2019-10-23 16:39:42  0.199900  10.42  13.804642  \n",
       "2019-10-23 16:32:08  0.000000   1.80   9.022556  \n",
       "2019-10-23 16:08:44  0.144928   4.30   6.554217  "
      ]
     },
     "execution_count": 12,
     "metadata": {},
     "output_type": "execute_result"
    }
   ],
   "source": [
    "taxis = taxis.set_index('pickup')\n",
    "taxis.head(3)"
   ]
  },
  {
   "cell_type": "markdown",
   "id": "1e150b7a-cc6c-4b2a-a32c-13513e1fd518",
   "metadata": {
    "slideshow": {
     "slide_type": "subslide"
    },
    "tags": []
   },
   "source": [
    "Since we have a sample of the full dataset, let's sort the index to order by pickup time:"
   ]
  },
  {
   "cell_type": "code",
   "execution_count": 13,
   "id": "10477bf0-2d83-478c-8f9a-f15ba363b74c",
   "metadata": {},
   "outputs": [],
   "source": [
    "taxis = taxis.sort_index()"
   ]
  },
  {
   "cell_type": "markdown",
   "id": "a1c718db-b445-4290-b5bc-6afa51e45eac",
   "metadata": {
    "slideshow": {
     "slide_type": "fragment"
    },
    "tags": []
   },
   "source": [
    "*Tip: `taxis.sort_index(axis=1)` will sort the columns by name. The `axis` parameter is present throughout the pandas library: `axis=0` targets rows and `axis=1` targets columns.*"
   ]
  },
  {
   "cell_type": "markdown",
   "id": "b44074fe-6b74-4a2d-80b0-e5ed7fc7c9f6",
   "metadata": {
    "slideshow": {
     "slide_type": "subslide"
    },
    "tags": []
   },
   "source": [
    "We can now select ranges from our data based on the datetime the same way we did with row numbers:"
   ]
  },
  {
   "cell_type": "code",
   "execution_count": 14,
   "id": "825b2083-236c-4cfe-957d-4242619c659d",
   "metadata": {},
   "outputs": [
    {
     "data": {
      "text/html": [
       "<div>\n",
       "<style scoped>\n",
       "    .dataframe tbody tr th:only-of-type {\n",
       "        vertical-align: middle;\n",
       "    }\n",
       "\n",
       "    .dataframe tbody tr th {\n",
       "        vertical-align: top;\n",
       "    }\n",
       "\n",
       "    .dataframe thead th {\n",
       "        text-align: right;\n",
       "    }\n",
       "</style>\n",
       "<table border=\"1\" class=\"dataframe\">\n",
       "  <thead>\n",
       "    <tr style=\"text-align: right;\">\n",
       "      <th></th>\n",
       "      <th>dropoff</th>\n",
       "      <th>passenger_count</th>\n",
       "      <th>trip_distance</th>\n",
       "      <th>payment_type</th>\n",
       "      <th>fare_amount</th>\n",
       "      <th>extra</th>\n",
       "      <th>mta_tax</th>\n",
       "      <th>tip_amount</th>\n",
       "      <th>tolls_amount</th>\n",
       "      <th>improvement_surcharge</th>\n",
       "      <th>total_amount</th>\n",
       "      <th>congestion_surcharge</th>\n",
       "      <th>elapsed_time</th>\n",
       "      <th>cost_before_tip</th>\n",
       "      <th>tip_pct</th>\n",
       "      <th>fees</th>\n",
       "      <th>avg_speed</th>\n",
       "    </tr>\n",
       "    <tr>\n",
       "      <th>pickup</th>\n",
       "      <th></th>\n",
       "      <th></th>\n",
       "      <th></th>\n",
       "      <th></th>\n",
       "      <th></th>\n",
       "      <th></th>\n",
       "      <th></th>\n",
       "      <th></th>\n",
       "      <th></th>\n",
       "      <th></th>\n",
       "      <th></th>\n",
       "      <th></th>\n",
       "      <th></th>\n",
       "      <th></th>\n",
       "      <th></th>\n",
       "      <th></th>\n",
       "      <th></th>\n",
       "    </tr>\n",
       "  </thead>\n",
       "  <tbody>\n",
       "    <tr>\n",
       "      <th>2019-10-23 07:48:58</th>\n",
       "      <td>2019-10-23 07:52:09</td>\n",
       "      <td>1</td>\n",
       "      <td>0.67</td>\n",
       "      <td>2</td>\n",
       "      <td>4.5</td>\n",
       "      <td>1.0</td>\n",
       "      <td>0.5</td>\n",
       "      <td>0.0</td>\n",
       "      <td>0.0</td>\n",
       "      <td>0.3</td>\n",
       "      <td>8.8</td>\n",
       "      <td>2.5</td>\n",
       "      <td>0 days 00:03:11</td>\n",
       "      <td>8.8</td>\n",
       "      <td>0.000000</td>\n",
       "      <td>4.3</td>\n",
       "      <td>12.628272</td>\n",
       "    </tr>\n",
       "    <tr>\n",
       "      <th>2019-10-23 08:02:09</th>\n",
       "      <td>2019-10-24 07:42:32</td>\n",
       "      <td>1</td>\n",
       "      <td>8.38</td>\n",
       "      <td>1</td>\n",
       "      <td>32.0</td>\n",
       "      <td>1.0</td>\n",
       "      <td>0.5</td>\n",
       "      <td>5.5</td>\n",
       "      <td>0.0</td>\n",
       "      <td>0.3</td>\n",
       "      <td>41.8</td>\n",
       "      <td>2.5</td>\n",
       "      <td>0 days 23:40:23</td>\n",
       "      <td>36.3</td>\n",
       "      <td>0.151515</td>\n",
       "      <td>4.3</td>\n",
       "      <td>0.353989</td>\n",
       "    </tr>\n",
       "    <tr>\n",
       "      <th>2019-10-23 08:18:47</th>\n",
       "      <td>2019-10-23 08:36:05</td>\n",
       "      <td>1</td>\n",
       "      <td>2.39</td>\n",
       "      <td>2</td>\n",
       "      <td>12.5</td>\n",
       "      <td>1.0</td>\n",
       "      <td>0.5</td>\n",
       "      <td>0.0</td>\n",
       "      <td>0.0</td>\n",
       "      <td>0.3</td>\n",
       "      <td>16.8</td>\n",
       "      <td>2.5</td>\n",
       "      <td>0 days 00:17:18</td>\n",
       "      <td>16.8</td>\n",
       "      <td>0.000000</td>\n",
       "      <td>4.3</td>\n",
       "      <td>8.289017</td>\n",
       "    </tr>\n",
       "  </tbody>\n",
       "</table>\n",
       "</div>"
      ],
      "text/plain": [
       "                                dropoff  passenger_count  trip_distance   \n",
       "pickup                                                                    \n",
       "2019-10-23 07:48:58 2019-10-23 07:52:09                1           0.67  \\\n",
       "2019-10-23 08:02:09 2019-10-24 07:42:32                1           8.38   \n",
       "2019-10-23 08:18:47 2019-10-23 08:36:05                1           2.39   \n",
       "\n",
       "                     payment_type  fare_amount  extra  mta_tax  tip_amount   \n",
       "pickup                                                                       \n",
       "2019-10-23 07:48:58             2          4.5    1.0      0.5         0.0  \\\n",
       "2019-10-23 08:02:09             1         32.0    1.0      0.5         5.5   \n",
       "2019-10-23 08:18:47             2         12.5    1.0      0.5         0.0   \n",
       "\n",
       "                     tolls_amount  improvement_surcharge  total_amount   \n",
       "pickup                                                                   \n",
       "2019-10-23 07:48:58           0.0                    0.3           8.8  \\\n",
       "2019-10-23 08:02:09           0.0                    0.3          41.8   \n",
       "2019-10-23 08:18:47           0.0                    0.3          16.8   \n",
       "\n",
       "                     congestion_surcharge    elapsed_time  cost_before_tip   \n",
       "pickup                                                                       \n",
       "2019-10-23 07:48:58                   2.5 0 days 00:03:11              8.8  \\\n",
       "2019-10-23 08:02:09                   2.5 0 days 23:40:23             36.3   \n",
       "2019-10-23 08:18:47                   2.5 0 days 00:17:18             16.8   \n",
       "\n",
       "                      tip_pct  fees  avg_speed  \n",
       "pickup                                          \n",
       "2019-10-23 07:48:58  0.000000   4.3  12.628272  \n",
       "2019-10-23 08:02:09  0.151515   4.3   0.353989  \n",
       "2019-10-23 08:18:47  0.000000   4.3   8.289017  "
      ]
     },
     "execution_count": 14,
     "metadata": {},
     "output_type": "execute_result"
    }
   ],
   "source": [
    "taxis['2019-10-23 07:45':'2019-10-23 08']"
   ]
  },
  {
   "cell_type": "markdown",
   "id": "c88bc8bb-a159-4347-84f5-654315facd1e",
   "metadata": {
    "slideshow": {
     "slide_type": "subslide"
    },
    "tags": []
   },
   "source": [
    "When not specifying a range, we use `loc[]`:"
   ]
  },
  {
   "cell_type": "code",
   "execution_count": 15,
   "id": "fef82610-a9ca-47f3-b8f9-fca6cb8215c6",
   "metadata": {},
   "outputs": [
    {
     "data": {
      "text/html": [
       "<div>\n",
       "<style scoped>\n",
       "    .dataframe tbody tr th:only-of-type {\n",
       "        vertical-align: middle;\n",
       "    }\n",
       "\n",
       "    .dataframe tbody tr th {\n",
       "        vertical-align: top;\n",
       "    }\n",
       "\n",
       "    .dataframe thead th {\n",
       "        text-align: right;\n",
       "    }\n",
       "</style>\n",
       "<table border=\"1\" class=\"dataframe\">\n",
       "  <thead>\n",
       "    <tr style=\"text-align: right;\">\n",
       "      <th></th>\n",
       "      <th>dropoff</th>\n",
       "      <th>passenger_count</th>\n",
       "      <th>trip_distance</th>\n",
       "      <th>payment_type</th>\n",
       "      <th>fare_amount</th>\n",
       "      <th>extra</th>\n",
       "      <th>mta_tax</th>\n",
       "      <th>tip_amount</th>\n",
       "      <th>tolls_amount</th>\n",
       "      <th>improvement_surcharge</th>\n",
       "      <th>total_amount</th>\n",
       "      <th>congestion_surcharge</th>\n",
       "      <th>elapsed_time</th>\n",
       "      <th>cost_before_tip</th>\n",
       "      <th>tip_pct</th>\n",
       "      <th>fees</th>\n",
       "      <th>avg_speed</th>\n",
       "    </tr>\n",
       "    <tr>\n",
       "      <th>pickup</th>\n",
       "      <th></th>\n",
       "      <th></th>\n",
       "      <th></th>\n",
       "      <th></th>\n",
       "      <th></th>\n",
       "      <th></th>\n",
       "      <th></th>\n",
       "      <th></th>\n",
       "      <th></th>\n",
       "      <th></th>\n",
       "      <th></th>\n",
       "      <th></th>\n",
       "      <th></th>\n",
       "      <th></th>\n",
       "      <th></th>\n",
       "      <th></th>\n",
       "      <th></th>\n",
       "    </tr>\n",
       "  </thead>\n",
       "  <tbody>\n",
       "    <tr>\n",
       "      <th>2019-10-23 08:02:09</th>\n",
       "      <td>2019-10-24 07:42:32</td>\n",
       "      <td>1</td>\n",
       "      <td>8.38</td>\n",
       "      <td>1</td>\n",
       "      <td>32.0</td>\n",
       "      <td>1.0</td>\n",
       "      <td>0.5</td>\n",
       "      <td>5.5</td>\n",
       "      <td>0.0</td>\n",
       "      <td>0.3</td>\n",
       "      <td>41.8</td>\n",
       "      <td>2.5</td>\n",
       "      <td>0 days 23:40:23</td>\n",
       "      <td>36.3</td>\n",
       "      <td>0.151515</td>\n",
       "      <td>4.3</td>\n",
       "      <td>0.353989</td>\n",
       "    </tr>\n",
       "    <tr>\n",
       "      <th>2019-10-23 08:18:47</th>\n",
       "      <td>2019-10-23 08:36:05</td>\n",
       "      <td>1</td>\n",
       "      <td>2.39</td>\n",
       "      <td>2</td>\n",
       "      <td>12.5</td>\n",
       "      <td>1.0</td>\n",
       "      <td>0.5</td>\n",
       "      <td>0.0</td>\n",
       "      <td>0.0</td>\n",
       "      <td>0.3</td>\n",
       "      <td>16.8</td>\n",
       "      <td>2.5</td>\n",
       "      <td>0 days 00:17:18</td>\n",
       "      <td>16.8</td>\n",
       "      <td>0.000000</td>\n",
       "      <td>4.3</td>\n",
       "      <td>8.289017</td>\n",
       "    </tr>\n",
       "  </tbody>\n",
       "</table>\n",
       "</div>"
      ],
      "text/plain": [
       "                                dropoff  passenger_count  trip_distance   \n",
       "pickup                                                                    \n",
       "2019-10-23 08:02:09 2019-10-24 07:42:32                1           8.38  \\\n",
       "2019-10-23 08:18:47 2019-10-23 08:36:05                1           2.39   \n",
       "\n",
       "                     payment_type  fare_amount  extra  mta_tax  tip_amount   \n",
       "pickup                                                                       \n",
       "2019-10-23 08:02:09             1         32.0    1.0      0.5         5.5  \\\n",
       "2019-10-23 08:18:47             2         12.5    1.0      0.5         0.0   \n",
       "\n",
       "                     tolls_amount  improvement_surcharge  total_amount   \n",
       "pickup                                                                   \n",
       "2019-10-23 08:02:09           0.0                    0.3          41.8  \\\n",
       "2019-10-23 08:18:47           0.0                    0.3          16.8   \n",
       "\n",
       "                     congestion_surcharge    elapsed_time  cost_before_tip   \n",
       "pickup                                                                       \n",
       "2019-10-23 08:02:09                   2.5 0 days 23:40:23             36.3  \\\n",
       "2019-10-23 08:18:47                   2.5 0 days 00:17:18             16.8   \n",
       "\n",
       "                      tip_pct  fees  avg_speed  \n",
       "pickup                                          \n",
       "2019-10-23 08:02:09  0.151515   4.3   0.353989  \n",
       "2019-10-23 08:18:47  0.000000   4.3   8.289017  "
      ]
     },
     "execution_count": 15,
     "metadata": {},
     "output_type": "execute_result"
    }
   ],
   "source": [
    "taxis.loc['2019-10-23 08']"
   ]
  },
  {
   "cell_type": "markdown",
   "id": "0684e96e-6c5e-4405-8103-92ae722d9c3e",
   "metadata": {
    "slideshow": {
     "slide_type": "subslide"
    },
    "tags": []
   },
   "source": [
    "### Resetting the index\n",
    "\n",
    "We will be working with time series later this section, but sometimes we want to reset our index to row numbers and restore the columns. We can make `pickup` a column again with the `reset_index()` method:"
   ]
  },
  {
   "cell_type": "code",
   "execution_count": 16,
   "id": "18a6c75b-fa89-4602-b9df-e18ea51d73b6",
   "metadata": {},
   "outputs": [
    {
     "data": {
      "text/html": [
       "<div>\n",
       "<style scoped>\n",
       "    .dataframe tbody tr th:only-of-type {\n",
       "        vertical-align: middle;\n",
       "    }\n",
       "\n",
       "    .dataframe tbody tr th {\n",
       "        vertical-align: top;\n",
       "    }\n",
       "\n",
       "    .dataframe thead th {\n",
       "        text-align: right;\n",
       "    }\n",
       "</style>\n",
       "<table border=\"1\" class=\"dataframe\">\n",
       "  <thead>\n",
       "    <tr style=\"text-align: right;\">\n",
       "      <th></th>\n",
       "      <th>pickup</th>\n",
       "      <th>dropoff</th>\n",
       "      <th>passenger_count</th>\n",
       "      <th>trip_distance</th>\n",
       "      <th>payment_type</th>\n",
       "      <th>fare_amount</th>\n",
       "      <th>extra</th>\n",
       "      <th>mta_tax</th>\n",
       "      <th>tip_amount</th>\n",
       "      <th>tolls_amount</th>\n",
       "      <th>improvement_surcharge</th>\n",
       "      <th>total_amount</th>\n",
       "      <th>congestion_surcharge</th>\n",
       "      <th>elapsed_time</th>\n",
       "      <th>cost_before_tip</th>\n",
       "      <th>tip_pct</th>\n",
       "      <th>fees</th>\n",
       "      <th>avg_speed</th>\n",
       "    </tr>\n",
       "  </thead>\n",
       "  <tbody>\n",
       "    <tr>\n",
       "      <th>0</th>\n",
       "      <td>2019-10-23 07:05:34</td>\n",
       "      <td>2019-10-23 08:03:16</td>\n",
       "      <td>3</td>\n",
       "      <td>14.68</td>\n",
       "      <td>1</td>\n",
       "      <td>50.0</td>\n",
       "      <td>1.0</td>\n",
       "      <td>0.5</td>\n",
       "      <td>4.0</td>\n",
       "      <td>0.0</td>\n",
       "      <td>0.3</td>\n",
       "      <td>55.8</td>\n",
       "      <td>0.0</td>\n",
       "      <td>0 days 00:57:42</td>\n",
       "      <td>51.8</td>\n",
       "      <td>0.077220</td>\n",
       "      <td>1.8</td>\n",
       "      <td>15.265165</td>\n",
       "    </tr>\n",
       "    <tr>\n",
       "      <th>1</th>\n",
       "      <td>2019-10-23 07:48:58</td>\n",
       "      <td>2019-10-23 07:52:09</td>\n",
       "      <td>1</td>\n",
       "      <td>0.67</td>\n",
       "      <td>2</td>\n",
       "      <td>4.5</td>\n",
       "      <td>1.0</td>\n",
       "      <td>0.5</td>\n",
       "      <td>0.0</td>\n",
       "      <td>0.0</td>\n",
       "      <td>0.3</td>\n",
       "      <td>8.8</td>\n",
       "      <td>2.5</td>\n",
       "      <td>0 days 00:03:11</td>\n",
       "      <td>8.8</td>\n",
       "      <td>0.000000</td>\n",
       "      <td>4.3</td>\n",
       "      <td>12.628272</td>\n",
       "    </tr>\n",
       "    <tr>\n",
       "      <th>2</th>\n",
       "      <td>2019-10-23 08:02:09</td>\n",
       "      <td>2019-10-24 07:42:32</td>\n",
       "      <td>1</td>\n",
       "      <td>8.38</td>\n",
       "      <td>1</td>\n",
       "      <td>32.0</td>\n",
       "      <td>1.0</td>\n",
       "      <td>0.5</td>\n",
       "      <td>5.5</td>\n",
       "      <td>0.0</td>\n",
       "      <td>0.3</td>\n",
       "      <td>41.8</td>\n",
       "      <td>2.5</td>\n",
       "      <td>0 days 23:40:23</td>\n",
       "      <td>36.3</td>\n",
       "      <td>0.151515</td>\n",
       "      <td>4.3</td>\n",
       "      <td>0.353989</td>\n",
       "    </tr>\n",
       "    <tr>\n",
       "      <th>3</th>\n",
       "      <td>2019-10-23 08:18:47</td>\n",
       "      <td>2019-10-23 08:36:05</td>\n",
       "      <td>1</td>\n",
       "      <td>2.39</td>\n",
       "      <td>2</td>\n",
       "      <td>12.5</td>\n",
       "      <td>1.0</td>\n",
       "      <td>0.5</td>\n",
       "      <td>0.0</td>\n",
       "      <td>0.0</td>\n",
       "      <td>0.3</td>\n",
       "      <td>16.8</td>\n",
       "      <td>2.5</td>\n",
       "      <td>0 days 00:17:18</td>\n",
       "      <td>16.8</td>\n",
       "      <td>0.000000</td>\n",
       "      <td>4.3</td>\n",
       "      <td>8.289017</td>\n",
       "    </tr>\n",
       "    <tr>\n",
       "      <th>4</th>\n",
       "      <td>2019-10-23 09:27:16</td>\n",
       "      <td>2019-10-23 09:33:13</td>\n",
       "      <td>2</td>\n",
       "      <td>1.11</td>\n",
       "      <td>2</td>\n",
       "      <td>6.0</td>\n",
       "      <td>1.0</td>\n",
       "      <td>0.5</td>\n",
       "      <td>0.0</td>\n",
       "      <td>0.0</td>\n",
       "      <td>0.3</td>\n",
       "      <td>7.8</td>\n",
       "      <td>0.0</td>\n",
       "      <td>0 days 00:05:57</td>\n",
       "      <td>7.8</td>\n",
       "      <td>0.000000</td>\n",
       "      <td>1.8</td>\n",
       "      <td>11.193277</td>\n",
       "    </tr>\n",
       "  </tbody>\n",
       "</table>\n",
       "</div>"
      ],
      "text/plain": [
       "               pickup             dropoff  passenger_count  trip_distance   \n",
       "0 2019-10-23 07:05:34 2019-10-23 08:03:16                3          14.68  \\\n",
       "1 2019-10-23 07:48:58 2019-10-23 07:52:09                1           0.67   \n",
       "2 2019-10-23 08:02:09 2019-10-24 07:42:32                1           8.38   \n",
       "3 2019-10-23 08:18:47 2019-10-23 08:36:05                1           2.39   \n",
       "4 2019-10-23 09:27:16 2019-10-23 09:33:13                2           1.11   \n",
       "\n",
       "   payment_type  fare_amount  extra  mta_tax  tip_amount  tolls_amount   \n",
       "0             1         50.0    1.0      0.5         4.0           0.0  \\\n",
       "1             2          4.5    1.0      0.5         0.0           0.0   \n",
       "2             1         32.0    1.0      0.5         5.5           0.0   \n",
       "3             2         12.5    1.0      0.5         0.0           0.0   \n",
       "4             2          6.0    1.0      0.5         0.0           0.0   \n",
       "\n",
       "   improvement_surcharge  total_amount  congestion_surcharge    elapsed_time   \n",
       "0                    0.3          55.8                   0.0 0 days 00:57:42  \\\n",
       "1                    0.3           8.8                   2.5 0 days 00:03:11   \n",
       "2                    0.3          41.8                   2.5 0 days 23:40:23   \n",
       "3                    0.3          16.8                   2.5 0 days 00:17:18   \n",
       "4                    0.3           7.8                   0.0 0 days 00:05:57   \n",
       "\n",
       "   cost_before_tip   tip_pct  fees  avg_speed  \n",
       "0             51.8  0.077220   1.8  15.265165  \n",
       "1              8.8  0.000000   4.3  12.628272  \n",
       "2             36.3  0.151515   4.3   0.353989  \n",
       "3             16.8  0.000000   4.3   8.289017  \n",
       "4              7.8  0.000000   1.8  11.193277  "
      ]
     },
     "execution_count": 16,
     "metadata": {},
     "output_type": "execute_result"
    }
   ],
   "source": [
    "taxis = taxis.reset_index()\n",
    "taxis.head()"
   ]
  },
  {
   "cell_type": "markdown",
   "id": "569bcb48-b6bb-4e6c-9cc2-bc352047fb3e",
   "metadata": {},
   "source": [
    "### [Exercise 2.2](./workbook.ipynb#Exercise-2.2)\n",
    "\n",
    "##### Using the meteorite data from the `Meteorite_Landings.csv` file, update the `year` column to only contain the year, convert it to a numeric data type, and create a new column indicating whether the meteorite was observed falling before 1970. Set the index to the `id` column and extract all the rows with IDs between 10,036 and 10,040 (inclusive) with `loc[]`.\n",
    "\n",
    "###### **Hint 1**: Use `year.str.slice()` to grab a substring.\n",
    "\n",
    "###### **Hint 2**: Make sure to sort the index before using `loc[]` to select the range.\n",
    "\n",
    "###### **Bonus**: There's a data entry error in the `year` column. Can you find it? (Don't spend too much time on this.)"
   ]
  },
  {
   "cell_type": "code",
   "execution_count": 17,
   "id": "ef0097f4-18cb-4778-9118-cf89a39d9447",
   "metadata": {},
   "outputs": [],
   "source": [
    "# Complete this exercise in the workbook.ipynb file"
   ]
  },
  {
   "cell_type": "code",
   "execution_count": 18,
   "id": "d0c55eab-4901-4b05-9bf5-c2c0f6e1bda4",
   "metadata": {},
   "outputs": [],
   "source": [
    "# Click on `Exercise 2.2` above to open the workbook.ipynb file"
   ]
  },
  {
   "cell_type": "code",
   "execution_count": 19,
   "id": "c06312d7-838d-45c0-b093-f263ae3f9290",
   "metadata": {},
   "outputs": [],
   "source": [
    "# WARNING: if you complete the exercise here, your cell numbers\n",
    "# for the rest of the training might not match the slides"
   ]
  },
  {
   "cell_type": "markdown",
   "id": "25a31c80-88f8-4f4d-9192-80a7bf7e9689",
   "metadata": {
    "slideshow": {
     "slide_type": "slide"
    },
    "tags": []
   },
   "source": [
    "## Reshaping data\n",
    "\n",
    "The taxi dataset we have be working with is in a format conducive to an analysis. This isn't always the case. Let's now take a look at the TSA traveler throughput data, which compares 2021 throughput to the same day in 2020 and 2019:"
   ]
  },
  {
   "cell_type": "code",
   "execution_count": 20,
   "id": "f9fc17ff-40a4-4e01-b56a-fea6ed3ca471",
   "metadata": {
    "slideshow": {
     "slide_type": "fragment"
    },
    "tags": []
   },
   "outputs": [
    {
     "data": {
      "text/html": [
       "<div>\n",
       "<style scoped>\n",
       "    .dataframe tbody tr th:only-of-type {\n",
       "        vertical-align: middle;\n",
       "    }\n",
       "\n",
       "    .dataframe tbody tr th {\n",
       "        vertical-align: top;\n",
       "    }\n",
       "\n",
       "    .dataframe thead th {\n",
       "        text-align: right;\n",
       "    }\n",
       "</style>\n",
       "<table border=\"1\" class=\"dataframe\">\n",
       "  <thead>\n",
       "    <tr style=\"text-align: right;\">\n",
       "      <th></th>\n",
       "      <th>Date</th>\n",
       "      <th>2021 Traveler Throughput</th>\n",
       "      <th>2020 Traveler Throughput</th>\n",
       "      <th>2019 Traveler Throughput</th>\n",
       "    </tr>\n",
       "  </thead>\n",
       "  <tbody>\n",
       "    <tr>\n",
       "      <th>0</th>\n",
       "      <td>2021-05-14</td>\n",
       "      <td>1716561.0</td>\n",
       "      <td>250467</td>\n",
       "      <td>2664549</td>\n",
       "    </tr>\n",
       "    <tr>\n",
       "      <th>1</th>\n",
       "      <td>2021-05-13</td>\n",
       "      <td>1743515.0</td>\n",
       "      <td>234928</td>\n",
       "      <td>2611324</td>\n",
       "    </tr>\n",
       "    <tr>\n",
       "      <th>2</th>\n",
       "      <td>2021-05-12</td>\n",
       "      <td>1424664.0</td>\n",
       "      <td>176667</td>\n",
       "      <td>2343675</td>\n",
       "    </tr>\n",
       "    <tr>\n",
       "      <th>3</th>\n",
       "      <td>2021-05-11</td>\n",
       "      <td>1315493.0</td>\n",
       "      <td>163205</td>\n",
       "      <td>2191387</td>\n",
       "    </tr>\n",
       "    <tr>\n",
       "      <th>4</th>\n",
       "      <td>2021-05-10</td>\n",
       "      <td>1657722.0</td>\n",
       "      <td>215645</td>\n",
       "      <td>2512315</td>\n",
       "    </tr>\n",
       "  </tbody>\n",
       "</table>\n",
       "</div>"
      ],
      "text/plain": [
       "        Date  2021 Traveler Throughput  2020 Traveler Throughput   \n",
       "0 2021-05-14                 1716561.0                    250467  \\\n",
       "1 2021-05-13                 1743515.0                    234928   \n",
       "2 2021-05-12                 1424664.0                    176667   \n",
       "3 2021-05-11                 1315493.0                    163205   \n",
       "4 2021-05-10                 1657722.0                    215645   \n",
       "\n",
       "   2019 Traveler Throughput  \n",
       "0                   2664549  \n",
       "1                   2611324  \n",
       "2                   2343675  \n",
       "3                   2191387  \n",
       "4                   2512315  "
      ]
     },
     "execution_count": 20,
     "metadata": {},
     "output_type": "execute_result"
    }
   ],
   "source": [
    "tsa = pd.read_csv('../data/tsa_passenger_throughput.csv', parse_dates=['Date'])\n",
    "tsa.head()"
   ]
  },
  {
   "cell_type": "markdown",
   "id": "43a2f0b0-affe-4ec4-906c-26401b750dc0",
   "metadata": {},
   "source": [
    "*Source: [TSA.gov](https://www.tsa.gov/coronavirus/passenger-throughput)*"
   ]
  },
  {
   "cell_type": "markdown",
   "id": "71419100-c9d2-4e8d-a0e3-440d0d9ebded",
   "metadata": {
    "slideshow": {
     "slide_type": "subslide"
    },
    "tags": []
   },
   "source": [
    "First, we will lowercase the column names and take the first word (e.g., `2021` for `2021 Traveler Throughput`) to make this easier to work with:"
   ]
  },
  {
   "cell_type": "code",
   "execution_count": 21,
   "id": "cdaa7ddd-57f4-41ca-b8ff-24d93d44f0b5",
   "metadata": {},
   "outputs": [
    {
     "data": {
      "text/html": [
       "<div>\n",
       "<style scoped>\n",
       "    .dataframe tbody tr th:only-of-type {\n",
       "        vertical-align: middle;\n",
       "    }\n",
       "\n",
       "    .dataframe tbody tr th {\n",
       "        vertical-align: top;\n",
       "    }\n",
       "\n",
       "    .dataframe thead th {\n",
       "        text-align: right;\n",
       "    }\n",
       "</style>\n",
       "<table border=\"1\" class=\"dataframe\">\n",
       "  <thead>\n",
       "    <tr style=\"text-align: right;\">\n",
       "      <th></th>\n",
       "      <th>date</th>\n",
       "      <th>2021</th>\n",
       "      <th>2020</th>\n",
       "      <th>2019</th>\n",
       "    </tr>\n",
       "  </thead>\n",
       "  <tbody>\n",
       "    <tr>\n",
       "      <th>0</th>\n",
       "      <td>2021-05-14</td>\n",
       "      <td>1716561.0</td>\n",
       "      <td>250467</td>\n",
       "      <td>2664549</td>\n",
       "    </tr>\n",
       "    <tr>\n",
       "      <th>1</th>\n",
       "      <td>2021-05-13</td>\n",
       "      <td>1743515.0</td>\n",
       "      <td>234928</td>\n",
       "      <td>2611324</td>\n",
       "    </tr>\n",
       "    <tr>\n",
       "      <th>2</th>\n",
       "      <td>2021-05-12</td>\n",
       "      <td>1424664.0</td>\n",
       "      <td>176667</td>\n",
       "      <td>2343675</td>\n",
       "    </tr>\n",
       "    <tr>\n",
       "      <th>3</th>\n",
       "      <td>2021-05-11</td>\n",
       "      <td>1315493.0</td>\n",
       "      <td>163205</td>\n",
       "      <td>2191387</td>\n",
       "    </tr>\n",
       "    <tr>\n",
       "      <th>4</th>\n",
       "      <td>2021-05-10</td>\n",
       "      <td>1657722.0</td>\n",
       "      <td>215645</td>\n",
       "      <td>2512315</td>\n",
       "    </tr>\n",
       "  </tbody>\n",
       "</table>\n",
       "</div>"
      ],
      "text/plain": [
       "        date       2021    2020     2019\n",
       "0 2021-05-14  1716561.0  250467  2664549\n",
       "1 2021-05-13  1743515.0  234928  2611324\n",
       "2 2021-05-12  1424664.0  176667  2343675\n",
       "3 2021-05-11  1315493.0  163205  2191387\n",
       "4 2021-05-10  1657722.0  215645  2512315"
      ]
     },
     "execution_count": 21,
     "metadata": {},
     "output_type": "execute_result"
    }
   ],
   "source": [
    "tsa = tsa.rename(columns=lambda x: x.lower().split()[0])\n",
    "tsa.head()"
   ]
  },
  {
   "cell_type": "markdown",
   "id": "2a39b842-3f40-4951-9a38-7dfd492ef608",
   "metadata": {
    "slideshow": {
     "slide_type": "fragment"
    },
    "tags": []
   },
   "source": [
    "Now, we can work on reshaping it."
   ]
  },
  {
   "cell_type": "markdown",
   "id": "fc0b0c08-5cb6-4523-9dcc-4ea9a7e2607f",
   "metadata": {
    "slideshow": {
     "slide_type": "subslide"
    },
    "tags": []
   },
   "source": [
    "### Melting\n",
    "\n",
    "Melting helps convert our data into long format. Now, we have all the traveler throughput numbers in a single column:"
   ]
  },
  {
   "cell_type": "code",
   "execution_count": 22,
   "id": "ebcfe696-5e4c-49e9-b281-1b7722cad24b",
   "metadata": {},
   "outputs": [
    {
     "data": {
      "text/html": [
       "<div>\n",
       "<style scoped>\n",
       "    .dataframe tbody tr th:only-of-type {\n",
       "        vertical-align: middle;\n",
       "    }\n",
       "\n",
       "    .dataframe tbody tr th {\n",
       "        vertical-align: top;\n",
       "    }\n",
       "\n",
       "    .dataframe thead th {\n",
       "        text-align: right;\n",
       "    }\n",
       "</style>\n",
       "<table border=\"1\" class=\"dataframe\">\n",
       "  <thead>\n",
       "    <tr style=\"text-align: right;\">\n",
       "      <th></th>\n",
       "      <th>date</th>\n",
       "      <th>year</th>\n",
       "      <th>travelers</th>\n",
       "    </tr>\n",
       "  </thead>\n",
       "  <tbody>\n",
       "    <tr>\n",
       "      <th>974</th>\n",
       "      <td>2020-09-12</td>\n",
       "      <td>2019</td>\n",
       "      <td>1879822.0</td>\n",
       "    </tr>\n",
       "    <tr>\n",
       "      <th>435</th>\n",
       "      <td>2021-03-05</td>\n",
       "      <td>2020</td>\n",
       "      <td>2198517.0</td>\n",
       "    </tr>\n",
       "    <tr>\n",
       "      <th>1029</th>\n",
       "      <td>2020-07-19</td>\n",
       "      <td>2019</td>\n",
       "      <td>2727355.0</td>\n",
       "    </tr>\n",
       "    <tr>\n",
       "      <th>680</th>\n",
       "      <td>2020-07-03</td>\n",
       "      <td>2020</td>\n",
       "      <td>718988.0</td>\n",
       "    </tr>\n",
       "    <tr>\n",
       "      <th>867</th>\n",
       "      <td>2020-12-28</td>\n",
       "      <td>2019</td>\n",
       "      <td>2500396.0</td>\n",
       "    </tr>\n",
       "  </tbody>\n",
       "</table>\n",
       "</div>"
      ],
      "text/plain": [
       "           date  year  travelers\n",
       "974  2020-09-12  2019  1879822.0\n",
       "435  2021-03-05  2020  2198517.0\n",
       "1029 2020-07-19  2019  2727355.0\n",
       "680  2020-07-03  2020   718988.0\n",
       "867  2020-12-28  2019  2500396.0"
      ]
     },
     "execution_count": 22,
     "metadata": {},
     "output_type": "execute_result"
    }
   ],
   "source": [
    "tsa_melted = tsa.melt(\n",
    "    id_vars='date', # column that uniquely identifies a row (can be multiple)\n",
    "    var_name='year', # name for the new column created by melting\n",
    "    value_name='travelers' # name for new column containing values from melted columns\n",
    ")\n",
    "tsa_melted.sample(5, random_state=1) # show some random entries"
   ]
  },
  {
   "cell_type": "markdown",
   "id": "91ad2a4f-fd5f-4de6-b974-e37e6119b1f7",
   "metadata": {
    "slideshow": {
     "slide_type": "subslide"
    },
    "tags": []
   },
   "source": [
    "To convert this into a time series of traveler throughput, we need to replace the year in the `date` column with the one in the `year` column. Otherwise, we are marking prior years' numbers with the wrong year."
   ]
  },
  {
   "cell_type": "code",
   "execution_count": 23,
   "id": "7ad04dde-d03b-4a32-9a47-6b1a388a8169",
   "metadata": {},
   "outputs": [
    {
     "data": {
      "text/html": [
       "<div>\n",
       "<style scoped>\n",
       "    .dataframe tbody tr th:only-of-type {\n",
       "        vertical-align: middle;\n",
       "    }\n",
       "\n",
       "    .dataframe tbody tr th {\n",
       "        vertical-align: top;\n",
       "    }\n",
       "\n",
       "    .dataframe thead th {\n",
       "        text-align: right;\n",
       "    }\n",
       "</style>\n",
       "<table border=\"1\" class=\"dataframe\">\n",
       "  <thead>\n",
       "    <tr style=\"text-align: right;\">\n",
       "      <th></th>\n",
       "      <th>date</th>\n",
       "      <th>year</th>\n",
       "      <th>travelers</th>\n",
       "    </tr>\n",
       "  </thead>\n",
       "  <tbody>\n",
       "    <tr>\n",
       "      <th>974</th>\n",
       "      <td>2019-09-12</td>\n",
       "      <td>2019</td>\n",
       "      <td>1879822.0</td>\n",
       "    </tr>\n",
       "    <tr>\n",
       "      <th>435</th>\n",
       "      <td>2020-03-05</td>\n",
       "      <td>2020</td>\n",
       "      <td>2198517.0</td>\n",
       "    </tr>\n",
       "    <tr>\n",
       "      <th>1029</th>\n",
       "      <td>2019-07-19</td>\n",
       "      <td>2019</td>\n",
       "      <td>2727355.0</td>\n",
       "    </tr>\n",
       "    <tr>\n",
       "      <th>680</th>\n",
       "      <td>2020-07-03</td>\n",
       "      <td>2020</td>\n",
       "      <td>718988.0</td>\n",
       "    </tr>\n",
       "    <tr>\n",
       "      <th>867</th>\n",
       "      <td>2019-12-28</td>\n",
       "      <td>2019</td>\n",
       "      <td>2500396.0</td>\n",
       "    </tr>\n",
       "  </tbody>\n",
       "</table>\n",
       "</div>"
      ],
      "text/plain": [
       "           date  year  travelers\n",
       "974  2019-09-12  2019  1879822.0\n",
       "435  2020-03-05  2020  2198517.0\n",
       "1029 2019-07-19  2019  2727355.0\n",
       "680  2020-07-03  2020   718988.0\n",
       "867  2019-12-28  2019  2500396.0"
      ]
     },
     "execution_count": 23,
     "metadata": {},
     "output_type": "execute_result"
    }
   ],
   "source": [
    "tsa_melted = tsa_melted.assign(\n",
    "    date=lambda x: pd.to_datetime(x.year + x.date.dt.strftime('-%m-%d'))\n",
    ")\n",
    "tsa_melted.sample(5, random_state=1)"
   ]
  },
  {
   "cell_type": "markdown",
   "id": "28a312aa-f671-4df7-8e09-ea65ba7d6d70",
   "metadata": {
    "slideshow": {
     "slide_type": "subslide"
    },
    "tags": []
   },
   "source": [
    "This leaves us with some null values (the dates that aren't present in the dataset):"
   ]
  },
  {
   "cell_type": "code",
   "execution_count": 24,
   "id": "8f415932-fe42-4e11-a8ac-521c7612147e",
   "metadata": {},
   "outputs": [
    {
     "data": {
      "text/html": [
       "<div>\n",
       "<style scoped>\n",
       "    .dataframe tbody tr th:only-of-type {\n",
       "        vertical-align: middle;\n",
       "    }\n",
       "\n",
       "    .dataframe tbody tr th {\n",
       "        vertical-align: top;\n",
       "    }\n",
       "\n",
       "    .dataframe thead th {\n",
       "        text-align: right;\n",
       "    }\n",
       "</style>\n",
       "<table border=\"1\" class=\"dataframe\">\n",
       "  <thead>\n",
       "    <tr style=\"text-align: right;\">\n",
       "      <th></th>\n",
       "      <th>date</th>\n",
       "      <th>year</th>\n",
       "      <th>travelers</th>\n",
       "    </tr>\n",
       "  </thead>\n",
       "  <tbody>\n",
       "    <tr>\n",
       "      <th>136</th>\n",
       "      <td>2021-12-29</td>\n",
       "      <td>2021</td>\n",
       "      <td>NaN</td>\n",
       "    </tr>\n",
       "    <tr>\n",
       "      <th>135</th>\n",
       "      <td>2021-12-30</td>\n",
       "      <td>2021</td>\n",
       "      <td>NaN</td>\n",
       "    </tr>\n",
       "    <tr>\n",
       "      <th>134</th>\n",
       "      <td>2021-12-31</td>\n",
       "      <td>2021</td>\n",
       "      <td>NaN</td>\n",
       "    </tr>\n",
       "  </tbody>\n",
       "</table>\n",
       "</div>"
      ],
      "text/plain": [
       "          date  year  travelers\n",
       "136 2021-12-29  2021        NaN\n",
       "135 2021-12-30  2021        NaN\n",
       "134 2021-12-31  2021        NaN"
      ]
     },
     "execution_count": 24,
     "metadata": {},
     "output_type": "execute_result"
    }
   ],
   "source": [
    "tsa_melted.sort_values('date').tail(3)"
   ]
  },
  {
   "cell_type": "markdown",
   "id": "323970e9-0e9c-46f1-8910-a630fbd4d1b3",
   "metadata": {
    "slideshow": {
     "slide_type": "fragment"
    },
    "tags": []
   },
   "source": [
    "These can be dropped with the `dropna()` method:"
   ]
  },
  {
   "cell_type": "code",
   "execution_count": 25,
   "id": "c0ed0555-2467-4966-9cfb-31ff5982c0bb",
   "metadata": {},
   "outputs": [
    {
     "data": {
      "text/html": [
       "<div>\n",
       "<style scoped>\n",
       "    .dataframe tbody tr th:only-of-type {\n",
       "        vertical-align: middle;\n",
       "    }\n",
       "\n",
       "    .dataframe tbody tr th {\n",
       "        vertical-align: top;\n",
       "    }\n",
       "\n",
       "    .dataframe thead th {\n",
       "        text-align: right;\n",
       "    }\n",
       "</style>\n",
       "<table border=\"1\" class=\"dataframe\">\n",
       "  <thead>\n",
       "    <tr style=\"text-align: right;\">\n",
       "      <th></th>\n",
       "      <th>date</th>\n",
       "      <th>year</th>\n",
       "      <th>travelers</th>\n",
       "    </tr>\n",
       "  </thead>\n",
       "  <tbody>\n",
       "    <tr>\n",
       "      <th>2</th>\n",
       "      <td>2021-05-12</td>\n",
       "      <td>2021</td>\n",
       "      <td>1424664.0</td>\n",
       "    </tr>\n",
       "    <tr>\n",
       "      <th>1</th>\n",
       "      <td>2021-05-13</td>\n",
       "      <td>2021</td>\n",
       "      <td>1743515.0</td>\n",
       "    </tr>\n",
       "    <tr>\n",
       "      <th>0</th>\n",
       "      <td>2021-05-14</td>\n",
       "      <td>2021</td>\n",
       "      <td>1716561.0</td>\n",
       "    </tr>\n",
       "  </tbody>\n",
       "</table>\n",
       "</div>"
      ],
      "text/plain": [
       "        date  year  travelers\n",
       "2 2021-05-12  2021  1424664.0\n",
       "1 2021-05-13  2021  1743515.0\n",
       "0 2021-05-14  2021  1716561.0"
      ]
     },
     "execution_count": 25,
     "metadata": {},
     "output_type": "execute_result"
    }
   ],
   "source": [
    "tsa_melted = tsa_melted.dropna()\n",
    "tsa_melted.sort_values('date').tail(3)"
   ]
  },
  {
   "cell_type": "markdown",
   "id": "6a77b4fc-265e-42d8-ae27-689e3f7f8dc6",
   "metadata": {
    "slideshow": {
     "slide_type": "subslide"
    },
    "tags": []
   },
   "source": [
    "### Pivoting\n",
    "\n",
    "Using the melted data, we can pivot the data to compare TSA traveler throughput on specific days across years:"
   ]
  },
  {
   "cell_type": "code",
   "execution_count": 26,
   "id": "5deb2bd9-e4eb-4775-bbf1-b483c56edf16",
   "metadata": {},
   "outputs": [
    {
     "data": {
      "text/html": [
       "<div>\n",
       "<style scoped>\n",
       "    .dataframe tbody tr th:only-of-type {\n",
       "        vertical-align: middle;\n",
       "    }\n",
       "\n",
       "    .dataframe tbody tr th {\n",
       "        vertical-align: top;\n",
       "    }\n",
       "\n",
       "    .dataframe thead th {\n",
       "        text-align: right;\n",
       "    }\n",
       "</style>\n",
       "<table border=\"1\" class=\"dataframe\">\n",
       "  <thead>\n",
       "    <tr style=\"text-align: right;\">\n",
       "      <th>day_in_march</th>\n",
       "      <th>1</th>\n",
       "      <th>2</th>\n",
       "      <th>3</th>\n",
       "      <th>4</th>\n",
       "      <th>5</th>\n",
       "      <th>6</th>\n",
       "      <th>7</th>\n",
       "      <th>8</th>\n",
       "      <th>9</th>\n",
       "      <th>10</th>\n",
       "    </tr>\n",
       "    <tr>\n",
       "      <th>year</th>\n",
       "      <th></th>\n",
       "      <th></th>\n",
       "      <th></th>\n",
       "      <th></th>\n",
       "      <th></th>\n",
       "      <th></th>\n",
       "      <th></th>\n",
       "      <th></th>\n",
       "      <th></th>\n",
       "      <th></th>\n",
       "    </tr>\n",
       "  </thead>\n",
       "  <tbody>\n",
       "    <tr>\n",
       "      <th>2019</th>\n",
       "      <td>2257920.0</td>\n",
       "      <td>1979558.0</td>\n",
       "      <td>2143619.0</td>\n",
       "      <td>2402692.0</td>\n",
       "      <td>2543689.0</td>\n",
       "      <td>2156262.0</td>\n",
       "      <td>2485430.0</td>\n",
       "      <td>2378673.0</td>\n",
       "      <td>2122898.0</td>\n",
       "      <td>2187298.0</td>\n",
       "    </tr>\n",
       "    <tr>\n",
       "      <th>2020</th>\n",
       "      <td>2089641.0</td>\n",
       "      <td>1736393.0</td>\n",
       "      <td>1877401.0</td>\n",
       "      <td>2130015.0</td>\n",
       "      <td>2198517.0</td>\n",
       "      <td>1844811.0</td>\n",
       "      <td>2119867.0</td>\n",
       "      <td>1909363.0</td>\n",
       "      <td>1617220.0</td>\n",
       "      <td>1702686.0</td>\n",
       "    </tr>\n",
       "    <tr>\n",
       "      <th>2021</th>\n",
       "      <td>1049692.0</td>\n",
       "      <td>744812.0</td>\n",
       "      <td>826924.0</td>\n",
       "      <td>1107534.0</td>\n",
       "      <td>1168734.0</td>\n",
       "      <td>992406.0</td>\n",
       "      <td>1278557.0</td>\n",
       "      <td>1119303.0</td>\n",
       "      <td>825745.0</td>\n",
       "      <td>974221.0</td>\n",
       "    </tr>\n",
       "  </tbody>\n",
       "</table>\n",
       "</div>"
      ],
      "text/plain": [
       "day_in_march         1          2          3          4          5    \n",
       "year                                                                  \n",
       "2019          2257920.0  1979558.0  2143619.0  2402692.0  2543689.0  \\\n",
       "2020          2089641.0  1736393.0  1877401.0  2130015.0  2198517.0   \n",
       "2021          1049692.0   744812.0   826924.0  1107534.0  1168734.0   \n",
       "\n",
       "day_in_march         6          7          8          9          10  \n",
       "year                                                                 \n",
       "2019          2156262.0  2485430.0  2378673.0  2122898.0  2187298.0  \n",
       "2020          1844811.0  2119867.0  1909363.0  1617220.0  1702686.0  \n",
       "2021           992406.0  1278557.0  1119303.0   825745.0   974221.0  "
      ]
     },
     "execution_count": 26,
     "metadata": {},
     "output_type": "execute_result"
    }
   ],
   "source": [
    "tsa_pivoted = tsa_melted\\\n",
    "    .query('date.dt.month == 3 and date.dt.day <= 10')\\\n",
    "    .assign(day_in_march=lambda x: x.date.dt.day)\\\n",
    "    .pivot(index='year', columns='day_in_march', values='travelers')\n",
    "tsa_pivoted"
   ]
  },
  {
   "cell_type": "markdown",
   "id": "370ed66f-5b39-4adf-ae0d-651c4ae1981b",
   "metadata": {
    "slideshow": {
     "slide_type": "fragment"
    },
    "tags": []
   },
   "source": [
    "**Important**: We aren't covering the `unstack()` and `stack()` methods, which are additional ways to pivot and melt, respectively. These come in handy when we have a multi-level index (e.g., if we ran `set_index()` with more than one column). More information can be found [here](https://pandas.pydata.org/pandas-docs/stable/user_guide/reshaping.html)."
   ]
  },
  {
   "cell_type": "markdown",
   "id": "e292be99-e3d6-403c-abce-56efa8b1948d",
   "metadata": {
    "slideshow": {
     "slide_type": "subslide"
    },
    "tags": []
   },
   "source": [
    "### Transposing\n",
    "\n",
    "The `T` attribute provides a quick way to flip rows and columns."
   ]
  },
  {
   "cell_type": "code",
   "execution_count": 27,
   "id": "c8a7bb2d-77c0-461b-9963-224b5bd633d2",
   "metadata": {},
   "outputs": [
    {
     "data": {
      "text/html": [
       "<div>\n",
       "<style scoped>\n",
       "    .dataframe tbody tr th:only-of-type {\n",
       "        vertical-align: middle;\n",
       "    }\n",
       "\n",
       "    .dataframe tbody tr th {\n",
       "        vertical-align: top;\n",
       "    }\n",
       "\n",
       "    .dataframe thead th {\n",
       "        text-align: right;\n",
       "    }\n",
       "</style>\n",
       "<table border=\"1\" class=\"dataframe\">\n",
       "  <thead>\n",
       "    <tr style=\"text-align: right;\">\n",
       "      <th>year</th>\n",
       "      <th>2019</th>\n",
       "      <th>2020</th>\n",
       "      <th>2021</th>\n",
       "    </tr>\n",
       "    <tr>\n",
       "      <th>day_in_march</th>\n",
       "      <th></th>\n",
       "      <th></th>\n",
       "      <th></th>\n",
       "    </tr>\n",
       "  </thead>\n",
       "  <tbody>\n",
       "    <tr>\n",
       "      <th>1</th>\n",
       "      <td>2257920.0</td>\n",
       "      <td>2089641.0</td>\n",
       "      <td>1049692.0</td>\n",
       "    </tr>\n",
       "    <tr>\n",
       "      <th>2</th>\n",
       "      <td>1979558.0</td>\n",
       "      <td>1736393.0</td>\n",
       "      <td>744812.0</td>\n",
       "    </tr>\n",
       "    <tr>\n",
       "      <th>3</th>\n",
       "      <td>2143619.0</td>\n",
       "      <td>1877401.0</td>\n",
       "      <td>826924.0</td>\n",
       "    </tr>\n",
       "    <tr>\n",
       "      <th>4</th>\n",
       "      <td>2402692.0</td>\n",
       "      <td>2130015.0</td>\n",
       "      <td>1107534.0</td>\n",
       "    </tr>\n",
       "    <tr>\n",
       "      <th>5</th>\n",
       "      <td>2543689.0</td>\n",
       "      <td>2198517.0</td>\n",
       "      <td>1168734.0</td>\n",
       "    </tr>\n",
       "    <tr>\n",
       "      <th>6</th>\n",
       "      <td>2156262.0</td>\n",
       "      <td>1844811.0</td>\n",
       "      <td>992406.0</td>\n",
       "    </tr>\n",
       "    <tr>\n",
       "      <th>7</th>\n",
       "      <td>2485430.0</td>\n",
       "      <td>2119867.0</td>\n",
       "      <td>1278557.0</td>\n",
       "    </tr>\n",
       "    <tr>\n",
       "      <th>8</th>\n",
       "      <td>2378673.0</td>\n",
       "      <td>1909363.0</td>\n",
       "      <td>1119303.0</td>\n",
       "    </tr>\n",
       "    <tr>\n",
       "      <th>9</th>\n",
       "      <td>2122898.0</td>\n",
       "      <td>1617220.0</td>\n",
       "      <td>825745.0</td>\n",
       "    </tr>\n",
       "    <tr>\n",
       "      <th>10</th>\n",
       "      <td>2187298.0</td>\n",
       "      <td>1702686.0</td>\n",
       "      <td>974221.0</td>\n",
       "    </tr>\n",
       "  </tbody>\n",
       "</table>\n",
       "</div>"
      ],
      "text/plain": [
       "year               2019       2020       2021\n",
       "day_in_march                                 \n",
       "1             2257920.0  2089641.0  1049692.0\n",
       "2             1979558.0  1736393.0   744812.0\n",
       "3             2143619.0  1877401.0   826924.0\n",
       "4             2402692.0  2130015.0  1107534.0\n",
       "5             2543689.0  2198517.0  1168734.0\n",
       "6             2156262.0  1844811.0   992406.0\n",
       "7             2485430.0  2119867.0  1278557.0\n",
       "8             2378673.0  1909363.0  1119303.0\n",
       "9             2122898.0  1617220.0   825745.0\n",
       "10            2187298.0  1702686.0   974221.0"
      ]
     },
     "execution_count": 27,
     "metadata": {},
     "output_type": "execute_result"
    }
   ],
   "source": [
    "tsa_pivoted.T"
   ]
  },
  {
   "cell_type": "markdown",
   "id": "65da6408-d946-4420-8fec-327094bf46e9",
   "metadata": {
    "slideshow": {
     "slide_type": "subslide"
    },
    "tags": []
   },
   "source": [
    "### Merging\n",
    "\n",
    "We typically observe changes in air travel around the holidays, so adding information about the dates in the TSA dataset provides more context. The `holidays.csv` file contains a few major holidays in the United States:"
   ]
  },
  {
   "cell_type": "code",
   "execution_count": 28,
   "id": "df6a13e1-af80-4d5e-9aa6-24495d7197cd",
   "metadata": {},
   "outputs": [
    {
     "data": {
      "text/html": [
       "<div>\n",
       "<style scoped>\n",
       "    .dataframe tbody tr th:only-of-type {\n",
       "        vertical-align: middle;\n",
       "    }\n",
       "\n",
       "    .dataframe tbody tr th {\n",
       "        vertical-align: top;\n",
       "    }\n",
       "\n",
       "    .dataframe thead th {\n",
       "        text-align: right;\n",
       "    }\n",
       "</style>\n",
       "<table border=\"1\" class=\"dataframe\">\n",
       "  <thead>\n",
       "    <tr style=\"text-align: right;\">\n",
       "      <th></th>\n",
       "      <th>holiday</th>\n",
       "    </tr>\n",
       "    <tr>\n",
       "      <th>date</th>\n",
       "      <th></th>\n",
       "    </tr>\n",
       "  </thead>\n",
       "  <tbody>\n",
       "    <tr>\n",
       "      <th>2019-01-01</th>\n",
       "      <td>New Year's Day</td>\n",
       "    </tr>\n",
       "    <tr>\n",
       "      <th>2019-05-27</th>\n",
       "      <td>Memorial Day</td>\n",
       "    </tr>\n",
       "    <tr>\n",
       "      <th>2019-07-04</th>\n",
       "      <td>July 4th</td>\n",
       "    </tr>\n",
       "    <tr>\n",
       "      <th>2019-09-02</th>\n",
       "      <td>Labor Day</td>\n",
       "    </tr>\n",
       "    <tr>\n",
       "      <th>2019-11-28</th>\n",
       "      <td>Thanksgiving</td>\n",
       "    </tr>\n",
       "    <tr>\n",
       "      <th>2019-12-24</th>\n",
       "      <td>Christmas Eve</td>\n",
       "    </tr>\n",
       "    <tr>\n",
       "      <th>2019-12-25</th>\n",
       "      <td>Christmas Day</td>\n",
       "    </tr>\n",
       "    <tr>\n",
       "      <th>2019-12-31</th>\n",
       "      <td>New Year's Eve</td>\n",
       "    </tr>\n",
       "  </tbody>\n",
       "</table>\n",
       "</div>"
      ],
      "text/plain": [
       "                   holiday\n",
       "date                      \n",
       "2019-01-01  New Year's Day\n",
       "2019-05-27    Memorial Day\n",
       "2019-07-04        July 4th\n",
       "2019-09-02       Labor Day\n",
       "2019-11-28    Thanksgiving\n",
       "2019-12-24   Christmas Eve\n",
       "2019-12-25   Christmas Day\n",
       "2019-12-31  New Year's Eve"
      ]
     },
     "execution_count": 28,
     "metadata": {},
     "output_type": "execute_result"
    }
   ],
   "source": [
    "holidays = pd.read_csv('../data/holidays.csv', parse_dates=True, index_col='date')\n",
    "holidays.loc['2019']"
   ]
  },
  {
   "cell_type": "markdown",
   "id": "a0832a27-605c-48bd-b564-0901c2796b90",
   "metadata": {
    "slideshow": {
     "slide_type": "subslide"
    },
    "tags": []
   },
   "source": [
    "Merging the holidays with the TSA traveler throughput data will provide more context for our analysis:"
   ]
  },
  {
   "cell_type": "code",
   "execution_count": 29,
   "id": "367b9ccb-04f6-4400-88b2-ce548990bb6f",
   "metadata": {
    "tags": []
   },
   "outputs": [
    {
     "data": {
      "text/html": [
       "<div>\n",
       "<style scoped>\n",
       "    .dataframe tbody tr th:only-of-type {\n",
       "        vertical-align: middle;\n",
       "    }\n",
       "\n",
       "    .dataframe tbody tr th {\n",
       "        vertical-align: top;\n",
       "    }\n",
       "\n",
       "    .dataframe thead th {\n",
       "        text-align: right;\n",
       "    }\n",
       "</style>\n",
       "<table border=\"1\" class=\"dataframe\">\n",
       "  <thead>\n",
       "    <tr style=\"text-align: right;\">\n",
       "      <th></th>\n",
       "      <th>date</th>\n",
       "      <th>year</th>\n",
       "      <th>travelers</th>\n",
       "      <th>holiday</th>\n",
       "    </tr>\n",
       "  </thead>\n",
       "  <tbody>\n",
       "    <tr>\n",
       "      <th>863</th>\n",
       "      <td>2019-01-01</td>\n",
       "      <td>2019</td>\n",
       "      <td>2126398.0</td>\n",
       "      <td>New Year's Day</td>\n",
       "    </tr>\n",
       "    <tr>\n",
       "      <th>862</th>\n",
       "      <td>2019-01-02</td>\n",
       "      <td>2019</td>\n",
       "      <td>2345103.0</td>\n",
       "      <td>NaN</td>\n",
       "    </tr>\n",
       "    <tr>\n",
       "      <th>861</th>\n",
       "      <td>2019-01-03</td>\n",
       "      <td>2019</td>\n",
       "      <td>2202111.0</td>\n",
       "      <td>NaN</td>\n",
       "    </tr>\n",
       "    <tr>\n",
       "      <th>860</th>\n",
       "      <td>2019-01-04</td>\n",
       "      <td>2019</td>\n",
       "      <td>2150571.0</td>\n",
       "      <td>NaN</td>\n",
       "    </tr>\n",
       "    <tr>\n",
       "      <th>859</th>\n",
       "      <td>2019-01-05</td>\n",
       "      <td>2019</td>\n",
       "      <td>1975947.0</td>\n",
       "      <td>NaN</td>\n",
       "    </tr>\n",
       "  </tbody>\n",
       "</table>\n",
       "</div>"
      ],
      "text/plain": [
       "          date  year  travelers         holiday\n",
       "863 2019-01-01  2019  2126398.0  New Year's Day\n",
       "862 2019-01-02  2019  2345103.0             NaN\n",
       "861 2019-01-03  2019  2202111.0             NaN\n",
       "860 2019-01-04  2019  2150571.0             NaN\n",
       "859 2019-01-05  2019  1975947.0             NaN"
      ]
     },
     "execution_count": 29,
     "metadata": {},
     "output_type": "execute_result"
    }
   ],
   "source": [
    "tsa_melted_holidays = tsa_melted\\\n",
    "    .merge(holidays, left_on='date', right_index=True, how='left')\\\n",
    "    .sort_values('date')\n",
    "tsa_melted_holidays.head()"
   ]
  },
  {
   "cell_type": "markdown",
   "id": "29efc7c8-f2c6-4a28-a36f-25e9da612d14",
   "metadata": {
    "slideshow": {
     "slide_type": "fragment"
    },
    "tags": []
   },
   "source": [
    "*Tip: There are many parameters for this method, so be sure to check out the [documentation](https://pandas.pydata.org/pandas-docs/stable/reference/api/pandas.DataFrame.merge.html). To append rows, take a look at the `pd.concat()` function.*"
   ]
  },
  {
   "cell_type": "markdown",
   "id": "6d79f677-5759-4790-9004-cb1a6361a0a8",
   "metadata": {
    "slideshow": {
     "slide_type": "subslide"
    },
    "tags": []
   },
   "source": [
    "We can take this a step further by marking a few days before and after each holiday as part of the holiday. This would make it easier to compare holiday travel across years and look for any uptick in travel around the holidays:"
   ]
  },
  {
   "cell_type": "code",
   "execution_count": 30,
   "id": "a589df8f-5870-41ea-b4c1-e413fa76ad31",
   "metadata": {},
   "outputs": [],
   "source": [
    "tsa_melted_holiday_travel = tsa_melted_holidays.assign(\n",
    "    holiday=lambda x:\n",
    "        x.holiday\\\n",
    "            .fillna(method='ffill', limit=1)\\\n",
    "            .fillna(method='bfill', limit=2)\n",
    ")"
   ]
  },
  {
   "cell_type": "markdown",
   "id": "eb5a331c-143a-4b3e-bb90-9d948da4d148",
   "metadata": {
    "slideshow": {
     "slide_type": "fragment"
    },
    "tags": []
   },
   "source": [
    "*Tip: Check out the [documentation](https://pandas.pydata.org/pandas-docs/stable/reference/api/pandas.DataFrame.fillna.html) for the full list of functionality available with the `fillna()` method.*"
   ]
  },
  {
   "cell_type": "markdown",
   "id": "1c86a8f0-124b-4837-9c09-21923fbcb926",
   "metadata": {
    "slideshow": {
     "slide_type": "subslide"
    },
    "tags": []
   },
   "source": [
    "Notice that we now have values for the day after each holiday and the two days prior. Thanksgiving in 2019 was on November 28th, so the 26th, 27th, and 29th were filled. Since we are only replacing null values, we don't override Christmas Day with the forward fill of Christmas Eve:"
   ]
  },
  {
   "cell_type": "code",
   "execution_count": 31,
   "id": "c895269f-37b5-4246-974a-d8a91730f346",
   "metadata": {},
   "outputs": [
    {
     "data": {
      "text/html": [
       "<div>\n",
       "<style scoped>\n",
       "    .dataframe tbody tr th:only-of-type {\n",
       "        vertical-align: middle;\n",
       "    }\n",
       "\n",
       "    .dataframe tbody tr th {\n",
       "        vertical-align: top;\n",
       "    }\n",
       "\n",
       "    .dataframe thead th {\n",
       "        text-align: right;\n",
       "    }\n",
       "</style>\n",
       "<table border=\"1\" class=\"dataframe\">\n",
       "  <thead>\n",
       "    <tr style=\"text-align: right;\">\n",
       "      <th></th>\n",
       "      <th>date</th>\n",
       "      <th>year</th>\n",
       "      <th>travelers</th>\n",
       "      <th>holiday</th>\n",
       "    </tr>\n",
       "  </thead>\n",
       "  <tbody>\n",
       "    <tr>\n",
       "      <th>899</th>\n",
       "      <td>2019-11-26</td>\n",
       "      <td>2019</td>\n",
       "      <td>1591158.0</td>\n",
       "      <td>Thanksgiving</td>\n",
       "    </tr>\n",
       "    <tr>\n",
       "      <th>898</th>\n",
       "      <td>2019-11-27</td>\n",
       "      <td>2019</td>\n",
       "      <td>1968137.0</td>\n",
       "      <td>Thanksgiving</td>\n",
       "    </tr>\n",
       "    <tr>\n",
       "      <th>897</th>\n",
       "      <td>2019-11-28</td>\n",
       "      <td>2019</td>\n",
       "      <td>2648268.0</td>\n",
       "      <td>Thanksgiving</td>\n",
       "    </tr>\n",
       "    <tr>\n",
       "      <th>896</th>\n",
       "      <td>2019-11-29</td>\n",
       "      <td>2019</td>\n",
       "      <td>2882915.0</td>\n",
       "      <td>Thanksgiving</td>\n",
       "    </tr>\n",
       "    <tr>\n",
       "      <th>873</th>\n",
       "      <td>2019-12-22</td>\n",
       "      <td>2019</td>\n",
       "      <td>1981433.0</td>\n",
       "      <td>Christmas Eve</td>\n",
       "    </tr>\n",
       "    <tr>\n",
       "      <th>872</th>\n",
       "      <td>2019-12-23</td>\n",
       "      <td>2019</td>\n",
       "      <td>1937235.0</td>\n",
       "      <td>Christmas Eve</td>\n",
       "    </tr>\n",
       "    <tr>\n",
       "      <th>871</th>\n",
       "      <td>2019-12-24</td>\n",
       "      <td>2019</td>\n",
       "      <td>2552194.0</td>\n",
       "      <td>Christmas Eve</td>\n",
       "    </tr>\n",
       "    <tr>\n",
       "      <th>870</th>\n",
       "      <td>2019-12-25</td>\n",
       "      <td>2019</td>\n",
       "      <td>2582580.0</td>\n",
       "      <td>Christmas Day</td>\n",
       "    </tr>\n",
       "    <tr>\n",
       "      <th>869</th>\n",
       "      <td>2019-12-26</td>\n",
       "      <td>2019</td>\n",
       "      <td>2470786.0</td>\n",
       "      <td>Christmas Day</td>\n",
       "    </tr>\n",
       "  </tbody>\n",
       "</table>\n",
       "</div>"
      ],
      "text/plain": [
       "          date  year  travelers        holiday\n",
       "899 2019-11-26  2019  1591158.0   Thanksgiving\n",
       "898 2019-11-27  2019  1968137.0   Thanksgiving\n",
       "897 2019-11-28  2019  2648268.0   Thanksgiving\n",
       "896 2019-11-29  2019  2882915.0   Thanksgiving\n",
       "873 2019-12-22  2019  1981433.0  Christmas Eve\n",
       "872 2019-12-23  2019  1937235.0  Christmas Eve\n",
       "871 2019-12-24  2019  2552194.0  Christmas Eve\n",
       "870 2019-12-25  2019  2582580.0  Christmas Day\n",
       "869 2019-12-26  2019  2470786.0  Christmas Day"
      ]
     },
     "execution_count": 31,
     "metadata": {},
     "output_type": "execute_result"
    }
   ],
   "source": [
    "tsa_melted_holiday_travel.query(\n",
    "    'year == \"2019\" and '\n",
    "    '(holiday == \"Thanksgiving\" or holiday.str.contains(\"Christmas\"))'\n",
    ")"
   ]
  },
  {
   "cell_type": "markdown",
   "id": "84597dd2-780e-451c-8263-c02fdadb857b",
   "metadata": {
    "slideshow": {
     "slide_type": "slide"
    },
    "tags": []
   },
   "source": [
    "## Aggregations and grouping\n",
    "\n",
    "After reshaping and cleaning our data, we can perform aggregations to summarize it in a variety of ways. In this section, we will explore using pivot tables, crosstabs, and group by operations to aggregate the data."
   ]
  },
  {
   "cell_type": "markdown",
   "id": "350010f2-30ac-4167-8aa6-41e71933ef74",
   "metadata": {
    "slideshow": {
     "slide_type": "subslide"
    },
    "tags": []
   },
   "source": [
    "### Pivot tables\n",
    "We can build a pivot table to compare holiday travel across the years in our dataset:"
   ]
  },
  {
   "cell_type": "code",
   "execution_count": 32,
   "id": "944749f0-d9e1-4a6e-ad15-c8f33e737080",
   "metadata": {},
   "outputs": [
    {
     "data": {
      "text/html": [
       "<div>\n",
       "<style scoped>\n",
       "    .dataframe tbody tr th:only-of-type {\n",
       "        vertical-align: middle;\n",
       "    }\n",
       "\n",
       "    .dataframe tbody tr th {\n",
       "        vertical-align: top;\n",
       "    }\n",
       "\n",
       "    .dataframe thead th {\n",
       "        text-align: right;\n",
       "    }\n",
       "</style>\n",
       "<table border=\"1\" class=\"dataframe\">\n",
       "  <thead>\n",
       "    <tr style=\"text-align: right;\">\n",
       "      <th>holiday</th>\n",
       "      <th>Christmas Day</th>\n",
       "      <th>Christmas Eve</th>\n",
       "      <th>July 4th</th>\n",
       "      <th>Labor Day</th>\n",
       "      <th>Memorial Day</th>\n",
       "      <th>New Year's Day</th>\n",
       "      <th>New Year's Eve</th>\n",
       "      <th>Thanksgiving</th>\n",
       "    </tr>\n",
       "    <tr>\n",
       "      <th>year</th>\n",
       "      <th></th>\n",
       "      <th></th>\n",
       "      <th></th>\n",
       "      <th></th>\n",
       "      <th></th>\n",
       "      <th></th>\n",
       "      <th></th>\n",
       "      <th></th>\n",
       "    </tr>\n",
       "  </thead>\n",
       "  <tbody>\n",
       "    <tr>\n",
       "      <th>2019</th>\n",
       "      <td>5053366.0</td>\n",
       "      <td>6470862.0</td>\n",
       "      <td>9414228.0</td>\n",
       "      <td>8314811.0</td>\n",
       "      <td>9720691.0</td>\n",
       "      <td>4471501.0</td>\n",
       "      <td>6535464.0</td>\n",
       "      <td>9090478.0</td>\n",
       "    </tr>\n",
       "    <tr>\n",
       "      <th>2020</th>\n",
       "      <td>1745242.0</td>\n",
       "      <td>3029810.0</td>\n",
       "      <td>2682541.0</td>\n",
       "      <td>2993653.0</td>\n",
       "      <td>1126253.0</td>\n",
       "      <td>4490388.0</td>\n",
       "      <td>3057449.0</td>\n",
       "      <td>3364358.0</td>\n",
       "    </tr>\n",
       "    <tr>\n",
       "      <th>2021</th>\n",
       "      <td>NaN</td>\n",
       "      <td>NaN</td>\n",
       "      <td>NaN</td>\n",
       "      <td>NaN</td>\n",
       "      <td>NaN</td>\n",
       "      <td>1998871.0</td>\n",
       "      <td>NaN</td>\n",
       "      <td>NaN</td>\n",
       "    </tr>\n",
       "  </tbody>\n",
       "</table>\n",
       "</div>"
      ],
      "text/plain": [
       "holiday  Christmas Day  Christmas Eve   July 4th  Labor Day  Memorial Day   \n",
       "year                                                                        \n",
       "2019         5053366.0      6470862.0  9414228.0  8314811.0     9720691.0  \\\n",
       "2020         1745242.0      3029810.0  2682541.0  2993653.0     1126253.0   \n",
       "2021               NaN            NaN        NaN        NaN           NaN   \n",
       "\n",
       "holiday  New Year's Day  New Year's Eve  Thanksgiving  \n",
       "year                                                   \n",
       "2019          4471501.0       6535464.0     9090478.0  \n",
       "2020          4490388.0       3057449.0     3364358.0  \n",
       "2021          1998871.0             NaN           NaN  "
      ]
     },
     "execution_count": 32,
     "metadata": {},
     "output_type": "execute_result"
    }
   ],
   "source": [
    "tsa_melted_holiday_travel.pivot_table(\n",
    "    index='year', columns='holiday', \n",
    "    values='travelers', aggfunc='sum'\n",
    ")"
   ]
  },
  {
   "cell_type": "markdown",
   "id": "9a189e47-9347-4922-a345-471206d8192c",
   "metadata": {
    "slideshow": {
     "slide_type": "subslide"
    },
    "tags": []
   },
   "source": [
    "We can use the `pct_change()` method on this result to see which holiday travel periods saw the biggest change in travel:"
   ]
  },
  {
   "cell_type": "code",
   "execution_count": 33,
   "id": "ad480312-626f-401b-93d3-0ffd6a6392bb",
   "metadata": {},
   "outputs": [
    {
     "data": {
      "text/html": [
       "<div>\n",
       "<style scoped>\n",
       "    .dataframe tbody tr th:only-of-type {\n",
       "        vertical-align: middle;\n",
       "    }\n",
       "\n",
       "    .dataframe tbody tr th {\n",
       "        vertical-align: top;\n",
       "    }\n",
       "\n",
       "    .dataframe thead th {\n",
       "        text-align: right;\n",
       "    }\n",
       "</style>\n",
       "<table border=\"1\" class=\"dataframe\">\n",
       "  <thead>\n",
       "    <tr style=\"text-align: right;\">\n",
       "      <th>holiday</th>\n",
       "      <th>Christmas Day</th>\n",
       "      <th>Christmas Eve</th>\n",
       "      <th>July 4th</th>\n",
       "      <th>Labor Day</th>\n",
       "      <th>Memorial Day</th>\n",
       "      <th>New Year's Day</th>\n",
       "      <th>New Year's Eve</th>\n",
       "      <th>Thanksgiving</th>\n",
       "    </tr>\n",
       "    <tr>\n",
       "      <th>year</th>\n",
       "      <th></th>\n",
       "      <th></th>\n",
       "      <th></th>\n",
       "      <th></th>\n",
       "      <th></th>\n",
       "      <th></th>\n",
       "      <th></th>\n",
       "      <th></th>\n",
       "    </tr>\n",
       "  </thead>\n",
       "  <tbody>\n",
       "    <tr>\n",
       "      <th>2019</th>\n",
       "      <td>NaN</td>\n",
       "      <td>NaN</td>\n",
       "      <td>NaN</td>\n",
       "      <td>NaN</td>\n",
       "      <td>NaN</td>\n",
       "      <td>NaN</td>\n",
       "      <td>NaN</td>\n",
       "      <td>NaN</td>\n",
       "    </tr>\n",
       "    <tr>\n",
       "      <th>2020</th>\n",
       "      <td>-0.654638</td>\n",
       "      <td>-0.531776</td>\n",
       "      <td>-0.715055</td>\n",
       "      <td>-0.639961</td>\n",
       "      <td>-0.884139</td>\n",
       "      <td>0.004224</td>\n",
       "      <td>-0.532176</td>\n",
       "      <td>-0.629903</td>\n",
       "    </tr>\n",
       "    <tr>\n",
       "      <th>2021</th>\n",
       "      <td>0.000000</td>\n",
       "      <td>0.000000</td>\n",
       "      <td>0.000000</td>\n",
       "      <td>0.000000</td>\n",
       "      <td>0.000000</td>\n",
       "      <td>-0.554856</td>\n",
       "      <td>0.000000</td>\n",
       "      <td>0.000000</td>\n",
       "    </tr>\n",
       "  </tbody>\n",
       "</table>\n",
       "</div>"
      ],
      "text/plain": [
       "holiday  Christmas Day  Christmas Eve  July 4th  Labor Day  Memorial Day   \n",
       "year                                                                       \n",
       "2019               NaN            NaN       NaN        NaN           NaN  \\\n",
       "2020         -0.654638      -0.531776 -0.715055  -0.639961     -0.884139   \n",
       "2021          0.000000       0.000000  0.000000   0.000000      0.000000   \n",
       "\n",
       "holiday  New Year's Day  New Year's Eve  Thanksgiving  \n",
       "year                                                   \n",
       "2019                NaN             NaN           NaN  \n",
       "2020           0.004224       -0.532176     -0.629903  \n",
       "2021          -0.554856        0.000000      0.000000  "
      ]
     },
     "execution_count": 33,
     "metadata": {},
     "output_type": "execute_result"
    }
   ],
   "source": [
    "tsa_melted_holiday_travel.pivot_table(\n",
    "    index='year', columns='holiday', \n",
    "    values='travelers', aggfunc='sum'\n",
    ").pct_change()"
   ]
  },
  {
   "cell_type": "markdown",
   "id": "30a2f712-13e2-4f84-a6aa-d234b8d65dff",
   "metadata": {
    "slideshow": {
     "slide_type": "subslide"
    },
    "tags": []
   },
   "source": [
    "Let's make one last pivot table with column and row subtotals, along with some formatting improvements. First, we set a display option for all floats:"
   ]
  },
  {
   "cell_type": "code",
   "execution_count": 34,
   "id": "33a98f21-ea62-432c-8f7f-ee0d542b155b",
   "metadata": {},
   "outputs": [],
   "source": [
    "pd.set_option('display.float_format', '{:,.0f}'.format)"
   ]
  },
  {
   "cell_type": "markdown",
   "id": "d5ccd3b9-2179-45ac-85a2-6b57f220b1ed",
   "metadata": {
    "slideshow": {
     "slide_type": "subslide"
    },
    "tags": []
   },
   "source": [
    "Next, we group together Christmas Eve and Christmas Day, likewise for New Year's Eve and New Year's Day, and create the pivot table:"
   ]
  },
  {
   "cell_type": "code",
   "execution_count": 35,
   "id": "98ab467c-f26d-436d-9f73-7ea35fc5fa86",
   "metadata": {},
   "outputs": [
    {
     "data": {
      "text/html": [
       "<div>\n",
       "<style scoped>\n",
       "    .dataframe tbody tr th:only-of-type {\n",
       "        vertical-align: middle;\n",
       "    }\n",
       "\n",
       "    .dataframe tbody tr th {\n",
       "        vertical-align: top;\n",
       "    }\n",
       "\n",
       "    .dataframe thead th {\n",
       "        text-align: right;\n",
       "    }\n",
       "</style>\n",
       "<table border=\"1\" class=\"dataframe\">\n",
       "  <thead>\n",
       "    <tr style=\"text-align: right;\">\n",
       "      <th>holiday</th>\n",
       "      <th>Christmas</th>\n",
       "      <th>July 4th</th>\n",
       "      <th>Labor Day</th>\n",
       "      <th>Memorial Day</th>\n",
       "      <th>New Year's</th>\n",
       "      <th>Thanksgiving</th>\n",
       "      <th>Total</th>\n",
       "    </tr>\n",
       "    <tr>\n",
       "      <th>year</th>\n",
       "      <th></th>\n",
       "      <th></th>\n",
       "      <th></th>\n",
       "      <th></th>\n",
       "      <th></th>\n",
       "      <th></th>\n",
       "      <th></th>\n",
       "    </tr>\n",
       "  </thead>\n",
       "  <tbody>\n",
       "    <tr>\n",
       "      <th>2019</th>\n",
       "      <td>11,524,228</td>\n",
       "      <td>9,414,228</td>\n",
       "      <td>8,314,811</td>\n",
       "      <td>9,720,691</td>\n",
       "      <td>11,006,965</td>\n",
       "      <td>9,090,478</td>\n",
       "      <td>59,071,401</td>\n",
       "    </tr>\n",
       "    <tr>\n",
       "      <th>2020</th>\n",
       "      <td>4,775,052</td>\n",
       "      <td>2,682,541</td>\n",
       "      <td>2,993,653</td>\n",
       "      <td>1,126,253</td>\n",
       "      <td>7,547,837</td>\n",
       "      <td>3,364,358</td>\n",
       "      <td>22,489,694</td>\n",
       "    </tr>\n",
       "    <tr>\n",
       "      <th>2021</th>\n",
       "      <td>NaN</td>\n",
       "      <td>NaN</td>\n",
       "      <td>NaN</td>\n",
       "      <td>NaN</td>\n",
       "      <td>1,998,871</td>\n",
       "      <td>NaN</td>\n",
       "      <td>1,998,871</td>\n",
       "    </tr>\n",
       "    <tr>\n",
       "      <th>Total</th>\n",
       "      <td>16,299,280</td>\n",
       "      <td>12,096,769</td>\n",
       "      <td>11,308,464</td>\n",
       "      <td>10,846,944</td>\n",
       "      <td>20,553,673</td>\n",
       "      <td>12,454,836</td>\n",
       "      <td>83,559,966</td>\n",
       "    </tr>\n",
       "  </tbody>\n",
       "</table>\n",
       "</div>"
      ],
      "text/plain": [
       "holiday  Christmas   July 4th  Labor Day  Memorial Day  New Year's   \n",
       "year                                                                 \n",
       "2019    11,524,228  9,414,228  8,314,811     9,720,691  11,006,965  \\\n",
       "2020     4,775,052  2,682,541  2,993,653     1,126,253   7,547,837   \n",
       "2021           NaN        NaN        NaN           NaN   1,998,871   \n",
       "Total   16,299,280 12,096,769 11,308,464    10,846,944  20,553,673   \n",
       "\n",
       "holiday  Thanksgiving      Total  \n",
       "year                              \n",
       "2019        9,090,478 59,071,401  \n",
       "2020        3,364,358 22,489,694  \n",
       "2021              NaN  1,998,871  \n",
       "Total      12,454,836 83,559,966  "
      ]
     },
     "execution_count": 35,
     "metadata": {},
     "output_type": "execute_result"
    }
   ],
   "source": [
    "import numpy as np\n",
    "\n",
    "tsa_melted_holiday_travel.assign(\n",
    "    holiday=lambda x: np.where(\n",
    "        x.holiday.str.contains('Christmas|New Year', regex=True), \n",
    "        x.holiday.str.replace('Day|Eve', '', regex=True).str.strip(), \n",
    "        x.holiday\n",
    "    )\n",
    ").pivot_table(\n",
    "    index='year', columns='holiday', \n",
    "    values='travelers', aggfunc='sum', \n",
    "    margins=True, margins_name='Total'\n",
    ")"
   ]
  },
  {
   "cell_type": "markdown",
   "id": "145150cd-3fde-48c1-87d4-857c858d8494",
   "metadata": {
    "slideshow": {
     "slide_type": "subslide"
    },
    "tags": []
   },
   "source": [
    "Before moving on, let's reset the display option:"
   ]
  },
  {
   "cell_type": "code",
   "execution_count": 36,
   "id": "55e95c66-fb5b-4ee2-a1ce-8ead82a2715a",
   "metadata": {},
   "outputs": [],
   "source": [
    "pd.reset_option('display.float_format')"
   ]
  },
  {
   "cell_type": "markdown",
   "id": "fa6dc364-f48f-482b-86be-152d6d16961f",
   "metadata": {
    "slideshow": {
     "slide_type": "fragment"
    },
    "tags": []
   },
   "source": [
    "*Tip: Read more about options in the documentation [here](https://pandas.pydata.org/pandas-docs/stable/user_guide/options.html).*"
   ]
  },
  {
   "cell_type": "markdown",
   "id": "87b782d9-3404-4e68-b0eb-cdc201393cb3",
   "metadata": {},
   "source": [
    "### [Exercise 2.3](./workbook.ipynb#Exercise-2.3)\n",
    "\n",
    "##### Using the meteorite data from the `Meteorite_Landings.csv` file, create a pivot table that shows both the number of meteorites and the 95th percentile of meteorite mass for those that were found versus observed falling per year from 2005 through 2009 (inclusive). Hint: Be sure to convert the `year` column to a number as we did in the previous exercise."
   ]
  },
  {
   "cell_type": "code",
   "execution_count": 37,
   "id": "86157a08-5379-4ffd-af34-da2ef32a2633",
   "metadata": {},
   "outputs": [],
   "source": [
    "# Complete this exercise in the workbook.ipynb file\n",
    "# Click on `Exercise 2.3` above to open the workbook.ipynb file\n",
    "\n",
    "# WARNING: if you complete the exercise here, your cell numbers\n",
    "# for the rest of the training might not match the slides"
   ]
  },
  {
   "cell_type": "markdown",
   "id": "2d988e70-5547-4a15-ab6c-b0eade8fb8b9",
   "metadata": {
    "slideshow": {
     "slide_type": "subslide"
    },
    "tags": []
   },
   "source": [
    "### Crosstabs\n",
    "The `pd.crosstab()` function provides an easy way to create a frequency table. Here, we count the number of low-, medium-, and high-volume travel days per year, using the `pd.cut()` function to create three travel volume bins of equal width:"
   ]
  },
  {
   "cell_type": "code",
   "execution_count": 38,
   "id": "27d17ef2-b8be-43df-aab8-a2d7f5d228f5",
   "metadata": {},
   "outputs": [
    {
     "data": {
      "text/html": [
       "<div>\n",
       "<style scoped>\n",
       "    .dataframe tbody tr th:only-of-type {\n",
       "        vertical-align: middle;\n",
       "    }\n",
       "\n",
       "    .dataframe tbody tr th {\n",
       "        vertical-align: top;\n",
       "    }\n",
       "\n",
       "    .dataframe thead th {\n",
       "        text-align: right;\n",
       "    }\n",
       "</style>\n",
       "<table border=\"1\" class=\"dataframe\">\n",
       "  <thead>\n",
       "    <tr style=\"text-align: right;\">\n",
       "      <th>year</th>\n",
       "      <th>2019</th>\n",
       "      <th>2020</th>\n",
       "      <th>2021</th>\n",
       "    </tr>\n",
       "    <tr>\n",
       "      <th>travel_volume</th>\n",
       "      <th></th>\n",
       "      <th></th>\n",
       "      <th></th>\n",
       "    </tr>\n",
       "  </thead>\n",
       "  <tbody>\n",
       "    <tr>\n",
       "      <th>low</th>\n",
       "      <td>0</td>\n",
       "      <td>277</td>\n",
       "      <td>54</td>\n",
       "    </tr>\n",
       "    <tr>\n",
       "      <th>medium</th>\n",
       "      <td>42</td>\n",
       "      <td>44</td>\n",
       "      <td>80</td>\n",
       "    </tr>\n",
       "    <tr>\n",
       "      <th>high</th>\n",
       "      <td>323</td>\n",
       "      <td>44</td>\n",
       "      <td>0</td>\n",
       "    </tr>\n",
       "  </tbody>\n",
       "</table>\n",
       "</div>"
      ],
      "text/plain": [
       "year           2019  2020  2021\n",
       "travel_volume                  \n",
       "low               0   277    54\n",
       "medium           42    44    80\n",
       "high            323    44     0"
      ]
     },
     "execution_count": 38,
     "metadata": {},
     "output_type": "execute_result"
    }
   ],
   "source": [
    "pd.crosstab(\n",
    "    index=pd.cut(\n",
    "        tsa_melted_holiday_travel.travelers, \n",
    "        bins=3, labels=['low', 'medium', 'high']\n",
    "    ),\n",
    "    columns=tsa_melted_holiday_travel.year,\n",
    "    rownames=['travel_volume']\n",
    ")"
   ]
  },
  {
   "cell_type": "markdown",
   "id": "7aceb604-c3e9-4b1a-b62d-ada3f86ad897",
   "metadata": {
    "slideshow": {
     "slide_type": "fragment"
    },
    "tags": []
   },
   "source": [
    "*Tip: The `pd.cut()` function can also be used to specify custom bin ranges. For equal-sized bins based on quantiles, use the `pd.qcut()` function instead.*"
   ]
  },
  {
   "cell_type": "markdown",
   "id": "cb00efed-de93-4adf-92b2-4d88ae07565e",
   "metadata": {
    "slideshow": {
     "slide_type": "subslide"
    },
    "tags": []
   },
   "source": [
    "Note that the `pd.crosstab()` function supports other aggregations provided you pass in the data to aggregate as `values` and specify the aggregation with `aggfunc`. You can also add subtotals and normalize the data. See the [documentation](https://pandas.pydata.org/pandas-docs/stable/reference/api/pandas.crosstab.html) for more information."
   ]
  },
  {
   "cell_type": "markdown",
   "id": "08c2a7b6-7e1d-4c91-9360-888335dc26df",
   "metadata": {
    "slideshow": {
     "slide_type": "subslide"
    },
    "tags": []
   },
   "source": [
    "### Group by operations\n",
    "Rather than perform aggregations, like `mean()` or `describe()`, on the full dataset at once, we can perform these calculations per group by first calling `groupby()`:"
   ]
  },
  {
   "cell_type": "code",
   "execution_count": 39,
   "id": "638ecd3d-48e9-4fea-96eb-1a6be49bb43d",
   "metadata": {},
   "outputs": [
    {
     "data": {
      "text/html": [
       "<div>\n",
       "<style scoped>\n",
       "    .dataframe tbody tr th:only-of-type {\n",
       "        vertical-align: middle;\n",
       "    }\n",
       "\n",
       "    .dataframe tbody tr th {\n",
       "        vertical-align: top;\n",
       "    }\n",
       "\n",
       "    .dataframe thead tr th {\n",
       "        text-align: left;\n",
       "    }\n",
       "\n",
       "    .dataframe thead tr:last-of-type th {\n",
       "        text-align: right;\n",
       "    }\n",
       "</style>\n",
       "<table border=\"1\" class=\"dataframe\">\n",
       "  <thead>\n",
       "    <tr>\n",
       "      <th></th>\n",
       "      <th colspan=\"8\" halign=\"left\">travelers</th>\n",
       "    </tr>\n",
       "    <tr>\n",
       "      <th></th>\n",
       "      <th>count</th>\n",
       "      <th>mean</th>\n",
       "      <th>std</th>\n",
       "      <th>min</th>\n",
       "      <th>25%</th>\n",
       "      <th>50%</th>\n",
       "      <th>75%</th>\n",
       "      <th>max</th>\n",
       "    </tr>\n",
       "    <tr>\n",
       "      <th>year</th>\n",
       "      <th></th>\n",
       "      <th></th>\n",
       "      <th></th>\n",
       "      <th></th>\n",
       "      <th></th>\n",
       "      <th></th>\n",
       "      <th></th>\n",
       "      <th></th>\n",
       "    </tr>\n",
       "  </thead>\n",
       "  <tbody>\n",
       "    <tr>\n",
       "      <th>2019</th>\n",
       "      <td>365.0</td>\n",
       "      <td>2.309482e+06</td>\n",
       "      <td>285061.490784</td>\n",
       "      <td>1534386.0</td>\n",
       "      <td>2091116.0</td>\n",
       "      <td>2358007.0</td>\n",
       "      <td>2538384.00</td>\n",
       "      <td>2882915.0</td>\n",
       "    </tr>\n",
       "    <tr>\n",
       "      <th>2020</th>\n",
       "      <td>365.0</td>\n",
       "      <td>8.818674e+05</td>\n",
       "      <td>639775.194297</td>\n",
       "      <td>87534.0</td>\n",
       "      <td>507129.0</td>\n",
       "      <td>718310.0</td>\n",
       "      <td>983745.00</td>\n",
       "      <td>2507588.0</td>\n",
       "    </tr>\n",
       "    <tr>\n",
       "      <th>2021</th>\n",
       "      <td>134.0</td>\n",
       "      <td>1.112632e+06</td>\n",
       "      <td>338040.673782</td>\n",
       "      <td>468933.0</td>\n",
       "      <td>807156.0</td>\n",
       "      <td>1117391.0</td>\n",
       "      <td>1409377.75</td>\n",
       "      <td>1743515.0</td>\n",
       "    </tr>\n",
       "  </tbody>\n",
       "</table>\n",
       "</div>"
      ],
      "text/plain": [
       "     travelers                                                                 \n",
       "         count          mean            std        min        25%        50%   \n",
       "year                                                                           \n",
       "2019     365.0  2.309482e+06  285061.490784  1534386.0  2091116.0  2358007.0  \\\n",
       "2020     365.0  8.818674e+05  639775.194297    87534.0   507129.0   718310.0   \n",
       "2021     134.0  1.112632e+06  338040.673782   468933.0   807156.0  1117391.0   \n",
       "\n",
       "                             \n",
       "             75%        max  \n",
       "year                         \n",
       "2019  2538384.00  2882915.0  \n",
       "2020   983745.00  2507588.0  \n",
       "2021  1409377.75  1743515.0  "
      ]
     },
     "execution_count": 39,
     "metadata": {},
     "output_type": "execute_result"
    }
   ],
   "source": [
    "tsa_melted_holiday_travel.groupby('year').describe(include=np.number)"
   ]
  },
  {
   "cell_type": "markdown",
   "id": "72053860-fe4d-4e16-971c-91dedd14f522",
   "metadata": {
    "slideshow": {
     "slide_type": "subslide"
    },
    "tags": []
   },
   "source": [
    "Groups can also be used to perform separate calculations per subset of the data. For example, we can find the highest-volume travel day per year using `rank()`:"
   ]
  },
  {
   "cell_type": "code",
   "execution_count": 40,
   "id": "7c5f7495-7d00-4b7b-a3b6-76c1f47457c4",
   "metadata": {},
   "outputs": [
    {
     "data": {
      "text/html": [
       "<div>\n",
       "<style scoped>\n",
       "    .dataframe tbody tr th:only-of-type {\n",
       "        vertical-align: middle;\n",
       "    }\n",
       "\n",
       "    .dataframe tbody tr th {\n",
       "        vertical-align: top;\n",
       "    }\n",
       "\n",
       "    .dataframe thead th {\n",
       "        text-align: right;\n",
       "    }\n",
       "</style>\n",
       "<table border=\"1\" class=\"dataframe\">\n",
       "  <thead>\n",
       "    <tr style=\"text-align: right;\">\n",
       "      <th></th>\n",
       "      <th>date</th>\n",
       "      <th>year</th>\n",
       "      <th>travelers</th>\n",
       "      <th>holiday</th>\n",
       "      <th>travel_volume_rank</th>\n",
       "    </tr>\n",
       "  </thead>\n",
       "  <tbody>\n",
       "    <tr>\n",
       "      <th>896</th>\n",
       "      <td>2019-11-29</td>\n",
       "      <td>2019</td>\n",
       "      <td>2882915.0</td>\n",
       "      <td>Thanksgiving</td>\n",
       "      <td>1.0</td>\n",
       "    </tr>\n",
       "    <tr>\n",
       "      <th>456</th>\n",
       "      <td>2020-02-12</td>\n",
       "      <td>2020</td>\n",
       "      <td>2507588.0</td>\n",
       "      <td>NaN</td>\n",
       "      <td>1.0</td>\n",
       "    </tr>\n",
       "    <tr>\n",
       "      <th>1</th>\n",
       "      <td>2021-05-13</td>\n",
       "      <td>2021</td>\n",
       "      <td>1743515.0</td>\n",
       "      <td>NaN</td>\n",
       "      <td>1.0</td>\n",
       "    </tr>\n",
       "  </tbody>\n",
       "</table>\n",
       "</div>"
      ],
      "text/plain": [
       "          date  year  travelers       holiday  travel_volume_rank\n",
       "896 2019-11-29  2019  2882915.0  Thanksgiving                 1.0\n",
       "456 2020-02-12  2020  2507588.0           NaN                 1.0\n",
       "1   2021-05-13  2021  1743515.0           NaN                 1.0"
      ]
     },
     "execution_count": 40,
     "metadata": {},
     "output_type": "execute_result"
    }
   ],
   "source": [
    "tsa_melted_holiday_travel.assign(\n",
    "    travel_volume_rank=lambda x: x.groupby('year').travelers.rank(ascending=False)\n",
    ").sort_values(['travel_volume_rank', 'year']).head(3)"
   ]
  },
  {
   "cell_type": "markdown",
   "id": "bc57c29a-cd58-4ff5-9c69-9e8f68b05168",
   "metadata": {
    "slideshow": {
     "slide_type": "subslide"
    },
    "tags": []
   },
   "source": [
    "The previous two examples called a single method on the grouped data, but using the `agg()` method we can specify any number of them:"
   ]
  },
  {
   "cell_type": "code",
   "execution_count": 41,
   "id": "ce014d66-ba8b-4537-b8f1-9548dccab5b9",
   "metadata": {},
   "outputs": [
    {
     "data": {
      "text/html": [
       "<div>\n",
       "<style scoped>\n",
       "    .dataframe tbody tr th:only-of-type {\n",
       "        vertical-align: middle;\n",
       "    }\n",
       "\n",
       "    .dataframe tbody tr th {\n",
       "        vertical-align: top;\n",
       "    }\n",
       "\n",
       "    .dataframe thead tr th {\n",
       "        text-align: left;\n",
       "    }\n",
       "\n",
       "    .dataframe thead tr:last-of-type th {\n",
       "        text-align: right;\n",
       "    }\n",
       "</style>\n",
       "<table border=\"1\" class=\"dataframe\">\n",
       "  <thead>\n",
       "    <tr>\n",
       "      <th></th>\n",
       "      <th colspan=\"2\" halign=\"left\">travelers</th>\n",
       "      <th colspan=\"2\" halign=\"left\">holiday_travelers</th>\n",
       "      <th colspan=\"2\" halign=\"left\">non_holiday_travelers</th>\n",
       "    </tr>\n",
       "    <tr>\n",
       "      <th></th>\n",
       "      <th>mean</th>\n",
       "      <th>std</th>\n",
       "      <th>mean</th>\n",
       "      <th>std</th>\n",
       "      <th>mean</th>\n",
       "      <th>std</th>\n",
       "    </tr>\n",
       "    <tr>\n",
       "      <th>year</th>\n",
       "      <th></th>\n",
       "      <th></th>\n",
       "      <th></th>\n",
       "      <th></th>\n",
       "      <th></th>\n",
       "      <th></th>\n",
       "    </tr>\n",
       "  </thead>\n",
       "  <tbody>\n",
       "    <tr>\n",
       "      <th>2019</th>\n",
       "      <td>2.309482e+06</td>\n",
       "      <td>285061.490784</td>\n",
       "      <td>2.271977e+06</td>\n",
       "      <td>303021.675751</td>\n",
       "      <td>2.312359e+06</td>\n",
       "      <td>283906.226598</td>\n",
       "    </tr>\n",
       "    <tr>\n",
       "      <th>2020</th>\n",
       "      <td>8.818674e+05</td>\n",
       "      <td>639775.194297</td>\n",
       "      <td>8.649882e+05</td>\n",
       "      <td>489938.240989</td>\n",
       "      <td>8.831619e+05</td>\n",
       "      <td>650399.772930</td>\n",
       "    </tr>\n",
       "    <tr>\n",
       "      <th>2021</th>\n",
       "      <td>1.112632e+06</td>\n",
       "      <td>338040.673782</td>\n",
       "      <td>9.994355e+05</td>\n",
       "      <td>273573.249680</td>\n",
       "      <td>1.114347e+06</td>\n",
       "      <td>339479.298658</td>\n",
       "    </tr>\n",
       "  </tbody>\n",
       "</table>\n",
       "</div>"
      ],
      "text/plain": [
       "         travelers                holiday_travelers                  \n",
       "              mean            std              mean            std   \n",
       "year                                                                 \n",
       "2019  2.309482e+06  285061.490784      2.271977e+06  303021.675751  \\\n",
       "2020  8.818674e+05  639775.194297      8.649882e+05  489938.240989   \n",
       "2021  1.112632e+06  338040.673782      9.994355e+05  273573.249680   \n",
       "\n",
       "     non_holiday_travelers                 \n",
       "                      mean            std  \n",
       "year                                       \n",
       "2019          2.312359e+06  283906.226598  \n",
       "2020          8.831619e+05  650399.772930  \n",
       "2021          1.114347e+06  339479.298658  "
      ]
     },
     "execution_count": 41,
     "metadata": {},
     "output_type": "execute_result"
    }
   ],
   "source": [
    "tsa_melted_holiday_travel.assign(\n",
    "    holiday_travelers=lambda x: np.where(~x.holiday.isna(), x.travelers, np.nan),\n",
    "    non_holiday_travelers=lambda x: np.where(x.holiday.isna(), x.travelers, np.nan),\n",
    "    year=lambda x: pd.to_numeric(x.year)\n",
    ").select_dtypes(include='number').groupby('year').agg(['mean', 'std'])"
   ]
  },
  {
   "cell_type": "markdown",
   "id": "f7484d71-3091-4d8f-9e2d-53b07871ebaf",
   "metadata": {
    "slideshow": {
     "slide_type": "fragment"
    },
    "tags": []
   },
   "source": [
    "*Tip: The `select_dtypes()` method makes it possible to select columns by their data type. We can specify the data types to `exclude` and/or `include`.*"
   ]
  },
  {
   "cell_type": "markdown",
   "id": "7f012232-0ac4-48ce-9ae3-ed936657ef24",
   "metadata": {
    "slideshow": {
     "slide_type": "subslide"
    },
    "tags": []
   },
   "source": [
    "In addition, we can specify which aggregations to perform on each column:"
   ]
  },
  {
   "cell_type": "code",
   "execution_count": 42,
   "id": "3080e40b-4ac7-4395-a76e-e773d16901fc",
   "metadata": {},
   "outputs": [
    {
     "data": {
      "text/html": [
       "<div>\n",
       "<style scoped>\n",
       "    .dataframe tbody tr th:only-of-type {\n",
       "        vertical-align: middle;\n",
       "    }\n",
       "\n",
       "    .dataframe tbody tr th {\n",
       "        vertical-align: top;\n",
       "    }\n",
       "\n",
       "    .dataframe thead tr th {\n",
       "        text-align: left;\n",
       "    }\n",
       "\n",
       "    .dataframe thead tr:last-of-type th {\n",
       "        text-align: right;\n",
       "    }\n",
       "</style>\n",
       "<table border=\"1\" class=\"dataframe\">\n",
       "  <thead>\n",
       "    <tr>\n",
       "      <th></th>\n",
       "      <th colspan=\"2\" halign=\"left\">holiday_travelers</th>\n",
       "      <th colspan=\"2\" halign=\"left\">holiday</th>\n",
       "    </tr>\n",
       "    <tr>\n",
       "      <th></th>\n",
       "      <th>mean</th>\n",
       "      <th>std</th>\n",
       "      <th>nunique</th>\n",
       "      <th>count</th>\n",
       "    </tr>\n",
       "    <tr>\n",
       "      <th>year</th>\n",
       "      <th></th>\n",
       "      <th></th>\n",
       "      <th></th>\n",
       "      <th></th>\n",
       "    </tr>\n",
       "  </thead>\n",
       "  <tbody>\n",
       "    <tr>\n",
       "      <th>2019</th>\n",
       "      <td>2.271977e+06</td>\n",
       "      <td>303021.675751</td>\n",
       "      <td>8</td>\n",
       "      <td>26</td>\n",
       "    </tr>\n",
       "    <tr>\n",
       "      <th>2020</th>\n",
       "      <td>8.649882e+05</td>\n",
       "      <td>489938.240989</td>\n",
       "      <td>8</td>\n",
       "      <td>26</td>\n",
       "    </tr>\n",
       "    <tr>\n",
       "      <th>2021</th>\n",
       "      <td>9.994355e+05</td>\n",
       "      <td>273573.249680</td>\n",
       "      <td>1</td>\n",
       "      <td>2</td>\n",
       "    </tr>\n",
       "  </tbody>\n",
       "</table>\n",
       "</div>"
      ],
      "text/plain": [
       "     holiday_travelers                holiday      \n",
       "                  mean            std nunique count\n",
       "year                                               \n",
       "2019      2.271977e+06  303021.675751       8    26\n",
       "2020      8.649882e+05  489938.240989       8    26\n",
       "2021      9.994355e+05  273573.249680       1     2"
      ]
     },
     "execution_count": 42,
     "metadata": {},
     "output_type": "execute_result"
    }
   ],
   "source": [
    "tsa_melted_holiday_travel.assign(\n",
    "    holiday_travelers=lambda x: np.where(~x.holiday.isna(), x.travelers, np.nan),\n",
    "    non_holiday_travelers=lambda x: np.where(x.holiday.isna(), x.travelers, np.nan)\n",
    ").groupby('year').agg({\n",
    "    'holiday_travelers': ['mean', 'std'], \n",
    "    'holiday': ['nunique', 'count']\n",
    "})"
   ]
  },
  {
   "cell_type": "markdown",
   "id": "73fc6c25-387e-4ff6-aaa0-7e212f766c2e",
   "metadata": {
    "slideshow": {
     "slide_type": "subslide"
    },
    "tags": []
   },
   "source": [
    "We are only scratching the surface; some additional functionalities to be aware of include the following:\n",
    "- We can group by multiple columns &ndash; this creates a hierarchical index.\n",
    "- Groups can be excluded from calculations with the `filter()` method.\n",
    "- We can group on content in the index using the `level` or `name` parameters e.g., `groupby(level=0)` or `groupby(name='year')`.\n",
    "- We can group by date ranges if we use a `pd.Grouper()` object."
   ]
  },
  {
   "cell_type": "markdown",
   "id": "fd7409b7-6eec-4ed0-8a09-c8b6333ef75d",
   "metadata": {
    "slideshow": {
     "slide_type": "fragment"
    },
    "tags": []
   },
   "source": [
    "Be sure to check out the [documentation](https://pandas.pydata.org/pandas-docs/stable/reference/api/pandas.DataFrame.groupby.html) for more details."
   ]
  },
  {
   "cell_type": "markdown",
   "id": "f35e0f4b-916e-4a99-ba99-4d4a02d4d884",
   "metadata": {},
   "source": [
    "### [Exercise 2.4](./workbook.ipynb#Exercise-2.4)\n",
    "\n",
    "##### Using the meteorite data from the `Meteorite_Landings.csv` file, compare summary statistics of the mass column for the meteorites that were found versus observed falling."
   ]
  },
  {
   "cell_type": "code",
   "execution_count": 43,
   "id": "32e4f6ff-a57c-4d50-9911-fd74b4522125",
   "metadata": {},
   "outputs": [],
   "source": [
    "# Complete this exercise in the workbook.ipynb file\n",
    "# Click on `Exercise 2.4` above to open the workbook.ipynb file\n",
    "\n",
    "# WARNING: if you complete the exercise here, your cell numbers\n",
    "# for the rest of the training might not match the slides"
   ]
  },
  {
   "cell_type": "markdown",
   "id": "6f39b28e-9c9b-4b97-93be-41ade4dcd8f8",
   "metadata": {
    "slideshow": {
     "slide_type": "slide"
    },
    "tags": []
   },
   "source": [
    "## Time series\n",
    "\n",
    "When working with time series data, pandas provides us with additional functionality to not just compare the observations in our dataset, but to use their relationship in time to analyze the data. In this section, we will see a few such operations for selecting date/time ranges, calculating changes over time, performing window calculations, and resampling the data to different date/time intervals."
   ]
  },
  {
   "cell_type": "markdown",
   "id": "1bb690d8-a77e-4dd7-a8ac-4a4fcfc3a156",
   "metadata": {
    "slideshow": {
     "slide_type": "subslide"
    },
    "tags": []
   },
   "source": [
    "### Selecting based on date and time\n",
    "\n",
    "Let's switch back to the `taxis` dataset, which has timestamps of pickups and dropoffs. First, we will set the `dropoff` column as the index and sort the data:"
   ]
  },
  {
   "cell_type": "code",
   "execution_count": 44,
   "id": "e1556b7a-ccde-432b-81a9-8b2c80b67d68",
   "metadata": {},
   "outputs": [],
   "source": [
    "taxis = taxis.set_index('dropoff').sort_index()"
   ]
  },
  {
   "cell_type": "markdown",
   "id": "ef86c832-5ed4-4a86-8a84-93fb179b9df4",
   "metadata": {
    "slideshow": {
     "slide_type": "subslide"
    },
    "tags": []
   },
   "source": [
    "We saw earlier that we can slice on the datetimes:"
   ]
  },
  {
   "cell_type": "code",
   "execution_count": 45,
   "id": "f41a0a74-0bc8-4649-8b86-f44cdfb1062a",
   "metadata": {},
   "outputs": [
    {
     "data": {
      "text/html": [
       "<div>\n",
       "<style scoped>\n",
       "    .dataframe tbody tr th:only-of-type {\n",
       "        vertical-align: middle;\n",
       "    }\n",
       "\n",
       "    .dataframe tbody tr th {\n",
       "        vertical-align: top;\n",
       "    }\n",
       "\n",
       "    .dataframe thead th {\n",
       "        text-align: right;\n",
       "    }\n",
       "</style>\n",
       "<table border=\"1\" class=\"dataframe\">\n",
       "  <thead>\n",
       "    <tr style=\"text-align: right;\">\n",
       "      <th></th>\n",
       "      <th>pickup</th>\n",
       "      <th>passenger_count</th>\n",
       "      <th>trip_distance</th>\n",
       "      <th>payment_type</th>\n",
       "      <th>fare_amount</th>\n",
       "      <th>extra</th>\n",
       "      <th>mta_tax</th>\n",
       "      <th>tip_amount</th>\n",
       "      <th>tolls_amount</th>\n",
       "      <th>improvement_surcharge</th>\n",
       "      <th>total_amount</th>\n",
       "      <th>congestion_surcharge</th>\n",
       "      <th>elapsed_time</th>\n",
       "      <th>cost_before_tip</th>\n",
       "      <th>tip_pct</th>\n",
       "      <th>fees</th>\n",
       "      <th>avg_speed</th>\n",
       "    </tr>\n",
       "    <tr>\n",
       "      <th>dropoff</th>\n",
       "      <th></th>\n",
       "      <th></th>\n",
       "      <th></th>\n",
       "      <th></th>\n",
       "      <th></th>\n",
       "      <th></th>\n",
       "      <th></th>\n",
       "      <th></th>\n",
       "      <th></th>\n",
       "      <th></th>\n",
       "      <th></th>\n",
       "      <th></th>\n",
       "      <th></th>\n",
       "      <th></th>\n",
       "      <th></th>\n",
       "      <th></th>\n",
       "      <th></th>\n",
       "    </tr>\n",
       "  </thead>\n",
       "  <tbody>\n",
       "    <tr>\n",
       "      <th>2019-10-24 12:30:08</th>\n",
       "      <td>2019-10-23 13:25:42</td>\n",
       "      <td>4</td>\n",
       "      <td>0.76</td>\n",
       "      <td>2</td>\n",
       "      <td>5.0</td>\n",
       "      <td>1.0</td>\n",
       "      <td>0.5</td>\n",
       "      <td>0.00</td>\n",
       "      <td>0.0</td>\n",
       "      <td>0.3</td>\n",
       "      <td>9.30</td>\n",
       "      <td>2.5</td>\n",
       "      <td>0 days 23:04:26</td>\n",
       "      <td>9.3</td>\n",
       "      <td>0.0</td>\n",
       "      <td>4.3</td>\n",
       "      <td>0.032938</td>\n",
       "    </tr>\n",
       "    <tr>\n",
       "      <th>2019-10-24 12:42:01</th>\n",
       "      <td>2019-10-23 13:34:03</td>\n",
       "      <td>2</td>\n",
       "      <td>1.58</td>\n",
       "      <td>1</td>\n",
       "      <td>7.5</td>\n",
       "      <td>1.0</td>\n",
       "      <td>0.5</td>\n",
       "      <td>2.36</td>\n",
       "      <td>0.0</td>\n",
       "      <td>0.3</td>\n",
       "      <td>14.16</td>\n",
       "      <td>2.5</td>\n",
       "      <td>0 days 23:07:58</td>\n",
       "      <td>11.8</td>\n",
       "      <td>0.2</td>\n",
       "      <td>4.3</td>\n",
       "      <td>0.068301</td>\n",
       "    </tr>\n",
       "  </tbody>\n",
       "</table>\n",
       "</div>"
      ],
      "text/plain": [
       "                                 pickup  passenger_count  trip_distance   \n",
       "dropoff                                                                   \n",
       "2019-10-24 12:30:08 2019-10-23 13:25:42                4           0.76  \\\n",
       "2019-10-24 12:42:01 2019-10-23 13:34:03                2           1.58   \n",
       "\n",
       "                     payment_type  fare_amount  extra  mta_tax  tip_amount   \n",
       "dropoff                                                                      \n",
       "2019-10-24 12:30:08             2          5.0    1.0      0.5        0.00  \\\n",
       "2019-10-24 12:42:01             1          7.5    1.0      0.5        2.36   \n",
       "\n",
       "                     tolls_amount  improvement_surcharge  total_amount   \n",
       "dropoff                                                                  \n",
       "2019-10-24 12:30:08           0.0                    0.3          9.30  \\\n",
       "2019-10-24 12:42:01           0.0                    0.3         14.16   \n",
       "\n",
       "                     congestion_surcharge    elapsed_time  cost_before_tip   \n",
       "dropoff                                                                      \n",
       "2019-10-24 12:30:08                   2.5 0 days 23:04:26              9.3  \\\n",
       "2019-10-24 12:42:01                   2.5 0 days 23:07:58             11.8   \n",
       "\n",
       "                     tip_pct  fees  avg_speed  \n",
       "dropoff                                        \n",
       "2019-10-24 12:30:08      0.0   4.3   0.032938  \n",
       "2019-10-24 12:42:01      0.2   4.3   0.068301  "
      ]
     },
     "execution_count": 45,
     "metadata": {},
     "output_type": "execute_result"
    }
   ],
   "source": [
    "taxis['2019-10-24 12':'2019-10-24 13']"
   ]
  },
  {
   "cell_type": "markdown",
   "id": "c286a4f6-54fc-409d-b10a-8f6ac2734347",
   "metadata": {
    "slideshow": {
     "slide_type": "subslide"
    },
    "tags": []
   },
   "source": [
    "We can also represent this range with shorthand. Note that we must use `loc[]` here:"
   ]
  },
  {
   "cell_type": "code",
   "execution_count": 46,
   "id": "9e6b26c9-4048-4207-8454-b9f018a56816",
   "metadata": {},
   "outputs": [
    {
     "data": {
      "text/html": [
       "<div>\n",
       "<style scoped>\n",
       "    .dataframe tbody tr th:only-of-type {\n",
       "        vertical-align: middle;\n",
       "    }\n",
       "\n",
       "    .dataframe tbody tr th {\n",
       "        vertical-align: top;\n",
       "    }\n",
       "\n",
       "    .dataframe thead th {\n",
       "        text-align: right;\n",
       "    }\n",
       "</style>\n",
       "<table border=\"1\" class=\"dataframe\">\n",
       "  <thead>\n",
       "    <tr style=\"text-align: right;\">\n",
       "      <th></th>\n",
       "      <th>pickup</th>\n",
       "      <th>passenger_count</th>\n",
       "      <th>trip_distance</th>\n",
       "      <th>payment_type</th>\n",
       "      <th>fare_amount</th>\n",
       "      <th>extra</th>\n",
       "      <th>mta_tax</th>\n",
       "      <th>tip_amount</th>\n",
       "      <th>tolls_amount</th>\n",
       "      <th>improvement_surcharge</th>\n",
       "      <th>total_amount</th>\n",
       "      <th>congestion_surcharge</th>\n",
       "      <th>elapsed_time</th>\n",
       "      <th>cost_before_tip</th>\n",
       "      <th>tip_pct</th>\n",
       "      <th>fees</th>\n",
       "      <th>avg_speed</th>\n",
       "    </tr>\n",
       "    <tr>\n",
       "      <th>dropoff</th>\n",
       "      <th></th>\n",
       "      <th></th>\n",
       "      <th></th>\n",
       "      <th></th>\n",
       "      <th></th>\n",
       "      <th></th>\n",
       "      <th></th>\n",
       "      <th></th>\n",
       "      <th></th>\n",
       "      <th></th>\n",
       "      <th></th>\n",
       "      <th></th>\n",
       "      <th></th>\n",
       "      <th></th>\n",
       "      <th></th>\n",
       "      <th></th>\n",
       "      <th></th>\n",
       "    </tr>\n",
       "  </thead>\n",
       "  <tbody>\n",
       "    <tr>\n",
       "      <th>2019-10-24 12:30:08</th>\n",
       "      <td>2019-10-23 13:25:42</td>\n",
       "      <td>4</td>\n",
       "      <td>0.76</td>\n",
       "      <td>2</td>\n",
       "      <td>5.0</td>\n",
       "      <td>1.0</td>\n",
       "      <td>0.5</td>\n",
       "      <td>0.00</td>\n",
       "      <td>0.0</td>\n",
       "      <td>0.3</td>\n",
       "      <td>9.30</td>\n",
       "      <td>2.5</td>\n",
       "      <td>0 days 23:04:26</td>\n",
       "      <td>9.3</td>\n",
       "      <td>0.0</td>\n",
       "      <td>4.3</td>\n",
       "      <td>0.032938</td>\n",
       "    </tr>\n",
       "    <tr>\n",
       "      <th>2019-10-24 12:42:01</th>\n",
       "      <td>2019-10-23 13:34:03</td>\n",
       "      <td>2</td>\n",
       "      <td>1.58</td>\n",
       "      <td>1</td>\n",
       "      <td>7.5</td>\n",
       "      <td>1.0</td>\n",
       "      <td>0.5</td>\n",
       "      <td>2.36</td>\n",
       "      <td>0.0</td>\n",
       "      <td>0.3</td>\n",
       "      <td>14.16</td>\n",
       "      <td>2.5</td>\n",
       "      <td>0 days 23:07:58</td>\n",
       "      <td>11.8</td>\n",
       "      <td>0.2</td>\n",
       "      <td>4.3</td>\n",
       "      <td>0.068301</td>\n",
       "    </tr>\n",
       "  </tbody>\n",
       "</table>\n",
       "</div>"
      ],
      "text/plain": [
       "                                 pickup  passenger_count  trip_distance   \n",
       "dropoff                                                                   \n",
       "2019-10-24 12:30:08 2019-10-23 13:25:42                4           0.76  \\\n",
       "2019-10-24 12:42:01 2019-10-23 13:34:03                2           1.58   \n",
       "\n",
       "                     payment_type  fare_amount  extra  mta_tax  tip_amount   \n",
       "dropoff                                                                      \n",
       "2019-10-24 12:30:08             2          5.0    1.0      0.5        0.00  \\\n",
       "2019-10-24 12:42:01             1          7.5    1.0      0.5        2.36   \n",
       "\n",
       "                     tolls_amount  improvement_surcharge  total_amount   \n",
       "dropoff                                                                  \n",
       "2019-10-24 12:30:08           0.0                    0.3          9.30  \\\n",
       "2019-10-24 12:42:01           0.0                    0.3         14.16   \n",
       "\n",
       "                     congestion_surcharge    elapsed_time  cost_before_tip   \n",
       "dropoff                                                                      \n",
       "2019-10-24 12:30:08                   2.5 0 days 23:04:26              9.3  \\\n",
       "2019-10-24 12:42:01                   2.5 0 days 23:07:58             11.8   \n",
       "\n",
       "                     tip_pct  fees  avg_speed  \n",
       "dropoff                                        \n",
       "2019-10-24 12:30:08      0.0   4.3   0.032938  \n",
       "2019-10-24 12:42:01      0.2   4.3   0.068301  "
      ]
     },
     "execution_count": 46,
     "metadata": {},
     "output_type": "execute_result"
    }
   ],
   "source": [
    "taxis.loc['2019-10-24 12']"
   ]
  },
  {
   "cell_type": "markdown",
   "id": "8705d663-67c8-4f6f-b3e9-52bceeea122f",
   "metadata": {
    "slideshow": {
     "slide_type": "fragment"
    },
    "tags": []
   },
   "source": [
    "However, if we want to look at this time range across days, we need another strategy."
   ]
  },
  {
   "cell_type": "markdown",
   "id": "78093e7d-ce53-424b-b484-820c4d98ace0",
   "metadata": {
    "slideshow": {
     "slide_type": "subslide"
    },
    "tags": []
   },
   "source": [
    "We can pull out the dropoffs that happened between a certain time range on *any* day with the `between_time()` method:"
   ]
  },
  {
   "cell_type": "code",
   "execution_count": 47,
   "id": "915f528c-639f-4b8b-99cc-9c83bb0cad4d",
   "metadata": {},
   "outputs": [
    {
     "data": {
      "text/html": [
       "<div>\n",
       "<style scoped>\n",
       "    .dataframe tbody tr th:only-of-type {\n",
       "        vertical-align: middle;\n",
       "    }\n",
       "\n",
       "    .dataframe tbody tr th {\n",
       "        vertical-align: top;\n",
       "    }\n",
       "\n",
       "    .dataframe thead th {\n",
       "        text-align: right;\n",
       "    }\n",
       "</style>\n",
       "<table border=\"1\" class=\"dataframe\">\n",
       "  <thead>\n",
       "    <tr style=\"text-align: right;\">\n",
       "      <th></th>\n",
       "      <th>pickup</th>\n",
       "      <th>passenger_count</th>\n",
       "      <th>trip_distance</th>\n",
       "      <th>payment_type</th>\n",
       "      <th>fare_amount</th>\n",
       "      <th>extra</th>\n",
       "      <th>mta_tax</th>\n",
       "      <th>tip_amount</th>\n",
       "      <th>tolls_amount</th>\n",
       "      <th>improvement_surcharge</th>\n",
       "      <th>total_amount</th>\n",
       "      <th>congestion_surcharge</th>\n",
       "      <th>elapsed_time</th>\n",
       "      <th>cost_before_tip</th>\n",
       "      <th>tip_pct</th>\n",
       "      <th>fees</th>\n",
       "      <th>avg_speed</th>\n",
       "    </tr>\n",
       "    <tr>\n",
       "      <th>dropoff</th>\n",
       "      <th></th>\n",
       "      <th></th>\n",
       "      <th></th>\n",
       "      <th></th>\n",
       "      <th></th>\n",
       "      <th></th>\n",
       "      <th></th>\n",
       "      <th></th>\n",
       "      <th></th>\n",
       "      <th></th>\n",
       "      <th></th>\n",
       "      <th></th>\n",
       "      <th></th>\n",
       "      <th></th>\n",
       "      <th></th>\n",
       "      <th></th>\n",
       "      <th></th>\n",
       "    </tr>\n",
       "  </thead>\n",
       "  <tbody>\n",
       "    <tr>\n",
       "      <th>2019-10-23 12:53:49</th>\n",
       "      <td>2019-10-23 12:35:27</td>\n",
       "      <td>5</td>\n",
       "      <td>2.49</td>\n",
       "      <td>1</td>\n",
       "      <td>13.5</td>\n",
       "      <td>1.0</td>\n",
       "      <td>0.5</td>\n",
       "      <td>2.20</td>\n",
       "      <td>0.0</td>\n",
       "      <td>0.3</td>\n",
       "      <td>20.00</td>\n",
       "      <td>2.5</td>\n",
       "      <td>0 days 00:18:22</td>\n",
       "      <td>17.8</td>\n",
       "      <td>0.123596</td>\n",
       "      <td>4.3</td>\n",
       "      <td>8.134301</td>\n",
       "    </tr>\n",
       "    <tr>\n",
       "      <th>2019-10-24 12:30:08</th>\n",
       "      <td>2019-10-23 13:25:42</td>\n",
       "      <td>4</td>\n",
       "      <td>0.76</td>\n",
       "      <td>2</td>\n",
       "      <td>5.0</td>\n",
       "      <td>1.0</td>\n",
       "      <td>0.5</td>\n",
       "      <td>0.00</td>\n",
       "      <td>0.0</td>\n",
       "      <td>0.3</td>\n",
       "      <td>9.30</td>\n",
       "      <td>2.5</td>\n",
       "      <td>0 days 23:04:26</td>\n",
       "      <td>9.3</td>\n",
       "      <td>0.000000</td>\n",
       "      <td>4.3</td>\n",
       "      <td>0.032938</td>\n",
       "    </tr>\n",
       "    <tr>\n",
       "      <th>2019-10-24 12:42:01</th>\n",
       "      <td>2019-10-23 13:34:03</td>\n",
       "      <td>2</td>\n",
       "      <td>1.58</td>\n",
       "      <td>1</td>\n",
       "      <td>7.5</td>\n",
       "      <td>1.0</td>\n",
       "      <td>0.5</td>\n",
       "      <td>2.36</td>\n",
       "      <td>0.0</td>\n",
       "      <td>0.3</td>\n",
       "      <td>14.16</td>\n",
       "      <td>2.5</td>\n",
       "      <td>0 days 23:07:58</td>\n",
       "      <td>11.8</td>\n",
       "      <td>0.200000</td>\n",
       "      <td>4.3</td>\n",
       "      <td>0.068301</td>\n",
       "    </tr>\n",
       "  </tbody>\n",
       "</table>\n",
       "</div>"
      ],
      "text/plain": [
       "                                 pickup  passenger_count  trip_distance   \n",
       "dropoff                                                                   \n",
       "2019-10-23 12:53:49 2019-10-23 12:35:27                5           2.49  \\\n",
       "2019-10-24 12:30:08 2019-10-23 13:25:42                4           0.76   \n",
       "2019-10-24 12:42:01 2019-10-23 13:34:03                2           1.58   \n",
       "\n",
       "                     payment_type  fare_amount  extra  mta_tax  tip_amount   \n",
       "dropoff                                                                      \n",
       "2019-10-23 12:53:49             1         13.5    1.0      0.5        2.20  \\\n",
       "2019-10-24 12:30:08             2          5.0    1.0      0.5        0.00   \n",
       "2019-10-24 12:42:01             1          7.5    1.0      0.5        2.36   \n",
       "\n",
       "                     tolls_amount  improvement_surcharge  total_amount   \n",
       "dropoff                                                                  \n",
       "2019-10-23 12:53:49           0.0                    0.3         20.00  \\\n",
       "2019-10-24 12:30:08           0.0                    0.3          9.30   \n",
       "2019-10-24 12:42:01           0.0                    0.3         14.16   \n",
       "\n",
       "                     congestion_surcharge    elapsed_time  cost_before_tip   \n",
       "dropoff                                                                      \n",
       "2019-10-23 12:53:49                   2.5 0 days 00:18:22             17.8  \\\n",
       "2019-10-24 12:30:08                   2.5 0 days 23:04:26              9.3   \n",
       "2019-10-24 12:42:01                   2.5 0 days 23:07:58             11.8   \n",
       "\n",
       "                      tip_pct  fees  avg_speed  \n",
       "dropoff                                         \n",
       "2019-10-23 12:53:49  0.123596   4.3   8.134301  \n",
       "2019-10-24 12:30:08  0.000000   4.3   0.032938  \n",
       "2019-10-24 12:42:01  0.200000   4.3   0.068301  "
      ]
     },
     "execution_count": 47,
     "metadata": {},
     "output_type": "execute_result"
    }
   ],
   "source": [
    "taxis.between_time('12:00', '13:00')"
   ]
  },
  {
   "cell_type": "markdown",
   "id": "98520264-8284-414c-9c23-0c054af076f5",
   "metadata": {
    "slideshow": {
     "slide_type": "fragment"
    },
    "tags": []
   },
   "source": [
    "*Tip: The `at_time()` method can be used to extract all entries at a given time (e.g., 12:35:27).*"
   ]
  },
  {
   "cell_type": "markdown",
   "id": "6b6abd12-4ad3-47ed-be2f-c4a3bb6b1fbf",
   "metadata": {
    "slideshow": {
     "slide_type": "subslide"
    },
    "tags": []
   },
   "source": [
    "Finally, `head()` and `tail()` limit us to a number of rows, but we may be interested in rows within the first/last 2 hours (or any other time interval) of the data, in which case, we should use `first()` / `last()`:"
   ]
  },
  {
   "cell_type": "code",
   "execution_count": 48,
   "id": "e0e31dc9-dc86-4481-97b1-1cbb9d5490a6",
   "metadata": {},
   "outputs": [
    {
     "data": {
      "text/html": [
       "<div>\n",
       "<style scoped>\n",
       "    .dataframe tbody tr th:only-of-type {\n",
       "        vertical-align: middle;\n",
       "    }\n",
       "\n",
       "    .dataframe tbody tr th {\n",
       "        vertical-align: top;\n",
       "    }\n",
       "\n",
       "    .dataframe thead th {\n",
       "        text-align: right;\n",
       "    }\n",
       "</style>\n",
       "<table border=\"1\" class=\"dataframe\">\n",
       "  <thead>\n",
       "    <tr style=\"text-align: right;\">\n",
       "      <th></th>\n",
       "      <th>pickup</th>\n",
       "      <th>passenger_count</th>\n",
       "      <th>trip_distance</th>\n",
       "      <th>payment_type</th>\n",
       "      <th>fare_amount</th>\n",
       "      <th>extra</th>\n",
       "      <th>mta_tax</th>\n",
       "      <th>tip_amount</th>\n",
       "      <th>tolls_amount</th>\n",
       "      <th>improvement_surcharge</th>\n",
       "      <th>total_amount</th>\n",
       "      <th>congestion_surcharge</th>\n",
       "      <th>elapsed_time</th>\n",
       "      <th>cost_before_tip</th>\n",
       "      <th>tip_pct</th>\n",
       "      <th>fees</th>\n",
       "      <th>avg_speed</th>\n",
       "    </tr>\n",
       "    <tr>\n",
       "      <th>dropoff</th>\n",
       "      <th></th>\n",
       "      <th></th>\n",
       "      <th></th>\n",
       "      <th></th>\n",
       "      <th></th>\n",
       "      <th></th>\n",
       "      <th></th>\n",
       "      <th></th>\n",
       "      <th></th>\n",
       "      <th></th>\n",
       "      <th></th>\n",
       "      <th></th>\n",
       "      <th></th>\n",
       "      <th></th>\n",
       "      <th></th>\n",
       "      <th></th>\n",
       "      <th></th>\n",
       "    </tr>\n",
       "  </thead>\n",
       "  <tbody>\n",
       "    <tr>\n",
       "      <th>2019-10-23 07:52:09</th>\n",
       "      <td>2019-10-23 07:48:58</td>\n",
       "      <td>1</td>\n",
       "      <td>0.67</td>\n",
       "      <td>2</td>\n",
       "      <td>4.5</td>\n",
       "      <td>1.0</td>\n",
       "      <td>0.5</td>\n",
       "      <td>0.0</td>\n",
       "      <td>0.0</td>\n",
       "      <td>0.3</td>\n",
       "      <td>8.8</td>\n",
       "      <td>2.5</td>\n",
       "      <td>0 days 00:03:11</td>\n",
       "      <td>8.8</td>\n",
       "      <td>0.00000</td>\n",
       "      <td>4.3</td>\n",
       "      <td>12.628272</td>\n",
       "    </tr>\n",
       "    <tr>\n",
       "      <th>2019-10-23 08:03:16</th>\n",
       "      <td>2019-10-23 07:05:34</td>\n",
       "      <td>3</td>\n",
       "      <td>14.68</td>\n",
       "      <td>1</td>\n",
       "      <td>50.0</td>\n",
       "      <td>1.0</td>\n",
       "      <td>0.5</td>\n",
       "      <td>4.0</td>\n",
       "      <td>0.0</td>\n",
       "      <td>0.3</td>\n",
       "      <td>55.8</td>\n",
       "      <td>0.0</td>\n",
       "      <td>0 days 00:57:42</td>\n",
       "      <td>51.8</td>\n",
       "      <td>0.07722</td>\n",
       "      <td>1.8</td>\n",
       "      <td>15.265165</td>\n",
       "    </tr>\n",
       "    <tr>\n",
       "      <th>2019-10-23 08:36:05</th>\n",
       "      <td>2019-10-23 08:18:47</td>\n",
       "      <td>1</td>\n",
       "      <td>2.39</td>\n",
       "      <td>2</td>\n",
       "      <td>12.5</td>\n",
       "      <td>1.0</td>\n",
       "      <td>0.5</td>\n",
       "      <td>0.0</td>\n",
       "      <td>0.0</td>\n",
       "      <td>0.3</td>\n",
       "      <td>16.8</td>\n",
       "      <td>2.5</td>\n",
       "      <td>0 days 00:17:18</td>\n",
       "      <td>16.8</td>\n",
       "      <td>0.00000</td>\n",
       "      <td>4.3</td>\n",
       "      <td>8.289017</td>\n",
       "    </tr>\n",
       "    <tr>\n",
       "      <th>2019-10-23 09:33:13</th>\n",
       "      <td>2019-10-23 09:27:16</td>\n",
       "      <td>2</td>\n",
       "      <td>1.11</td>\n",
       "      <td>2</td>\n",
       "      <td>6.0</td>\n",
       "      <td>1.0</td>\n",
       "      <td>0.5</td>\n",
       "      <td>0.0</td>\n",
       "      <td>0.0</td>\n",
       "      <td>0.3</td>\n",
       "      <td>7.8</td>\n",
       "      <td>0.0</td>\n",
       "      <td>0 days 00:05:57</td>\n",
       "      <td>7.8</td>\n",
       "      <td>0.00000</td>\n",
       "      <td>1.8</td>\n",
       "      <td>11.193277</td>\n",
       "    </tr>\n",
       "    <tr>\n",
       "      <th>2019-10-23 09:49:31</th>\n",
       "      <td>2019-10-23 09:47:25</td>\n",
       "      <td>2</td>\n",
       "      <td>0.47</td>\n",
       "      <td>2</td>\n",
       "      <td>52.0</td>\n",
       "      <td>4.5</td>\n",
       "      <td>0.5</td>\n",
       "      <td>0.0</td>\n",
       "      <td>0.0</td>\n",
       "      <td>0.3</td>\n",
       "      <td>59.8</td>\n",
       "      <td>2.5</td>\n",
       "      <td>0 days 00:02:06</td>\n",
       "      <td>59.8</td>\n",
       "      <td>0.00000</td>\n",
       "      <td>7.8</td>\n",
       "      <td>13.428571</td>\n",
       "    </tr>\n",
       "  </tbody>\n",
       "</table>\n",
       "</div>"
      ],
      "text/plain": [
       "                                 pickup  passenger_count  trip_distance   \n",
       "dropoff                                                                   \n",
       "2019-10-23 07:52:09 2019-10-23 07:48:58                1           0.67  \\\n",
       "2019-10-23 08:03:16 2019-10-23 07:05:34                3          14.68   \n",
       "2019-10-23 08:36:05 2019-10-23 08:18:47                1           2.39   \n",
       "2019-10-23 09:33:13 2019-10-23 09:27:16                2           1.11   \n",
       "2019-10-23 09:49:31 2019-10-23 09:47:25                2           0.47   \n",
       "\n",
       "                     payment_type  fare_amount  extra  mta_tax  tip_amount   \n",
       "dropoff                                                                      \n",
       "2019-10-23 07:52:09             2          4.5    1.0      0.5         0.0  \\\n",
       "2019-10-23 08:03:16             1         50.0    1.0      0.5         4.0   \n",
       "2019-10-23 08:36:05             2         12.5    1.0      0.5         0.0   \n",
       "2019-10-23 09:33:13             2          6.0    1.0      0.5         0.0   \n",
       "2019-10-23 09:49:31             2         52.0    4.5      0.5         0.0   \n",
       "\n",
       "                     tolls_amount  improvement_surcharge  total_amount   \n",
       "dropoff                                                                  \n",
       "2019-10-23 07:52:09           0.0                    0.3           8.8  \\\n",
       "2019-10-23 08:03:16           0.0                    0.3          55.8   \n",
       "2019-10-23 08:36:05           0.0                    0.3          16.8   \n",
       "2019-10-23 09:33:13           0.0                    0.3           7.8   \n",
       "2019-10-23 09:49:31           0.0                    0.3          59.8   \n",
       "\n",
       "                     congestion_surcharge    elapsed_time  cost_before_tip   \n",
       "dropoff                                                                      \n",
       "2019-10-23 07:52:09                   2.5 0 days 00:03:11              8.8  \\\n",
       "2019-10-23 08:03:16                   0.0 0 days 00:57:42             51.8   \n",
       "2019-10-23 08:36:05                   2.5 0 days 00:17:18             16.8   \n",
       "2019-10-23 09:33:13                   0.0 0 days 00:05:57              7.8   \n",
       "2019-10-23 09:49:31                   2.5 0 days 00:02:06             59.8   \n",
       "\n",
       "                     tip_pct  fees  avg_speed  \n",
       "dropoff                                        \n",
       "2019-10-23 07:52:09  0.00000   4.3  12.628272  \n",
       "2019-10-23 08:03:16  0.07722   1.8  15.265165  \n",
       "2019-10-23 08:36:05  0.00000   4.3   8.289017  \n",
       "2019-10-23 09:33:13  0.00000   1.8  11.193277  \n",
       "2019-10-23 09:49:31  0.00000   7.8  13.428571  "
      ]
     },
     "execution_count": 48,
     "metadata": {},
     "output_type": "execute_result"
    }
   ],
   "source": [
    "taxis.first('2H')"
   ]
  },
  {
   "cell_type": "markdown",
   "id": "7f0c8566-4a05-4710-8146-773089a05a07",
   "metadata": {},
   "source": [
    "*Tip: Available date/time offsets can be found in the pandas documentation [here](https://pandas.pydata.org/pandas-docs/stable/user_guide/timeseries.html#dateoffset-objects).* "
   ]
  },
  {
   "cell_type": "markdown",
   "id": "b8c0485e-4730-4124-8e71-493e7e9c45d6",
   "metadata": {
    "slideshow": {
     "slide_type": "subslide"
    },
    "tags": []
   },
   "source": [
    "For the rest of this section, we will be working with the TSA traveler throughput data. Let's start by setting the index to the `date` column:"
   ]
  },
  {
   "cell_type": "code",
   "execution_count": 49,
   "id": "1a06c5b3-cb6b-4f02-9559-208fd94a78ed",
   "metadata": {},
   "outputs": [],
   "source": [
    "tsa_melted_holiday_travel = tsa_melted_holiday_travel.set_index('date')"
   ]
  },
  {
   "cell_type": "markdown",
   "id": "20ae3a50-f2f4-4880-8463-a16bb7932ba2",
   "metadata": {
    "slideshow": {
     "slide_type": "subslide"
    },
    "tags": []
   },
   "source": [
    "### Calculating change over time"
   ]
  },
  {
   "cell_type": "code",
   "execution_count": 50,
   "id": "7a554fda-2363-4c87-b8f3-17773c511c43",
   "metadata": {},
   "outputs": [
    {
     "data": {
      "text/html": [
       "<div>\n",
       "<style scoped>\n",
       "    .dataframe tbody tr th:only-of-type {\n",
       "        vertical-align: middle;\n",
       "    }\n",
       "\n",
       "    .dataframe tbody tr th {\n",
       "        vertical-align: top;\n",
       "    }\n",
       "\n",
       "    .dataframe thead th {\n",
       "        text-align: right;\n",
       "    }\n",
       "</style>\n",
       "<table border=\"1\" class=\"dataframe\">\n",
       "  <thead>\n",
       "    <tr style=\"text-align: right;\">\n",
       "      <th></th>\n",
       "      <th>year</th>\n",
       "      <th>travelers</th>\n",
       "      <th>holiday</th>\n",
       "      <th>one_day_change</th>\n",
       "      <th>seven_day_change</th>\n",
       "    </tr>\n",
       "    <tr>\n",
       "      <th>date</th>\n",
       "      <th></th>\n",
       "      <th></th>\n",
       "      <th></th>\n",
       "      <th></th>\n",
       "      <th></th>\n",
       "    </tr>\n",
       "  </thead>\n",
       "  <tbody>\n",
       "    <tr>\n",
       "      <th>2020-01-01</th>\n",
       "      <td>2020</td>\n",
       "      <td>2311732.0</td>\n",
       "      <td>New Year's Day</td>\n",
       "      <td>NaN</td>\n",
       "      <td>NaN</td>\n",
       "    </tr>\n",
       "    <tr>\n",
       "      <th>2020-01-02</th>\n",
       "      <td>2020</td>\n",
       "      <td>2178656.0</td>\n",
       "      <td>New Year's Day</td>\n",
       "      <td>-133076.0</td>\n",
       "      <td>NaN</td>\n",
       "    </tr>\n",
       "    <tr>\n",
       "      <th>2020-01-03</th>\n",
       "      <td>2020</td>\n",
       "      <td>2422272.0</td>\n",
       "      <td>NaN</td>\n",
       "      <td>243616.0</td>\n",
       "      <td>NaN</td>\n",
       "    </tr>\n",
       "    <tr>\n",
       "      <th>2020-01-04</th>\n",
       "      <td>2020</td>\n",
       "      <td>2210542.0</td>\n",
       "      <td>NaN</td>\n",
       "      <td>-211730.0</td>\n",
       "      <td>NaN</td>\n",
       "    </tr>\n",
       "    <tr>\n",
       "      <th>2020-01-05</th>\n",
       "      <td>2020</td>\n",
       "      <td>1806480.0</td>\n",
       "      <td>NaN</td>\n",
       "      <td>-404062.0</td>\n",
       "      <td>NaN</td>\n",
       "    </tr>\n",
       "    <tr>\n",
       "      <th>2020-01-06</th>\n",
       "      <td>2020</td>\n",
       "      <td>1815040.0</td>\n",
       "      <td>NaN</td>\n",
       "      <td>8560.0</td>\n",
       "      <td>NaN</td>\n",
       "    </tr>\n",
       "    <tr>\n",
       "      <th>2020-01-07</th>\n",
       "      <td>2020</td>\n",
       "      <td>2034472.0</td>\n",
       "      <td>NaN</td>\n",
       "      <td>219432.0</td>\n",
       "      <td>NaN</td>\n",
       "    </tr>\n",
       "    <tr>\n",
       "      <th>2020-01-08</th>\n",
       "      <td>2020</td>\n",
       "      <td>2072543.0</td>\n",
       "      <td>NaN</td>\n",
       "      <td>38071.0</td>\n",
       "      <td>-239189.0</td>\n",
       "    </tr>\n",
       "    <tr>\n",
       "      <th>2020-01-09</th>\n",
       "      <td>2020</td>\n",
       "      <td>1687974.0</td>\n",
       "      <td>NaN</td>\n",
       "      <td>-384569.0</td>\n",
       "      <td>-490682.0</td>\n",
       "    </tr>\n",
       "    <tr>\n",
       "      <th>2020-01-10</th>\n",
       "      <td>2020</td>\n",
       "      <td>2183734.0</td>\n",
       "      <td>NaN</td>\n",
       "      <td>495760.0</td>\n",
       "      <td>-238538.0</td>\n",
       "    </tr>\n",
       "  </tbody>\n",
       "</table>\n",
       "</div>"
      ],
      "text/plain": [
       "            year  travelers         holiday  one_day_change  seven_day_change\n",
       "date                                                                         \n",
       "2020-01-01  2020  2311732.0  New Year's Day             NaN               NaN\n",
       "2020-01-02  2020  2178656.0  New Year's Day       -133076.0               NaN\n",
       "2020-01-03  2020  2422272.0             NaN        243616.0               NaN\n",
       "2020-01-04  2020  2210542.0             NaN       -211730.0               NaN\n",
       "2020-01-05  2020  1806480.0             NaN       -404062.0               NaN\n",
       "2020-01-06  2020  1815040.0             NaN          8560.0               NaN\n",
       "2020-01-07  2020  2034472.0             NaN        219432.0               NaN\n",
       "2020-01-08  2020  2072543.0             NaN         38071.0         -239189.0\n",
       "2020-01-09  2020  1687974.0             NaN       -384569.0         -490682.0\n",
       "2020-01-10  2020  2183734.0             NaN        495760.0         -238538.0"
      ]
     },
     "execution_count": 50,
     "metadata": {},
     "output_type": "execute_result"
    }
   ],
   "source": [
    "tsa_melted_holiday_travel.loc['2020'].assign(\n",
    "    one_day_change=lambda x: x.travelers.diff(),\n",
    "    seven_day_change=lambda x: x.travelers.diff(7),\n",
    ").head(10)"
   ]
  },
  {
   "cell_type": "markdown",
   "id": "4938d37c-9e59-4c5b-88c1-32709c0b68d9",
   "metadata": {},
   "source": [
    "*Tip: To perform operations other than subtraction, take a look at the `shift()` method. It also makes it possible to perform operations across columns.*"
   ]
  },
  {
   "cell_type": "markdown",
   "id": "86e9b6a3-7547-4d38-93ec-1a27e64615cf",
   "metadata": {
    "slideshow": {
     "slide_type": "subslide"
    },
    "tags": []
   },
   "source": [
    "### Resampling\n",
    "We can use resampling to aggregate time series data to a new frequency:"
   ]
  },
  {
   "cell_type": "code",
   "execution_count": 51,
   "id": "0093c590-342a-4add-9999-0fb063cfa5e7",
   "metadata": {},
   "outputs": [
    {
     "data": {
      "text/html": [
       "<div>\n",
       "<style scoped>\n",
       "    .dataframe tbody tr th:only-of-type {\n",
       "        vertical-align: middle;\n",
       "    }\n",
       "\n",
       "    .dataframe tbody tr th {\n",
       "        vertical-align: top;\n",
       "    }\n",
       "\n",
       "    .dataframe thead tr th {\n",
       "        text-align: left;\n",
       "    }\n",
       "\n",
       "    .dataframe thead tr:last-of-type th {\n",
       "        text-align: right;\n",
       "    }\n",
       "</style>\n",
       "<table border=\"1\" class=\"dataframe\">\n",
       "  <thead>\n",
       "    <tr>\n",
       "      <th></th>\n",
       "      <th colspan=\"3\" halign=\"left\">travelers</th>\n",
       "    </tr>\n",
       "    <tr>\n",
       "      <th></th>\n",
       "      <th>sum</th>\n",
       "      <th>mean</th>\n",
       "      <th>std</th>\n",
       "    </tr>\n",
       "    <tr>\n",
       "      <th>date</th>\n",
       "      <th></th>\n",
       "      <th></th>\n",
       "      <th></th>\n",
       "    </tr>\n",
       "  </thead>\n",
       "  <tbody>\n",
       "    <tr>\n",
       "      <th>2019-03-31</th>\n",
       "      <td>189281658.0</td>\n",
       "      <td>2.103130e+06</td>\n",
       "      <td>282239.618354</td>\n",
       "    </tr>\n",
       "    <tr>\n",
       "      <th>2019-06-30</th>\n",
       "      <td>221756667.0</td>\n",
       "      <td>2.436886e+06</td>\n",
       "      <td>212600.697665</td>\n",
       "    </tr>\n",
       "    <tr>\n",
       "      <th>2019-09-30</th>\n",
       "      <td>220819236.0</td>\n",
       "      <td>2.400209e+06</td>\n",
       "      <td>260140.242892</td>\n",
       "    </tr>\n",
       "    <tr>\n",
       "      <th>2019-12-31</th>\n",
       "      <td>211103512.0</td>\n",
       "      <td>2.294603e+06</td>\n",
       "      <td>260510.040655</td>\n",
       "    </tr>\n",
       "    <tr>\n",
       "      <th>2020-03-31</th>\n",
       "      <td>155354148.0</td>\n",
       "      <td>1.726157e+06</td>\n",
       "      <td>685094.277420</td>\n",
       "    </tr>\n",
       "    <tr>\n",
       "      <th>2020-06-30</th>\n",
       "      <td>25049083.0</td>\n",
       "      <td>2.752646e+05</td>\n",
       "      <td>170127.402046</td>\n",
       "    </tr>\n",
       "    <tr>\n",
       "      <th>2020-09-30</th>\n",
       "      <td>63937115.0</td>\n",
       "      <td>6.949686e+05</td>\n",
       "      <td>103864.705739</td>\n",
       "    </tr>\n",
       "    <tr>\n",
       "      <th>2020-12-31</th>\n",
       "      <td>77541248.0</td>\n",
       "      <td>8.428397e+05</td>\n",
       "      <td>170245.484185</td>\n",
       "    </tr>\n",
       "    <tr>\n",
       "      <th>2021-03-31</th>\n",
       "      <td>86094635.0</td>\n",
       "      <td>9.566071e+05</td>\n",
       "      <td>280399.809061</td>\n",
       "    </tr>\n",
       "  </tbody>\n",
       "</table>\n",
       "</div>"
      ],
      "text/plain": [
       "              travelers                             \n",
       "                    sum          mean            std\n",
       "date                                                \n",
       "2019-03-31  189281658.0  2.103130e+06  282239.618354\n",
       "2019-06-30  221756667.0  2.436886e+06  212600.697665\n",
       "2019-09-30  220819236.0  2.400209e+06  260140.242892\n",
       "2019-12-31  211103512.0  2.294603e+06  260510.040655\n",
       "2020-03-31  155354148.0  1.726157e+06  685094.277420\n",
       "2020-06-30   25049083.0  2.752646e+05  170127.402046\n",
       "2020-09-30   63937115.0  6.949686e+05  103864.705739\n",
       "2020-12-31   77541248.0  8.428397e+05  170245.484185\n",
       "2021-03-31   86094635.0  9.566071e+05  280399.809061"
      ]
     },
     "execution_count": 51,
     "metadata": {},
     "output_type": "execute_result"
    }
   ],
   "source": [
    "tsa_melted_holiday_travel['2019':'2021-Q1'].select_dtypes(include='number')\\\n",
    "    .resample('Q').agg(['sum', 'mean', 'std'])"
   ]
  },
  {
   "cell_type": "markdown",
   "id": "c169d6c8-a744-462a-bfbb-a5cadd29eca9",
   "metadata": {
    "slideshow": {
     "slide_type": "subslide"
    },
    "tags": []
   },
   "source": [
    "### Window calculations\n",
    "\n",
    "Window calculations are similar to group by calculations except the group over which the calculation is performed isn't static &ndash; it can move or expand. Pandas provides functionality for constructing a variety of windows, including moving/rolling windows, expanding windows (e.g., cumulative sum or mean up to the current date in a time series), and exponentially weighted moving windows (to weight closer observations more than further ones). We will only look at rolling and expanding calculations here."
   ]
  },
  {
   "cell_type": "markdown",
   "id": "acdebc2e-20f9-4963-9aeb-90a6d91db14e",
   "metadata": {
    "slideshow": {
     "slide_type": "subslide"
    },
    "tags": []
   },
   "source": [
    "Performing a window calculation is very similar to a group by calculation &ndash; we first define the window, and then we specify the aggregation:"
   ]
  },
  {
   "cell_type": "code",
   "execution_count": 52,
   "id": "d83c0d2e-16db-49de-b15b-ba30792a89e7",
   "metadata": {},
   "outputs": [
    {
     "data": {
      "text/html": [
       "<div>\n",
       "<style scoped>\n",
       "    .dataframe tbody tr th:only-of-type {\n",
       "        vertical-align: middle;\n",
       "    }\n",
       "\n",
       "    .dataframe tbody tr th {\n",
       "        vertical-align: top;\n",
       "    }\n",
       "\n",
       "    .dataframe thead th {\n",
       "        text-align: right;\n",
       "    }\n",
       "</style>\n",
       "<table border=\"1\" class=\"dataframe\">\n",
       "  <thead>\n",
       "    <tr style=\"text-align: right;\">\n",
       "      <th></th>\n",
       "      <th>year</th>\n",
       "      <th>travelers</th>\n",
       "      <th>holiday</th>\n",
       "      <th>7D MA</th>\n",
       "      <th>YTD mean</th>\n",
       "    </tr>\n",
       "    <tr>\n",
       "      <th>date</th>\n",
       "      <th></th>\n",
       "      <th></th>\n",
       "      <th></th>\n",
       "      <th></th>\n",
       "      <th></th>\n",
       "    </tr>\n",
       "  </thead>\n",
       "  <tbody>\n",
       "    <tr>\n",
       "      <th>2020-01-01</th>\n",
       "      <td>2020</td>\n",
       "      <td>2311732.0</td>\n",
       "      <td>New Year's Day</td>\n",
       "      <td>2.311732e+06</td>\n",
       "      <td>2.311732e+06</td>\n",
       "    </tr>\n",
       "    <tr>\n",
       "      <th>2020-01-02</th>\n",
       "      <td>2020</td>\n",
       "      <td>2178656.0</td>\n",
       "      <td>New Year's Day</td>\n",
       "      <td>2.245194e+06</td>\n",
       "      <td>2.245194e+06</td>\n",
       "    </tr>\n",
       "    <tr>\n",
       "      <th>2020-01-03</th>\n",
       "      <td>2020</td>\n",
       "      <td>2422272.0</td>\n",
       "      <td>NaN</td>\n",
       "      <td>2.304220e+06</td>\n",
       "      <td>2.304220e+06</td>\n",
       "    </tr>\n",
       "    <tr>\n",
       "      <th>2020-01-04</th>\n",
       "      <td>2020</td>\n",
       "      <td>2210542.0</td>\n",
       "      <td>NaN</td>\n",
       "      <td>2.280800e+06</td>\n",
       "      <td>2.280800e+06</td>\n",
       "    </tr>\n",
       "    <tr>\n",
       "      <th>2020-01-05</th>\n",
       "      <td>2020</td>\n",
       "      <td>1806480.0</td>\n",
       "      <td>NaN</td>\n",
       "      <td>2.185936e+06</td>\n",
       "      <td>2.185936e+06</td>\n",
       "    </tr>\n",
       "    <tr>\n",
       "      <th>2020-01-06</th>\n",
       "      <td>2020</td>\n",
       "      <td>1815040.0</td>\n",
       "      <td>NaN</td>\n",
       "      <td>2.124120e+06</td>\n",
       "      <td>2.124120e+06</td>\n",
       "    </tr>\n",
       "    <tr>\n",
       "      <th>2020-01-07</th>\n",
       "      <td>2020</td>\n",
       "      <td>2034472.0</td>\n",
       "      <td>NaN</td>\n",
       "      <td>2.111313e+06</td>\n",
       "      <td>2.111313e+06</td>\n",
       "    </tr>\n",
       "    <tr>\n",
       "      <th>2020-01-08</th>\n",
       "      <td>2020</td>\n",
       "      <td>2072543.0</td>\n",
       "      <td>NaN</td>\n",
       "      <td>2.077144e+06</td>\n",
       "      <td>2.106467e+06</td>\n",
       "    </tr>\n",
       "    <tr>\n",
       "      <th>2020-01-09</th>\n",
       "      <td>2020</td>\n",
       "      <td>1687974.0</td>\n",
       "      <td>NaN</td>\n",
       "      <td>2.007046e+06</td>\n",
       "      <td>2.059968e+06</td>\n",
       "    </tr>\n",
       "    <tr>\n",
       "      <th>2020-01-10</th>\n",
       "      <td>2020</td>\n",
       "      <td>2183734.0</td>\n",
       "      <td>NaN</td>\n",
       "      <td>1.972969e+06</td>\n",
       "      <td>2.072344e+06</td>\n",
       "    </tr>\n",
       "  </tbody>\n",
       "</table>\n",
       "</div>"
      ],
      "text/plain": [
       "            year  travelers         holiday         7D MA      YTD mean\n",
       "date                                                                   \n",
       "2020-01-01  2020  2311732.0  New Year's Day  2.311732e+06  2.311732e+06\n",
       "2020-01-02  2020  2178656.0  New Year's Day  2.245194e+06  2.245194e+06\n",
       "2020-01-03  2020  2422272.0             NaN  2.304220e+06  2.304220e+06\n",
       "2020-01-04  2020  2210542.0             NaN  2.280800e+06  2.280800e+06\n",
       "2020-01-05  2020  1806480.0             NaN  2.185936e+06  2.185936e+06\n",
       "2020-01-06  2020  1815040.0             NaN  2.124120e+06  2.124120e+06\n",
       "2020-01-07  2020  2034472.0             NaN  2.111313e+06  2.111313e+06\n",
       "2020-01-08  2020  2072543.0             NaN  2.077144e+06  2.106467e+06\n",
       "2020-01-09  2020  1687974.0             NaN  2.007046e+06  2.059968e+06\n",
       "2020-01-10  2020  2183734.0             NaN  1.972969e+06  2.072344e+06"
      ]
     },
     "execution_count": 52,
     "metadata": {},
     "output_type": "execute_result"
    }
   ],
   "source": [
    "tsa_melted_holiday_travel.loc['2020'].assign(\n",
    "    **{\n",
    "        '7D MA': lambda x: x.rolling('7D').travelers.mean(),\n",
    "        'YTD mean': lambda x: x.expanding().travelers.mean()\n",
    "      }\n",
    ").head(10)"
   ]
  },
  {
   "cell_type": "markdown",
   "id": "8dab1843-9179-415f-be5b-1ebafaef3690",
   "metadata": {
    "slideshow": {
     "slide_type": "subslide"
    },
    "tags": []
   },
   "source": [
    "To understand what's happening, it's best to visualize the original data and the result, so here's a sneak peek of plotting with pandas. First, some setup to embed SVG plots in the notebook:"
   ]
  },
  {
   "cell_type": "code",
   "execution_count": 53,
   "id": "da84fa52-b2a9-4ab8-9d6d-643a3b43b94e",
   "metadata": {},
   "outputs": [],
   "source": [
    "import matplotlib_inline\n",
    "from utils import mpl_svg_config\n",
    "\n",
    "matplotlib_inline.backend_inline.set_matplotlib_formats(\n",
    "    'svg', # output images using SVG format\n",
    "    **mpl_svg_config('section-2') # optional: configure metadata\n",
    ")"
   ]
  },
  {
   "cell_type": "markdown",
   "id": "81e00227-a79d-464f-bbbf-318992b6a5a4",
   "metadata": {},
   "source": [
    "*Tip: For most use cases, only the first argument is necessary &ndash; we will discuss the second argument in more detail in the next section.*"
   ]
  },
  {
   "cell_type": "markdown",
   "id": "474adada-c6c6-4306-ab85-a23a6bebaca7",
   "metadata": {
    "slideshow": {
     "slide_type": "subslide"
    },
    "tags": []
   },
   "source": [
    "Now, we call the `plot()` method to visualize the data:"
   ]
  },
  {
   "cell_type": "code",
   "execution_count": 54,
   "id": "3e31834c-3299-44b0-8ac3-6939b91b9be0",
   "metadata": {},
   "outputs": [
    {
     "data": {
      "image/svg+xml": "<?xml version=\"1.0\" encoding=\"utf-8\" standalone=\"no\"?>\n<!DOCTYPE svg PUBLIC \"-//W3C//DTD SVG 1.1//EN\"\n  \"http://www.w3.org/Graphics/SVG/1.1/DTD/svg11.dtd\">\n<svg xmlns:xlink=\"http://www.w3.org/1999/xlink\" width=\"408.10125pt\" height=\"314.477158pt\" viewBox=\"0 0 408.10125 314.477158\" xmlns=\"http://www.w3.org/2000/svg\" version=\"1.1\">\n <metadata>\n  <rdf:RDF xmlns:dc=\"http://purl.org/dc/elements/1.1/\" xmlns:cc=\"http://creativecommons.org/ns#\" xmlns:rdf=\"http://www.w3.org/1999/02/22-rdf-syntax-ns#\">\n   <cc:Work>\n    <dc:type rdf:resource=\"http://purl.org/dc/dcmitype/StillImage\"/>\n    <dc:date>(c) 2021-2023 Stefanie Molin</dc:date>\n    <dc:format>image/svg+xml</dc:format>\n    <dc:creator>\n     <cc:Agent>\n      <dc:title>Matplotlib v3.7.1, https://matplotlib.org/</dc:title>\n     </cc:Agent>\n    </dc:creator>\n   </cc:Work>\n  </rdf:RDF>\n </metadata>\n <defs>\n  <style type=\"text/css\">*{stroke-linejoin: round; stroke-linecap: butt}</style>\n </defs>\n <g id=\"figure_1\">\n  <g id=\"patch_1\">\n   <path d=\"M 0 314.477158 \nL 408.10125 314.477158 \nL 408.10125 0 \nL 0 0 \nz\n\" style=\"fill: #ffffff\"/>\n  </g>\n  <g id=\"axes_1\">\n   <g id=\"patch_2\">\n    <path d=\"M 43.78125 257.326125 \nL 400.90125 257.326125 \nL 400.90125 22.318125 \nL 43.78125 22.318125 \nz\n\" style=\"fill: #ffffff\"/>\n   </g>\n   <g id=\"matplotlib.axis_1\">\n    <g id=\"xtick_1\">\n     <g id=\"line2d_1\">\n      <defs>\n       <path id=\"mf8cac93d9d\" d=\"M 0 0 \nL 0 3.5 \n\" style=\"stroke: #000000; stroke-width: 0.8\"/>\n      </defs>\n      <g>\n       <use xlink:href=\"#mf8cac93d9d\" x=\"60.013977\" y=\"257.326125\" style=\"stroke: #000000; stroke-width: 0.8\"/>\n      </g>\n     </g>\n     <g id=\"text_1\">\n      <!-- 2020-01 -->\n      <g transform=\"translate(22.789156 291.797971) rotate(-30) scale(0.1 -0.1)\">\n       <defs>\n        <path id=\"DejaVuSans-32\" d=\"M 1228 531 \nL 3431 531 \nL 3431 0 \nL 469 0 \nL 469 531 \nQ 828 903 1448 1529 \nQ 2069 2156 2228 2338 \nQ 2531 2678 2651 2914 \nQ 2772 3150 2772 3378 \nQ 2772 3750 2511 3984 \nQ 2250 4219 1831 4219 \nQ 1534 4219 1204 4116 \nQ 875 4013 500 3803 \nL 500 4441 \nQ 881 4594 1212 4672 \nQ 1544 4750 1819 4750 \nQ 2544 4750 2975 4387 \nQ 3406 4025 3406 3419 \nQ 3406 3131 3298 2873 \nQ 3191 2616 2906 2266 \nQ 2828 2175 2409 1742 \nQ 1991 1309 1228 531 \nz\n\" transform=\"scale(0.015625)\"/>\n        <path id=\"DejaVuSans-30\" d=\"M 2034 4250 \nQ 1547 4250 1301 3770 \nQ 1056 3291 1056 2328 \nQ 1056 1369 1301 889 \nQ 1547 409 2034 409 \nQ 2525 409 2770 889 \nQ 3016 1369 3016 2328 \nQ 3016 3291 2770 3770 \nQ 2525 4250 2034 4250 \nz\nM 2034 4750 \nQ 2819 4750 3233 4129 \nQ 3647 3509 3647 2328 \nQ 3647 1150 3233 529 \nQ 2819 -91 2034 -91 \nQ 1250 -91 836 529 \nQ 422 1150 422 2328 \nQ 422 3509 836 4129 \nQ 1250 4750 2034 4750 \nz\n\" transform=\"scale(0.015625)\"/>\n        <path id=\"DejaVuSans-2d\" d=\"M 313 2009 \nL 1997 2009 \nL 1997 1497 \nL 313 1497 \nL 313 2009 \nz\n\" transform=\"scale(0.015625)\"/>\n        <path id=\"DejaVuSans-31\" d=\"M 794 531 \nL 1825 531 \nL 1825 4091 \nL 703 3866 \nL 703 4441 \nL 1819 4666 \nL 2450 4666 \nL 2450 531 \nL 3481 531 \nL 3481 0 \nL 794 0 \nL 794 531 \nz\n\" transform=\"scale(0.015625)\"/>\n       </defs>\n       <use xlink:href=\"#DejaVuSans-32\"/>\n       <use xlink:href=\"#DejaVuSans-30\" x=\"63.623047\"/>\n       <use xlink:href=\"#DejaVuSans-32\" x=\"127.246094\"/>\n       <use xlink:href=\"#DejaVuSans-30\" x=\"190.869141\"/>\n       <use xlink:href=\"#DejaVuSans-2d\" x=\"254.492188\"/>\n       <use xlink:href=\"#DejaVuSans-30\" x=\"290.576172\"/>\n       <use xlink:href=\"#DejaVuSans-31\" x=\"354.199219\"/>\n      </g>\n     </g>\n    </g>\n    <g id=\"xtick_2\">\n     <g id=\"line2d_2\">\n      <g>\n       <use xlink:href=\"#mf8cac93d9d\" x=\"113.381848\" y=\"257.326125\" style=\"stroke: #000000; stroke-width: 0.8\"/>\n      </g>\n     </g>\n     <g id=\"text_2\">\n      <!-- 2020-03 -->\n      <g transform=\"translate(76.157027 291.797971) rotate(-30) scale(0.1 -0.1)\">\n       <defs>\n        <path id=\"DejaVuSans-33\" d=\"M 2597 2516 \nQ 3050 2419 3304 2112 \nQ 3559 1806 3559 1356 \nQ 3559 666 3084 287 \nQ 2609 -91 1734 -91 \nQ 1441 -91 1130 -33 \nQ 819 25 488 141 \nL 488 750 \nQ 750 597 1062 519 \nQ 1375 441 1716 441 \nQ 2309 441 2620 675 \nQ 2931 909 2931 1356 \nQ 2931 1769 2642 2001 \nQ 2353 2234 1838 2234 \nL 1294 2234 \nL 1294 2753 \nL 1863 2753 \nQ 2328 2753 2575 2939 \nQ 2822 3125 2822 3475 \nQ 2822 3834 2567 4026 \nQ 2313 4219 1838 4219 \nQ 1578 4219 1281 4162 \nQ 984 4106 628 3988 \nL 628 4550 \nQ 988 4650 1302 4700 \nQ 1616 4750 1894 4750 \nQ 2613 4750 3031 4423 \nQ 3450 4097 3450 3541 \nQ 3450 3153 3228 2886 \nQ 3006 2619 2597 2516 \nz\n\" transform=\"scale(0.015625)\"/>\n       </defs>\n       <use xlink:href=\"#DejaVuSans-32\"/>\n       <use xlink:href=\"#DejaVuSans-30\" x=\"63.623047\"/>\n       <use xlink:href=\"#DejaVuSans-32\" x=\"127.246094\"/>\n       <use xlink:href=\"#DejaVuSans-30\" x=\"190.869141\"/>\n       <use xlink:href=\"#DejaVuSans-2d\" x=\"254.492188\"/>\n       <use xlink:href=\"#DejaVuSans-30\" x=\"290.576172\"/>\n       <use xlink:href=\"#DejaVuSans-33\" x=\"354.199219\"/>\n      </g>\n     </g>\n    </g>\n    <g id=\"xtick_3\">\n     <g id=\"line2d_3\">\n      <g>\n       <use xlink:href=\"#mf8cac93d9d\" x=\"167.639183\" y=\"257.326125\" style=\"stroke: #000000; stroke-width: 0.8\"/>\n      </g>\n     </g>\n     <g id=\"text_3\">\n      <!-- 2020-05 -->\n      <g transform=\"translate(130.414362 291.797971) rotate(-30) scale(0.1 -0.1)\">\n       <defs>\n        <path id=\"DejaVuSans-35\" d=\"M 691 4666 \nL 3169 4666 \nL 3169 4134 \nL 1269 4134 \nL 1269 2991 \nQ 1406 3038 1543 3061 \nQ 1681 3084 1819 3084 \nQ 2600 3084 3056 2656 \nQ 3513 2228 3513 1497 \nQ 3513 744 3044 326 \nQ 2575 -91 1722 -91 \nQ 1428 -91 1123 -41 \nQ 819 9 494 109 \nL 494 744 \nQ 775 591 1075 516 \nQ 1375 441 1709 441 \nQ 2250 441 2565 725 \nQ 2881 1009 2881 1497 \nQ 2881 1984 2565 2268 \nQ 2250 2553 1709 2553 \nQ 1456 2553 1204 2497 \nQ 953 2441 691 2322 \nL 691 4666 \nz\n\" transform=\"scale(0.015625)\"/>\n       </defs>\n       <use xlink:href=\"#DejaVuSans-32\"/>\n       <use xlink:href=\"#DejaVuSans-30\" x=\"63.623047\"/>\n       <use xlink:href=\"#DejaVuSans-32\" x=\"127.246094\"/>\n       <use xlink:href=\"#DejaVuSans-30\" x=\"190.869141\"/>\n       <use xlink:href=\"#DejaVuSans-2d\" x=\"254.492188\"/>\n       <use xlink:href=\"#DejaVuSans-30\" x=\"290.576172\"/>\n       <use xlink:href=\"#DejaVuSans-35\" x=\"354.199219\"/>\n      </g>\n     </g>\n    </g>\n    <g id=\"xtick_4\">\n     <g id=\"line2d_4\">\n      <g>\n       <use xlink:href=\"#mf8cac93d9d\" x=\"221.896518\" y=\"257.326125\" style=\"stroke: #000000; stroke-width: 0.8\"/>\n      </g>\n     </g>\n     <g id=\"text_4\">\n      <!-- 2020-07 -->\n      <g transform=\"translate(184.671697 291.797971) rotate(-30) scale(0.1 -0.1)\">\n       <defs>\n        <path id=\"DejaVuSans-37\" d=\"M 525 4666 \nL 3525 4666 \nL 3525 4397 \nL 1831 0 \nL 1172 0 \nL 2766 4134 \nL 525 4134 \nL 525 4666 \nz\n\" transform=\"scale(0.015625)\"/>\n       </defs>\n       <use xlink:href=\"#DejaVuSans-32\"/>\n       <use xlink:href=\"#DejaVuSans-30\" x=\"63.623047\"/>\n       <use xlink:href=\"#DejaVuSans-32\" x=\"127.246094\"/>\n       <use xlink:href=\"#DejaVuSans-30\" x=\"190.869141\"/>\n       <use xlink:href=\"#DejaVuSans-2d\" x=\"254.492188\"/>\n       <use xlink:href=\"#DejaVuSans-30\" x=\"290.576172\"/>\n       <use xlink:href=\"#DejaVuSans-37\" x=\"354.199219\"/>\n      </g>\n     </g>\n    </g>\n    <g id=\"xtick_5\">\n     <g id=\"line2d_5\">\n      <g>\n       <use xlink:href=\"#mf8cac93d9d\" x=\"277.043317\" y=\"257.326125\" style=\"stroke: #000000; stroke-width: 0.8\"/>\n      </g>\n     </g>\n     <g id=\"text_5\">\n      <!-- 2020-09 -->\n      <g transform=\"translate(239.818496 291.797971) rotate(-30) scale(0.1 -0.1)\">\n       <defs>\n        <path id=\"DejaVuSans-39\" d=\"M 703 97 \nL 703 672 \nQ 941 559 1184 500 \nQ 1428 441 1663 441 \nQ 2288 441 2617 861 \nQ 2947 1281 2994 2138 \nQ 2813 1869 2534 1725 \nQ 2256 1581 1919 1581 \nQ 1219 1581 811 2004 \nQ 403 2428 403 3163 \nQ 403 3881 828 4315 \nQ 1253 4750 1959 4750 \nQ 2769 4750 3195 4129 \nQ 3622 3509 3622 2328 \nQ 3622 1225 3098 567 \nQ 2575 -91 1691 -91 \nQ 1453 -91 1209 -44 \nQ 966 3 703 97 \nz\nM 1959 2075 \nQ 2384 2075 2632 2365 \nQ 2881 2656 2881 3163 \nQ 2881 3666 2632 3958 \nQ 2384 4250 1959 4250 \nQ 1534 4250 1286 3958 \nQ 1038 3666 1038 3163 \nQ 1038 2656 1286 2365 \nQ 1534 2075 1959 2075 \nz\n\" transform=\"scale(0.015625)\"/>\n       </defs>\n       <use xlink:href=\"#DejaVuSans-32\"/>\n       <use xlink:href=\"#DejaVuSans-30\" x=\"63.623047\"/>\n       <use xlink:href=\"#DejaVuSans-32\" x=\"127.246094\"/>\n       <use xlink:href=\"#DejaVuSans-30\" x=\"190.869141\"/>\n       <use xlink:href=\"#DejaVuSans-2d\" x=\"254.492188\"/>\n       <use xlink:href=\"#DejaVuSans-30\" x=\"290.576172\"/>\n       <use xlink:href=\"#DejaVuSans-39\" x=\"354.199219\"/>\n      </g>\n     </g>\n    </g>\n    <g id=\"xtick_6\">\n     <g id=\"line2d_6\">\n      <g>\n       <use xlink:href=\"#mf8cac93d9d\" x=\"331.300652\" y=\"257.326125\" style=\"stroke: #000000; stroke-width: 0.8\"/>\n      </g>\n     </g>\n     <g id=\"text_6\">\n      <!-- 2020-11 -->\n      <g transform=\"translate(294.075831 291.797971) rotate(-30) scale(0.1 -0.1)\">\n       <use xlink:href=\"#DejaVuSans-32\"/>\n       <use xlink:href=\"#DejaVuSans-30\" x=\"63.623047\"/>\n       <use xlink:href=\"#DejaVuSans-32\" x=\"127.246094\"/>\n       <use xlink:href=\"#DejaVuSans-30\" x=\"190.869141\"/>\n       <use xlink:href=\"#DejaVuSans-2d\" x=\"254.492188\"/>\n       <use xlink:href=\"#DejaVuSans-31\" x=\"290.576172\"/>\n       <use xlink:href=\"#DejaVuSans-31\" x=\"354.199219\"/>\n      </g>\n     </g>\n    </g>\n    <g id=\"xtick_7\">\n     <g id=\"line2d_7\">\n      <g>\n       <use xlink:href=\"#mf8cac93d9d\" x=\"385.557987\" y=\"257.326125\" style=\"stroke: #000000; stroke-width: 0.8\"/>\n      </g>\n     </g>\n     <g id=\"text_7\">\n      <!-- 2021-01 -->\n      <g transform=\"translate(348.333166 291.797971) rotate(-30) scale(0.1 -0.1)\">\n       <use xlink:href=\"#DejaVuSans-32\"/>\n       <use xlink:href=\"#DejaVuSans-30\" x=\"63.623047\"/>\n       <use xlink:href=\"#DejaVuSans-32\" x=\"127.246094\"/>\n       <use xlink:href=\"#DejaVuSans-31\" x=\"190.869141\"/>\n       <use xlink:href=\"#DejaVuSans-2d\" x=\"254.492188\"/>\n       <use xlink:href=\"#DejaVuSans-30\" x=\"290.576172\"/>\n       <use xlink:href=\"#DejaVuSans-31\" x=\"354.199219\"/>\n      </g>\n     </g>\n    </g>\n    <g id=\"text_8\">\n     <!-- date -->\n     <g transform=\"translate(211.06625 305.197471) scale(0.1 -0.1)\">\n      <defs>\n       <path id=\"DejaVuSans-64\" d=\"M 2906 2969 \nL 2906 4863 \nL 3481 4863 \nL 3481 0 \nL 2906 0 \nL 2906 525 \nQ 2725 213 2448 61 \nQ 2172 -91 1784 -91 \nQ 1150 -91 751 415 \nQ 353 922 353 1747 \nQ 353 2572 751 3078 \nQ 1150 3584 1784 3584 \nQ 2172 3584 2448 3432 \nQ 2725 3281 2906 2969 \nz\nM 947 1747 \nQ 947 1113 1208 752 \nQ 1469 391 1925 391 \nQ 2381 391 2643 752 \nQ 2906 1113 2906 1747 \nQ 2906 2381 2643 2742 \nQ 2381 3103 1925 3103 \nQ 1469 3103 1208 2742 \nQ 947 2381 947 1747 \nz\n\" transform=\"scale(0.015625)\"/>\n       <path id=\"DejaVuSans-61\" d=\"M 2194 1759 \nQ 1497 1759 1228 1600 \nQ 959 1441 959 1056 \nQ 959 750 1161 570 \nQ 1363 391 1709 391 \nQ 2188 391 2477 730 \nQ 2766 1069 2766 1631 \nL 2766 1759 \nL 2194 1759 \nz\nM 3341 1997 \nL 3341 0 \nL 2766 0 \nL 2766 531 \nQ 2569 213 2275 61 \nQ 1981 -91 1556 -91 \nQ 1019 -91 701 211 \nQ 384 513 384 1019 \nQ 384 1609 779 1909 \nQ 1175 2209 1959 2209 \nL 2766 2209 \nL 2766 2266 \nQ 2766 2663 2505 2880 \nQ 2244 3097 1772 3097 \nQ 1472 3097 1187 3025 \nQ 903 2953 641 2809 \nL 641 3341 \nQ 956 3463 1253 3523 \nQ 1550 3584 1831 3584 \nQ 2591 3584 2966 3190 \nQ 3341 2797 3341 1997 \nz\n\" transform=\"scale(0.015625)\"/>\n       <path id=\"DejaVuSans-74\" d=\"M 1172 4494 \nL 1172 3500 \nL 2356 3500 \nL 2356 3053 \nL 1172 3053 \nL 1172 1153 \nQ 1172 725 1289 603 \nQ 1406 481 1766 481 \nL 2356 481 \nL 2356 0 \nL 1766 0 \nQ 1100 0 847 248 \nQ 594 497 594 1153 \nL 594 3053 \nL 172 3053 \nL 172 3500 \nL 594 3500 \nL 594 4494 \nL 1172 4494 \nz\n\" transform=\"scale(0.015625)\"/>\n       <path id=\"DejaVuSans-65\" d=\"M 3597 1894 \nL 3597 1613 \nL 953 1613 \nQ 991 1019 1311 708 \nQ 1631 397 2203 397 \nQ 2534 397 2845 478 \nQ 3156 559 3463 722 \nL 3463 178 \nQ 3153 47 2828 -22 \nQ 2503 -91 2169 -91 \nQ 1331 -91 842 396 \nQ 353 884 353 1716 \nQ 353 2575 817 3079 \nQ 1281 3584 2069 3584 \nQ 2775 3584 3186 3129 \nQ 3597 2675 3597 1894 \nz\nM 3022 2063 \nQ 3016 2534 2758 2815 \nQ 2500 3097 2075 3097 \nQ 1594 3097 1305 2825 \nQ 1016 2553 972 2059 \nL 3022 2063 \nz\n\" transform=\"scale(0.015625)\"/>\n      </defs>\n      <use xlink:href=\"#DejaVuSans-64\"/>\n      <use xlink:href=\"#DejaVuSans-61\" x=\"63.476562\"/>\n      <use xlink:href=\"#DejaVuSans-74\" x=\"124.755859\"/>\n      <use xlink:href=\"#DejaVuSans-65\" x=\"163.964844\"/>\n     </g>\n    </g>\n   </g>\n   <g id=\"matplotlib.axis_2\">\n    <g id=\"ytick_1\">\n     <g id=\"line2d_8\">\n      <defs>\n       <path id=\"m7db33de5b5\" d=\"M 0 0 \nL -3.5 0 \n\" style=\"stroke: #000000; stroke-width: 0.8\"/>\n      </defs>\n      <g>\n       <use xlink:href=\"#m7db33de5b5\" x=\"43.78125\" y=\"254.371491\" style=\"stroke: #000000; stroke-width: 0.8\"/>\n      </g>\n     </g>\n     <g id=\"text_9\">\n      <!-- 0.0 -->\n      <g transform=\"translate(20.878125 258.170709) scale(0.1 -0.1)\">\n       <defs>\n        <path id=\"DejaVuSans-2e\" d=\"M 684 794 \nL 1344 794 \nL 1344 0 \nL 684 0 \nL 684 794 \nz\n\" transform=\"scale(0.015625)\"/>\n       </defs>\n       <use xlink:href=\"#DejaVuSans-30\"/>\n       <use xlink:href=\"#DejaVuSans-2e\" x=\"63.623047\"/>\n       <use xlink:href=\"#DejaVuSans-30\" x=\"95.410156\"/>\n      </g>\n     </g>\n    </g>\n    <g id=\"ytick_2\">\n     <g id=\"line2d_9\">\n      <g>\n       <use xlink:href=\"#m7db33de5b5\" x=\"43.78125\" y=\"210.231228\" style=\"stroke: #000000; stroke-width: 0.8\"/>\n      </g>\n     </g>\n     <g id=\"text_10\">\n      <!-- 0.5 -->\n      <g transform=\"translate(20.878125 214.030447) scale(0.1 -0.1)\">\n       <use xlink:href=\"#DejaVuSans-30\"/>\n       <use xlink:href=\"#DejaVuSans-2e\" x=\"63.623047\"/>\n       <use xlink:href=\"#DejaVuSans-35\" x=\"95.410156\"/>\n      </g>\n     </g>\n    </g>\n    <g id=\"ytick_3\">\n     <g id=\"line2d_10\">\n      <g>\n       <use xlink:href=\"#m7db33de5b5\" x=\"43.78125\" y=\"166.090966\" style=\"stroke: #000000; stroke-width: 0.8\"/>\n      </g>\n     </g>\n     <g id=\"text_11\">\n      <!-- 1.0 -->\n      <g transform=\"translate(20.878125 169.890185) scale(0.1 -0.1)\">\n       <use xlink:href=\"#DejaVuSans-31\"/>\n       <use xlink:href=\"#DejaVuSans-2e\" x=\"63.623047\"/>\n       <use xlink:href=\"#DejaVuSans-30\" x=\"95.410156\"/>\n      </g>\n     </g>\n    </g>\n    <g id=\"ytick_4\">\n     <g id=\"line2d_11\">\n      <g>\n       <use xlink:href=\"#m7db33de5b5\" x=\"43.78125\" y=\"121.950704\" style=\"stroke: #000000; stroke-width: 0.8\"/>\n      </g>\n     </g>\n     <g id=\"text_12\">\n      <!-- 1.5 -->\n      <g transform=\"translate(20.878125 125.749923) scale(0.1 -0.1)\">\n       <use xlink:href=\"#DejaVuSans-31\"/>\n       <use xlink:href=\"#DejaVuSans-2e\" x=\"63.623047\"/>\n       <use xlink:href=\"#DejaVuSans-35\" x=\"95.410156\"/>\n      </g>\n     </g>\n    </g>\n    <g id=\"ytick_5\">\n     <g id=\"line2d_12\">\n      <g>\n       <use xlink:href=\"#m7db33de5b5\" x=\"43.78125\" y=\"77.810442\" style=\"stroke: #000000; stroke-width: 0.8\"/>\n      </g>\n     </g>\n     <g id=\"text_13\">\n      <!-- 2.0 -->\n      <g transform=\"translate(20.878125 81.60966) scale(0.1 -0.1)\">\n       <use xlink:href=\"#DejaVuSans-32\"/>\n       <use xlink:href=\"#DejaVuSans-2e\" x=\"63.623047\"/>\n       <use xlink:href=\"#DejaVuSans-30\" x=\"95.410156\"/>\n      </g>\n     </g>\n    </g>\n    <g id=\"ytick_6\">\n     <g id=\"line2d_13\">\n      <g>\n       <use xlink:href=\"#m7db33de5b5\" x=\"43.78125\" y=\"33.670179\" style=\"stroke: #000000; stroke-width: 0.8\"/>\n      </g>\n     </g>\n     <g id=\"text_14\">\n      <!-- 2.5 -->\n      <g transform=\"translate(20.878125 37.469398) scale(0.1 -0.1)\">\n       <use xlink:href=\"#DejaVuSans-32\"/>\n       <use xlink:href=\"#DejaVuSans-2e\" x=\"63.623047\"/>\n       <use xlink:href=\"#DejaVuSans-35\" x=\"95.410156\"/>\n      </g>\n     </g>\n    </g>\n    <g id=\"text_15\">\n     <!-- travelers -->\n     <g transform=\"translate(14.798438 162.063531) rotate(-90) scale(0.1 -0.1)\">\n      <defs>\n       <path id=\"DejaVuSans-72\" d=\"M 2631 2963 \nQ 2534 3019 2420 3045 \nQ 2306 3072 2169 3072 \nQ 1681 3072 1420 2755 \nQ 1159 2438 1159 1844 \nL 1159 0 \nL 581 0 \nL 581 3500 \nL 1159 3500 \nL 1159 2956 \nQ 1341 3275 1631 3429 \nQ 1922 3584 2338 3584 \nQ 2397 3584 2469 3576 \nQ 2541 3569 2628 3553 \nL 2631 2963 \nz\n\" transform=\"scale(0.015625)\"/>\n       <path id=\"DejaVuSans-76\" d=\"M 191 3500 \nL 800 3500 \nL 1894 563 \nL 2988 3500 \nL 3597 3500 \nL 2284 0 \nL 1503 0 \nL 191 3500 \nz\n\" transform=\"scale(0.015625)\"/>\n       <path id=\"DejaVuSans-6c\" d=\"M 603 4863 \nL 1178 4863 \nL 1178 0 \nL 603 0 \nL 603 4863 \nz\n\" transform=\"scale(0.015625)\"/>\n       <path id=\"DejaVuSans-73\" d=\"M 2834 3397 \nL 2834 2853 \nQ 2591 2978 2328 3040 \nQ 2066 3103 1784 3103 \nQ 1356 3103 1142 2972 \nQ 928 2841 928 2578 \nQ 928 2378 1081 2264 \nQ 1234 2150 1697 2047 \nL 1894 2003 \nQ 2506 1872 2764 1633 \nQ 3022 1394 3022 966 \nQ 3022 478 2636 193 \nQ 2250 -91 1575 -91 \nQ 1294 -91 989 -36 \nQ 684 19 347 128 \nL 347 722 \nQ 666 556 975 473 \nQ 1284 391 1588 391 \nQ 1994 391 2212 530 \nQ 2431 669 2431 922 \nQ 2431 1156 2273 1281 \nQ 2116 1406 1581 1522 \nL 1381 1569 \nQ 847 1681 609 1914 \nQ 372 2147 372 2553 \nQ 372 3047 722 3315 \nQ 1072 3584 1716 3584 \nQ 2034 3584 2315 3537 \nQ 2597 3491 2834 3397 \nz\n\" transform=\"scale(0.015625)\"/>\n      </defs>\n      <use xlink:href=\"#DejaVuSans-74\"/>\n      <use xlink:href=\"#DejaVuSans-72\" x=\"39.208984\"/>\n      <use xlink:href=\"#DejaVuSans-61\" x=\"80.322266\"/>\n      <use xlink:href=\"#DejaVuSans-76\" x=\"141.601562\"/>\n      <use xlink:href=\"#DejaVuSans-65\" x=\"200.78125\"/>\n      <use xlink:href=\"#DejaVuSans-6c\" x=\"262.304688\"/>\n      <use xlink:href=\"#DejaVuSans-65\" x=\"290.087891\"/>\n      <use xlink:href=\"#DejaVuSans-72\" x=\"351.611328\"/>\n      <use xlink:href=\"#DejaVuSans-73\" x=\"392.724609\"/>\n     </g>\n    </g>\n    <g id=\"text_16\">\n     <!-- 1e6 -->\n     <g transform=\"translate(43.78125 19.318125) scale(0.1 -0.1)\">\n      <defs>\n       <path id=\"DejaVuSans-36\" d=\"M 2113 2584 \nQ 1688 2584 1439 2293 \nQ 1191 2003 1191 1497 \nQ 1191 994 1439 701 \nQ 1688 409 2113 409 \nQ 2538 409 2786 701 \nQ 3034 994 3034 1497 \nQ 3034 2003 2786 2293 \nQ 2538 2584 2113 2584 \nz\nM 3366 4563 \nL 3366 3988 \nQ 3128 4100 2886 4159 \nQ 2644 4219 2406 4219 \nQ 1781 4219 1451 3797 \nQ 1122 3375 1075 2522 \nQ 1259 2794 1537 2939 \nQ 1816 3084 2150 3084 \nQ 2853 3084 3261 2657 \nQ 3669 2231 3669 1497 \nQ 3669 778 3244 343 \nQ 2819 -91 2113 -91 \nQ 1303 -91 875 529 \nQ 447 1150 447 2328 \nQ 447 3434 972 4092 \nQ 1497 4750 2381 4750 \nQ 2619 4750 2861 4703 \nQ 3103 4656 3366 4563 \nz\n\" transform=\"scale(0.015625)\"/>\n      </defs>\n      <use xlink:href=\"#DejaVuSans-31\"/>\n      <use xlink:href=\"#DejaVuSans-65\" x=\"63.623047\"/>\n      <use xlink:href=\"#DejaVuSans-36\" x=\"125.146484\"/>\n     </g>\n    </g>\n   </g>\n   <g id=\"line2d_14\">\n    <path d=\"M 60.013977 50.290577 \nL 60.903442 62.038596 \nL 61.792906 40.532048 \nL 62.682371 59.223683 \nL 63.571835 94.894489 \nL 64.4613 94.138807 \nL 65.350764 74.767235 \nL 66.240229 71.406308 \nL 67.129693 105.356261 \nL 68.019158 61.590308 \nL 68.908622 78.476695 \nL 69.798087 105.071026 \nL 70.687551 88.688191 \nL 71.577016 56.388643 \nL 72.46648 47.170479 \nL 73.355945 97.065042 \nL 74.245409 77.787489 \nL 75.134874 51.448465 \nL 76.024338 89.246389 \nL 76.913803 95.339069 \nL 77.803267 68.946989 \nL 78.692732 65.004204 \nL 79.582196 109.132725 \nL 80.471661 65.752735 \nL 81.361125 77.403557 \nL 82.25059 109.288187 \nL 83.140054 97.481903 \nL 84.029519 70.265282 \nL 84.918983 63.769689 \nL 85.808448 107.924164 \nL 86.697913 82.388846 \nL 87.587377 72.97929 \nL 88.476842 106.254603 \nL 89.366306 91.593062 \nL 90.255771 62.991938 \nL 91.145235 53.837777 \nL 92.0347 98.093687 \nL 92.924164 57.962684 \nL 93.813629 63.248481 \nL 94.703093 94.22647 \nL 95.592558 74.422677 \nL 96.482022 41.157692 \nL 97.371487 33.000307 \nL 98.260951 80.260403 \nL 99.150416 60.272898 \nL 100.03988 34.118468 \nL 100.929345 61.010658 \nL 101.818809 66.346156 \nL 102.708274 46.160903 \nL 103.597738 39.894927 \nL 104.487203 82.088957 \nL 105.376667 44.23215 \nL 106.266132 54.205818 \nL 107.155596 84.890275 \nL 108.045061 71.140495 \nL 108.934525 45.612151 \nL 109.82399 38.821966 \nL 110.713454 82.251305 \nL 111.602919 46.634174 \nL 113.381848 69.896887 \nL 114.271312 101.081806 \nL 115.160777 88.633546 \nL 116.050241 66.332649 \nL 116.939706 60.285257 \nL 117.82917 91.510608 \nL 118.718635 67.22852 \nL 119.608099 85.811924 \nL 120.497564 111.602461 \nL 122.276493 96.485657 \nL 123.165957 103.025831 \nL 124.055422 123.226093 \nL 124.944886 120.256424 \nL 125.834351 143.330216 \nL 126.723815 170.178443 \nL 128.502744 199.559614 \nL 129.392209 202.006397 \nL 130.281673 205.98211 \nL 131.171138 214.24658 \nL 132.060602 225.112588 \nL 132.950067 229.739635 \nL 134.728996 236.374799 \nL 135.61846 236.746814 \nL 136.507925 238.125491 \nL 137.397389 238.48082 \nL 138.286854 240.769227 \nL 139.176318 241.451812 \nL 140.955248 243.422852 \nL 141.844712 242.915945 \nL 142.734177 243.927728 \nL 143.623641 243.598706 \nL 144.513106 244.809827 \nL 145.40257 245.796803 \nL 146.292035 245.990932 \nL 147.181499 245.182371 \nL 148.070964 244.750944 \nL 148.960428 246.104461 \nL 149.849893 246.38122 \nL 150.739357 245.350633 \nL 151.628822 246.643943 \nL 153.407751 245.977337 \nL 154.297215 244.979767 \nL 155.18668 245.787446 \nL 156.076144 245.068312 \nL 157.855073 246.173849 \nL 158.744538 245.634544 \nL 160.523467 243.472024 \nL 161.412931 244.26699 \nL 162.302396 242.994338 \nL 164.081325 244.580033 \nL 164.970789 243.81058 \nL 165.860254 240.714935 \nL 166.749718 239.225819 \nL 167.639183 242.518859 \nL 168.528647 239.341378 \nL 169.418112 239.920675 \nL 170.307576 242.841966 \nL 171.197041 241.97611 \nL 172.086505 237.522005 \nL 172.97597 235.351981 \nL 173.865434 239.400879 \nL 174.754899 236.643437 \nL 175.644363 235.334237 \nL 176.533828 239.963668 \nL 177.423292 238.775235 \nL 178.312757 233.631924 \nL 179.202221 232.260132 \nL 180.091686 232.260132 \nL 180.98115 237.303334 \nL 181.870615 231.965276 \nL 182.760079 232.815505 \nL 183.649544 237.556081 \nL 184.539008 234.034571 \nL 185.428473 226.258646 \nL 186.317937 223.590455 \nL 187.207402 232.019745 \nL 188.096866 230.760776 \nL 188.986331 224.288225 \nL 189.875795 230.991012 \nL 190.76526 231.315266 \nL 191.654724 225.964937 \nL 192.544189 225.492018 \nL 193.433653 230.635771 \nL 194.323118 223.213144 \nL 195.212583 223.185424 \nL 196.102047 230.735086 \nL 196.991512 227.495721 \nL 197.880976 219.775942 \nL 198.770441 217.322362 \nL 199.659905 223.207053 \nL 200.54937 215.417268 \nL 201.438834 216.374317 \nL 202.328299 224.49895 \nL 203.217763 220.209664 \nL 204.107228 210.036217 \nL 204.996692 208.527061 \nL 205.886157 215.782396 \nL 206.775621 206.342824 \nL 207.665086 207.183078 \nL 208.55455 217.476941 \nL 209.444015 215.366595 \nL 210.333479 203.476532 \nL 211.222944 202.470664 \nL 212.112408 209.601877 \nL 213.001873 202.245725 \nL 213.891337 200.737541 \nL 214.780802 212.754197 \nL 215.670266 210.687992 \nL 216.559731 199.317637 \nL 217.449195 198.491331 \nL 218.33866 206.142957 \nL 219.228124 198.418411 \nL 220.117589 199.175417 \nL 221.007053 210.226461 \nL 222.785982 186.857988 \nL 223.675447 190.898853 \nL 224.564911 213.173707 \nL 225.454376 189.739288 \nL 226.34384 187.670699 \nL 227.233305 197.716493 \nL 228.122769 198.534235 \nL 229.012234 191.722952 \nL 229.901698 191.593091 \nL 230.791163 196.434395 \nL 231.680627 187.759862 \nL 232.570092 192.753009 \nL 233.459556 206.676348 \nL 234.349021 202.349102 \nL 235.238485 192.030962 \nL 236.12795 190.776143 \nL 237.017414 197.284536 \nL 237.906879 188.388684 \nL 238.796343 192.987394 \nL 239.685808 207.545647 \nL 240.575272 203.967637 \nL 241.464737 192.150053 \nL 242.354201 190.388415 \nL 243.243666 197.075047 \nL 244.13313 188.054719 \nL 245.022595 192.571327 \nL 245.912059 206.986389 \nL 246.801524 203.769094 \nL 247.690988 190.958707 \nL 248.580453 186.632079 \nL 249.469917 191.777686 \nL 250.359382 183.759342 \nL 251.248847 189.287998 \nL 252.138311 206.382109 \nL 253.027776 201.779339 \nL 253.91724 188.726181 \nL 254.806705 187.053442 \nL 255.696169 194.057177 \nL 256.585634 180.940721 \nL 257.475098 187.114002 \nL 258.364563 204.9856 \nL 259.254027 202.219859 \nL 260.143492 187.117533 \nL 261.032956 185.182159 \nL 261.922421 193.467198 \nL 262.811885 178.1899 \nL 263.70135 186.102484 \nL 264.590814 204.409481 \nL 265.480279 202.575718 \nL 266.369743 186.185379 \nL 267.259208 186.883855 \nL 268.148672 199.123596 \nL 269.038137 180.056415 \nL 269.927601 190.210265 \nL 270.817066 208.184356 \nL 271.70653 206.696211 \nL 272.595995 190.715936 \nL 273.485459 189.143395 \nL 274.374924 202.132903 \nL 275.264388 183.067752 \nL 276.153853 191.588324 \nL 277.043317 208.812737 \nL 277.932782 203.333783 \nL 278.822246 176.887851 \nL 279.711711 168.85653 \nL 280.601175 195.696723 \nL 281.49064 193.490593 \nL 282.380104 171.80201 \nL 283.269569 192.21538 \nL 284.159033 199.909205 \nL 285.048498 187.715192 \nL 285.937962 189.807264 \nL 286.827427 200.193468 \nL 287.716891 182.877508 \nL 288.606356 189.965728 \nL 289.49582 208.255245 \nL 290.385285 203.358854 \nL 291.274749 185.093702 \nL 292.164214 182.668813 \nL 293.053678 197.997755 \nL 293.943143 179.512431 \nL 294.832607 186.401137 \nL 295.722072 205.840067 \nL 296.611536 200.63284 \nL 297.501001 181.423881 \nL 298.390465 181.422733 \nL 299.27993 196.163727 \nL 300.169394 177.299238 \nL 301.058859 183.950205 \nL 301.948323 204.167416 \nL 302.837788 198.397577 \nL 303.727252 178.811483 \nL 304.616717 178.698661 \nL 305.506182 194.547222 \nL 306.395646 174.838595 \nL 307.285111 182.260604 \nL 308.174575 202.218358 \nL 309.06404 195.354283 \nL 309.953504 171.660143 \nL 310.842969 168.86783 \nL 311.732433 186.40714 \nL 312.621898 167.482797 \nL 313.511362 169.759905 \nL 314.400827 194.261811 \nL 315.290291 190.991371 \nL 316.179756 170.502874 \nL 317.06922 168.470479 \nL 317.958685 184.740845 \nL 318.848149 163.309688 \nL 319.737614 173.062391 \nL 320.627078 195.887056 \nL 321.516543 193.091565 \nL 322.406007 171.883404 \nL 323.295472 169.76017 \nL 324.184936 187.694358 \nL 325.074401 167.525966 \nL 325.963865 175.030693 \nL 326.85333 197.12007 \nL 327.742794 195.492177 \nL 328.632259 177.246446 \nL 329.521723 175.562407 \nL 330.411188 199.772105 \nL 331.300652 171.732798 \nL 332.190117 179.673984 \nL 333.079581 203.537004 \nL 333.969046 198.178024 \nL 334.85851 177.823006 \nL 335.747975 175.352388 \nL 336.637439 193.462254 \nL 337.526904 168.472775 \nL 338.416368 180.516004 \nL 339.305833 201.714365 \nL 340.195297 194.814536 \nL 341.084762 177.860614 \nL 341.974226 176.545234 \nL 342.863691 192.808184 \nL 343.753155 168.006918 \nL 344.64262 176.405927 \nL 345.532084 200.388215 \nL 346.421549 192.298364 \nL 347.311013 174.271746 \nL 348.200478 164.339834 \nL 349.089942 167.470879 \nL 349.979407 161.859327 \nL 350.868871 173.386998 \nL 351.758336 173.851707 \nL 352.6478 159.825962 \nL 353.537265 204.854768 \nL 354.426729 181.946237 \nL 355.316194 169.213448 \nL 356.205658 150.54556 \nL 357.984587 185.487698 \nL 358.874052 198.546771 \nL 359.763517 189.21605 \nL 360.652981 187.812301 \nL 361.542446 198.80508 \nL 362.43191 180.468597 \nL 363.321375 192.262081 \nL 364.210839 210.09766 \nL 365.100304 204.548434 \nL 365.989768 187.780873 \nL 366.879233 184.851549 \nL 367.768697 195.896237 \nL 368.658162 178.007601 \nL 369.547626 187.944722 \nL 370.437091 205.638522 \nL 371.326555 197.698395 \nL 373.105484 160.198506 \nL 373.994949 159.596786 \nL 374.884413 160.386367 \nL 375.773878 170.082835 \nL 376.663342 166.782467 \nL 377.552807 149.218527 \nL 378.442271 179.640261 \nL 379.331736 199.949284 \nL 380.2212 154.722818 \nL 381.110665 140.966417 \nL 382.000129 156.225529 \nL 382.889594 164.383003 \nL 383.779058 151.639797 \nL 384.668523 177.17847 \nL 384.668523 177.17847 \n\" clip-path=\"url(#pd6e3d2542f)\" style=\"fill: none; stroke: #1f77b4; stroke-opacity: 0.8; stroke-width: 1.5; stroke-linecap: square\"/>\n   </g>\n   <g id=\"line2d_15\">\n    <path d=\"M 60.013977 50.290577 \nL 60.903442 56.164587 \nL 61.792906 50.953741 \nL 62.682371 53.021226 \nL 63.571835 61.395879 \nL 64.4613 66.853034 \nL 65.350764 67.983634 \nL 66.240229 71.000167 \nL 67.129693 77.188404 \nL 68.908622 82.947157 \nL 69.798087 84.400949 \nL 70.687551 83.622289 \nL 71.577016 80.996776 \nL 72.46648 77.534515 \nL 73.355945 76.350055 \nL 74.245409 78.663938 \nL 75.134874 74.802762 \nL 76.024338 72.5421 \nL 76.913803 73.492225 \nL 77.803267 75.286274 \nL 78.692732 77.83395 \nL 79.582196 79.557904 \nL 80.471661 77.838654 \nL 81.361125 81.546524 \nL 82.25059 84.409638 \nL 83.140054 84.715757 \nL 84.029519 84.904084 \nL 85.808448 84.555074 \nL 86.697913 86.931661 \nL 87.587377 86.299623 \nL 88.476842 85.866254 \nL 89.366306 85.024991 \nL 90.255771 83.985942 \nL 92.0347 81.162743 \nL 92.924164 77.673292 \nL 93.813629 76.283176 \nL 94.703093 74.564871 \nL 95.592558 72.111959 \nL 97.371487 66.016 \nL 98.260951 63.468388 \nL 99.150416 63.798418 \nL 100.03988 59.636988 \nL 100.929345 54.891872 \nL 101.818809 53.738083 \nL 102.708274 54.452827 \nL 103.597738 55.437773 \nL 104.487203 55.698995 \nL 105.376667 53.40746 \nL 106.266132 56.277081 \nL 107.155596 59.688455 \nL 108.045061 60.373361 \nL 110.713454 60.16488 \nL 111.602919 60.508026 \nL 113.381848 59.059496 \nL 114.271312 64.049715 \nL 115.160777 71.219947 \nL 116.050241 75.805061 \nL 116.939706 72.144053 \nL 117.82917 79.623459 \nL 118.718635 77.852753 \nL 119.608099 80.12633 \nL 120.497564 81.629281 \nL 121.387028 83.832699 \nL 122.276493 88.140272 \nL 123.165957 94.246068 \nL 124.055422 98.776852 \nL 125.834351 114.569166 \nL 126.723815 122.937163 \nL 127.61328 134.578274 \nL 129.392209 163.443206 \nL 130.281673 175.265494 \nL 131.171138 188.69266 \nL 132.060602 200.375855 \nL 132.950067 208.884597 \nL 133.839531 215.699816 \nL 135.61846 225.922045 \nL 136.507925 230.513956 \nL 137.397389 233.975991 \nL 138.286854 236.212653 \nL 139.176318 237.885822 \nL 140.065783 239.187467 \nL 141.844712 241.075636 \nL 143.623641 242.635654 \nL 146.292035 244.351828 \nL 148.960428 245.176292 \nL 149.849893 245.573794 \nL 154.297215 245.970628 \nL 155.18668 245.92534 \nL 156.076144 245.737781 \nL 157.855073 245.706442 \nL 159.634002 245.39461 \nL 162.302396 244.665728 \nL 164.970789 243.918812 \nL 166.749718 242.769059 \nL 167.639183 242.519326 \nL 169.418112 241.444611 \nL 171.197041 240.934249 \nL 174.754899 239.093865 \nL 175.644363 238.438659 \nL 177.423292 237.570206 \nL 179.202221 236.572787 \nL 180.091686 235.552681 \nL 180.98115 235.646952 \nL 181.870615 235.165672 \nL 182.760079 234.144506 \nL 183.649544 233.970341 \nL 184.539008 234.027862 \nL 185.428473 233.170506 \nL 186.317937 231.931981 \nL 187.207402 231.177183 \nL 188.096866 231.005111 \nL 188.986331 229.786928 \nL 189.875795 228.849061 \nL 190.76526 228.460589 \nL 191.654724 228.418631 \nL 192.544189 228.690282 \nL 193.433653 228.492572 \nL 194.323118 227.414339 \nL 195.212583 227.256796 \nL 196.102047 227.220235 \nL 196.991512 226.674586 \nL 197.880976 225.790444 \nL 200.54937 222.448408 \nL 203.217763 219.543651 \nL 204.996692 216.89579 \nL 205.886157 215.835125 \nL 207.665086 213.225742 \nL 208.55455 212.222597 \nL 209.444015 211.53073 \nL 212.112408 208.845502 \nL 213.001873 208.260202 \nL 213.891337 207.339411 \nL 216.559731 205.402233 \nL 219.228124 203.792867 \nL 220.117589 203.569706 \nL 221.007053 203.208601 \nL 222.785982 199.767842 \nL 223.675447 198.683203 \nL 224.564911 199.687595 \nL 225.454376 198.447721 \nL 227.233305 195.017051 \nL 228.122769 194.941609 \nL 229.012234 195.636604 \nL 229.901698 195.735781 \nL 230.791163 193.34445 \nL 231.680627 193.061675 \nL 232.570092 193.78772 \nL 233.459556 195.067699 \nL 234.349021 195.61268 \nL 235.238485 195.656681 \nL 236.12795 195.539974 \nL 237.906879 195.751255 \nL 239.685808 195.908924 \nL 240.575272 196.140143 \nL 242.354201 196.101766 \nL 246.801524 195.856435 \nL 247.690988 195.686243 \nL 248.580453 195.149623 \nL 250.359382 193.779232 \nL 251.248847 193.310185 \nL 252.138311 193.223859 \nL 253.91724 192.620676 \nL 254.806705 192.680871 \nL 255.696169 193.006513 \nL 257.475098 192.293282 \nL 258.364563 192.09378 \nL 259.254027 192.156712 \nL 263.70135 191.037819 \nL 264.590814 190.955516 \nL 265.480279 191.006353 \nL 266.369743 190.873188 \nL 267.259208 191.116288 \nL 268.148672 191.924345 \nL 269.038137 192.19099 \nL 272.595995 194.552948 \nL 274.374924 195.30564 \nL 275.264388 195.735831 \nL 277.043317 196.022465 \nL 277.932782 195.542118 \nL 278.822246 193.566678 \nL 279.711711 190.668554 \nL 280.601175 189.7491 \nL 281.49064 191.238077 \nL 282.380104 188.411461 \nL 283.269569 186.04041 \nL 284.159033 185.551184 \nL 285.048498 187.097948 \nL 285.937962 190.09091 \nL 286.827427 190.733302 \nL 287.716891 189.217147 \nL 289.49582 194.103373 \nL 290.385285 194.59618 \nL 291.274749 194.221681 \nL 292.164214 193.201903 \nL 293.053678 192.888229 \nL 295.722072 191.553251 \nL 296.611536 191.163821 \nL 297.501001 190.63956 \nL 299.27993 190.199545 \nL 309.06404 186.675601 \nL 309.953504 185.653981 \nL 310.842969 184.249576 \nL 312.621898 182.035879 \nL 313.511362 180.250065 \nL 314.400827 179.113415 \nL 315.290291 178.490142 \nL 317.958685 178.030012 \nL 318.848149 177.433853 \nL 319.737614 177.905637 \nL 323.295472 178.819303 \nL 324.184936 179.241233 \nL 325.074401 179.843558 \nL 327.742794 180.643834 \nL 329.521723 182.238874 \nL 330.411188 183.964266 \nL 332.190117 185.22857 \nL 333.079581 186.145275 \nL 333.969046 186.528967 \nL 334.85851 186.611333 \nL 335.747975 186.58133 \nL 336.637439 185.679923 \nL 337.526904 185.214205 \nL 338.416368 185.334494 \nL 339.305833 185.074116 \nL 340.195297 184.593618 \nL 341.084762 184.598991 \nL 341.974226 184.769397 \nL 343.753155 184.609408 \nL 344.64262 184.022254 \nL 345.532084 183.832804 \nL 346.421549 183.473351 \nL 347.311013 182.960656 \nL 348.200478 181.217027 \nL 349.089942 177.597412 \nL 349.979407 176.719185 \nL 350.868871 176.287909 \nL 351.758336 172.496979 \nL 352.6478 167.858065 \nL 353.537265 172.227068 \nL 354.426729 174.742268 \nL 355.316194 174.991207 \nL 356.205658 173.374954 \nL 357.095123 172.560781 \nL 357.984587 174.223065 \nL 358.874052 179.75461 \nL 359.763517 177.520507 \nL 360.652981 178.358516 \nL 362.43191 186.860612 \nL 364.210839 193.886934 \nL 365.100304 194.744315 \nL 365.989768 194.539289 \nL 369.547626 192.732439 \nL 370.437091 192.09542 \nL 371.326555 191.116843 \nL 372.21602 189.948677 \nL 373.105484 186.426814 \nL 373.994949 181.241178 \nL 375.773878 176.172161 \nL 376.663342 170.621296 \nL 377.552807 163.6956 \nL 378.442271 163.700821 \nL 379.331736 169.379504 \nL 380.2212 168.683223 \nL 381.110665 165.908944 \nL 382.000129 163.929329 \nL 382.889594 163.586549 \nL 383.779058 163.932444 \nL 384.668523 163.58076 \nL 384.668523 163.58076 \n\" clip-path=\"url(#pd6e3d2542f)\" style=\"fill: none; stroke: #ff7f0e; stroke-opacity: 0.8; stroke-width: 1.5; stroke-linecap: square\"/>\n   </g>\n   <g id=\"line2d_16\">\n    <path d=\"M 60.013977 50.290577 \nL 60.903442 56.164587 \nL 61.792906 50.953741 \nL 62.682371 53.021226 \nL 63.571835 61.395879 \nL 64.4613 66.853034 \nL 65.350764 67.983634 \nL 66.240229 68.411468 \nL 67.129693 72.516445 \nL 68.019158 71.423831 \nL 68.908622 72.065001 \nL 69.798087 74.815503 \nL 70.687551 75.882633 \nL 71.577016 74.490205 \nL 72.46648 72.66889 \nL 73.355945 74.193649 \nL 74.245409 74.405052 \nL 75.134874 73.129686 \nL 76.024338 73.977933 \nL 76.913803 75.04599 \nL 77.803267 74.755561 \nL 78.692732 74.312318 \nL 79.582196 75.826249 \nL 80.471661 75.406519 \nL 81.361125 75.4864 \nL 82.25059 76.786469 \nL 83.140054 77.552967 \nL 84.029519 77.292692 \nL 84.918983 76.826382 \nL 85.808448 77.862974 \nL 86.697913 78.00897 \nL 87.587377 77.851793 \nL 88.476842 78.712484 \nL 89.366306 79.091325 \nL 90.255771 78.631342 \nL 91.145235 77.942632 \nL 92.0347 78.487255 \nL 92.924164 77.947135 \nL 93.813629 77.570246 \nL 94.703093 77.986652 \nL 95.592558 77.899726 \nL 97.371487 76.001087 \nL 98.260951 76.09789 \nL 99.150416 75.746223 \nL 100.03988 74.841272 \nL 100.929345 74.547004 \nL 101.818809 74.376153 \nL 103.597738 73.122223 \nL 104.487203 73.298042 \nL 105.376667 72.739082 \nL 106.266132 72.389398 \nL 107.155596 72.620896 \nL 108.045061 72.593979 \nL 109.82399 71.528122 \nL 110.713454 71.713005 \nL 111.602919 71.28794 \nL 113.381848 71.264756 \nL 114.271312 71.75356 \nL 115.160777 72.025818 \nL 116.939706 71.753416 \nL 117.82917 72.057372 \nL 118.718635 71.984208 \nL 119.608099 72.190592 \nL 121.387028 73.223617 \nL 123.165957 73.971001 \nL 124.944886 75.279775 \nL 125.834351 76.199376 \nL 127.61328 78.874704 \nL 132.060602 86.930676 \nL 137.397389 97.173611 \nL 140.955248 103.539685 \nL 144.513106 109.445932 \nL 148.070964 114.940248 \nL 151.628822 120.03461 \nL 155.18668 124.7352 \nL 158.744538 129.091392 \nL 162.302396 133.081694 \nL 165.860254 136.783959 \nL 171.197041 141.784927 \nL 175.644363 145.441296 \nL 178.312757 147.516837 \nL 184.539008 151.842388 \nL 191.654724 155.96705 \nL 197.880976 159.120364 \nL 204.107228 161.671125 \nL 212.112408 164.192692 \nL 221.896518 166.561595 \nL 223.675447 166.804169 \nL 224.564911 167.054815 \nL 232.570092 168.242602 \nL 235.238485 168.73158 \nL 239.685808 169.391602 \nL 241.464737 169.672654 \nL 245.912059 170.278934 \nL 247.690988 170.535664 \nL 252.138311 171.02252 \nL 253.91724 171.244816 \nL 258.364563 171.683949 \nL 260.143492 171.888258 \nL 264.590814 172.270475 \nL 266.369743 172.46108 \nL 269.927601 172.742562 \nL 272.595995 173.108122 \nL 276.153853 173.41059 \nL 277.932782 173.677224 \nL 282.380104 173.830615 \nL 299.27993 175.126798 \nL 301.058859 175.167373 \nL 302.837788 175.358692 \nL 307.285111 175.475107 \nL 309.06404 175.641615 \nL 314.400827 175.657664 \nL 316.179756 175.693007 \nL 319.737614 175.647841 \nL 322.406007 175.762819 \nL 325.963865 175.752651 \nL 328.632259 175.893713 \nL 332.190117 175.969421 \nL 334.85851 176.136507 \nL 338.416368 176.178863 \nL 341.084762 176.323967 \nL 345.532084 176.425321 \nL 347.311013 176.467797 \nL 352.6478 176.291286 \nL 354.426729 176.394665 \nL 358.874052 176.363438 \nL 370.437091 176.966891 \nL 372.21602 177.033467 \nL 378.442271 176.772773 \nL 379.331736 176.837332 \nL 384.668523 176.519776 \nL 384.668523 176.519776 \n\" clip-path=\"url(#pd6e3d2542f)\" style=\"fill: none; stroke: #2ca02c; stroke-opacity: 0.8; stroke-width: 1.5; stroke-linecap: square\"/>\n   </g>\n   <g id=\"patch_3\">\n    <path d=\"M 43.78125 257.326125 \nL 43.78125 22.318125 \n\" style=\"fill: none; stroke: #000000; stroke-width: 0.8; stroke-linejoin: miter; stroke-linecap: square\"/>\n   </g>\n   <g id=\"patch_4\">\n    <path d=\"M 400.90125 257.326125 \nL 400.90125 22.318125 \n\" style=\"fill: none; stroke: #000000; stroke-width: 0.8; stroke-linejoin: miter; stroke-linecap: square\"/>\n   </g>\n   <g id=\"patch_5\">\n    <path d=\"M 43.78125 257.326125 \nL 400.90125 257.326125 \n\" style=\"fill: none; stroke: #000000; stroke-width: 0.8; stroke-linejoin: miter; stroke-linecap: square\"/>\n   </g>\n   <g id=\"patch_6\">\n    <path d=\"M 43.78125 22.318125 \nL 400.90125 22.318125 \n\" style=\"fill: none; stroke: #000000; stroke-width: 0.8; stroke-linejoin: miter; stroke-linecap: square\"/>\n   </g>\n   <g id=\"text_17\">\n    <!-- 2020 TSA Traveler Throughput -->\n    <g transform=\"translate(130.820625 16.318125) scale(0.12 -0.12)\">\n     <defs>\n      <path id=\"DejaVuSans-20\" transform=\"scale(0.015625)\"/>\n      <path id=\"DejaVuSans-54\" d=\"M -19 4666 \nL 3928 4666 \nL 3928 4134 \nL 2272 4134 \nL 2272 0 \nL 1638 0 \nL 1638 4134 \nL -19 4134 \nL -19 4666 \nz\n\" transform=\"scale(0.015625)\"/>\n      <path id=\"DejaVuSans-53\" d=\"M 3425 4513 \nL 3425 3897 \nQ 3066 4069 2747 4153 \nQ 2428 4238 2131 4238 \nQ 1616 4238 1336 4038 \nQ 1056 3838 1056 3469 \nQ 1056 3159 1242 3001 \nQ 1428 2844 1947 2747 \nL 2328 2669 \nQ 3034 2534 3370 2195 \nQ 3706 1856 3706 1288 \nQ 3706 609 3251 259 \nQ 2797 -91 1919 -91 \nQ 1588 -91 1214 -16 \nQ 841 59 441 206 \nL 441 856 \nQ 825 641 1194 531 \nQ 1563 422 1919 422 \nQ 2459 422 2753 634 \nQ 3047 847 3047 1241 \nQ 3047 1584 2836 1778 \nQ 2625 1972 2144 2069 \nL 1759 2144 \nQ 1053 2284 737 2584 \nQ 422 2884 422 3419 \nQ 422 4038 858 4394 \nQ 1294 4750 2059 4750 \nQ 2388 4750 2728 4690 \nQ 3069 4631 3425 4513 \nz\n\" transform=\"scale(0.015625)\"/>\n      <path id=\"DejaVuSans-41\" d=\"M 2188 4044 \nL 1331 1722 \nL 3047 1722 \nL 2188 4044 \nz\nM 1831 4666 \nL 2547 4666 \nL 4325 0 \nL 3669 0 \nL 3244 1197 \nL 1141 1197 \nL 716 0 \nL 50 0 \nL 1831 4666 \nz\n\" transform=\"scale(0.015625)\"/>\n      <path id=\"DejaVuSans-68\" d=\"M 3513 2113 \nL 3513 0 \nL 2938 0 \nL 2938 2094 \nQ 2938 2591 2744 2837 \nQ 2550 3084 2163 3084 \nQ 1697 3084 1428 2787 \nQ 1159 2491 1159 1978 \nL 1159 0 \nL 581 0 \nL 581 4863 \nL 1159 4863 \nL 1159 2956 \nQ 1366 3272 1645 3428 \nQ 1925 3584 2291 3584 \nQ 2894 3584 3203 3211 \nQ 3513 2838 3513 2113 \nz\n\" transform=\"scale(0.015625)\"/>\n      <path id=\"DejaVuSans-6f\" d=\"M 1959 3097 \nQ 1497 3097 1228 2736 \nQ 959 2375 959 1747 \nQ 959 1119 1226 758 \nQ 1494 397 1959 397 \nQ 2419 397 2687 759 \nQ 2956 1122 2956 1747 \nQ 2956 2369 2687 2733 \nQ 2419 3097 1959 3097 \nz\nM 1959 3584 \nQ 2709 3584 3137 3096 \nQ 3566 2609 3566 1747 \nQ 3566 888 3137 398 \nQ 2709 -91 1959 -91 \nQ 1206 -91 779 398 \nQ 353 888 353 1747 \nQ 353 2609 779 3096 \nQ 1206 3584 1959 3584 \nz\n\" transform=\"scale(0.015625)\"/>\n      <path id=\"DejaVuSans-75\" d=\"M 544 1381 \nL 544 3500 \nL 1119 3500 \nL 1119 1403 \nQ 1119 906 1312 657 \nQ 1506 409 1894 409 \nQ 2359 409 2629 706 \nQ 2900 1003 2900 1516 \nL 2900 3500 \nL 3475 3500 \nL 3475 0 \nL 2900 0 \nL 2900 538 \nQ 2691 219 2414 64 \nQ 2138 -91 1772 -91 \nQ 1169 -91 856 284 \nQ 544 659 544 1381 \nz\nM 1991 3584 \nL 1991 3584 \nz\n\" transform=\"scale(0.015625)\"/>\n      <path id=\"DejaVuSans-67\" d=\"M 2906 1791 \nQ 2906 2416 2648 2759 \nQ 2391 3103 1925 3103 \nQ 1463 3103 1205 2759 \nQ 947 2416 947 1791 \nQ 947 1169 1205 825 \nQ 1463 481 1925 481 \nQ 2391 481 2648 825 \nQ 2906 1169 2906 1791 \nz\nM 3481 434 \nQ 3481 -459 3084 -895 \nQ 2688 -1331 1869 -1331 \nQ 1566 -1331 1297 -1286 \nQ 1028 -1241 775 -1147 \nL 775 -588 \nQ 1028 -725 1275 -790 \nQ 1522 -856 1778 -856 \nQ 2344 -856 2625 -561 \nQ 2906 -266 2906 331 \nL 2906 616 \nQ 2728 306 2450 153 \nQ 2172 0 1784 0 \nQ 1141 0 747 490 \nQ 353 981 353 1791 \nQ 353 2603 747 3093 \nQ 1141 3584 1784 3584 \nQ 2172 3584 2450 3431 \nQ 2728 3278 2906 2969 \nL 2906 3500 \nL 3481 3500 \nL 3481 434 \nz\n\" transform=\"scale(0.015625)\"/>\n      <path id=\"DejaVuSans-70\" d=\"M 1159 525 \nL 1159 -1331 \nL 581 -1331 \nL 581 3500 \nL 1159 3500 \nL 1159 2969 \nQ 1341 3281 1617 3432 \nQ 1894 3584 2278 3584 \nQ 2916 3584 3314 3078 \nQ 3713 2572 3713 1747 \nQ 3713 922 3314 415 \nQ 2916 -91 2278 -91 \nQ 1894 -91 1617 61 \nQ 1341 213 1159 525 \nz\nM 3116 1747 \nQ 3116 2381 2855 2742 \nQ 2594 3103 2138 3103 \nQ 1681 3103 1420 2742 \nQ 1159 2381 1159 1747 \nQ 1159 1113 1420 752 \nQ 1681 391 2138 391 \nQ 2594 391 2855 752 \nQ 3116 1113 3116 1747 \nz\n\" transform=\"scale(0.015625)\"/>\n     </defs>\n     <use xlink:href=\"#DejaVuSans-32\"/>\n     <use xlink:href=\"#DejaVuSans-30\" x=\"63.623047\"/>\n     <use xlink:href=\"#DejaVuSans-32\" x=\"127.246094\"/>\n     <use xlink:href=\"#DejaVuSans-30\" x=\"190.869141\"/>\n     <use xlink:href=\"#DejaVuSans-20\" x=\"254.492188\"/>\n     <use xlink:href=\"#DejaVuSans-54\" x=\"286.279297\"/>\n     <use xlink:href=\"#DejaVuSans-53\" x=\"347.363281\"/>\n     <use xlink:href=\"#DejaVuSans-41\" x=\"412.714844\"/>\n     <use xlink:href=\"#DejaVuSans-20\" x=\"481.123047\"/>\n     <use xlink:href=\"#DejaVuSans-54\" x=\"512.910156\"/>\n     <use xlink:href=\"#DejaVuSans-72\" x=\"559.244141\"/>\n     <use xlink:href=\"#DejaVuSans-61\" x=\"600.357422\"/>\n     <use xlink:href=\"#DejaVuSans-76\" x=\"661.636719\"/>\n     <use xlink:href=\"#DejaVuSans-65\" x=\"720.816406\"/>\n     <use xlink:href=\"#DejaVuSans-6c\" x=\"782.339844\"/>\n     <use xlink:href=\"#DejaVuSans-65\" x=\"810.123047\"/>\n     <use xlink:href=\"#DejaVuSans-72\" x=\"871.646484\"/>\n     <use xlink:href=\"#DejaVuSans-20\" x=\"912.759766\"/>\n     <use xlink:href=\"#DejaVuSans-54\" x=\"944.546875\"/>\n     <use xlink:href=\"#DejaVuSans-68\" x=\"1005.630859\"/>\n     <use xlink:href=\"#DejaVuSans-72\" x=\"1069.009766\"/>\n     <use xlink:href=\"#DejaVuSans-6f\" x=\"1107.873047\"/>\n     <use xlink:href=\"#DejaVuSans-75\" x=\"1169.054688\"/>\n     <use xlink:href=\"#DejaVuSans-67\" x=\"1232.433594\"/>\n     <use xlink:href=\"#DejaVuSans-68\" x=\"1295.910156\"/>\n     <use xlink:href=\"#DejaVuSans-70\" x=\"1359.289062\"/>\n     <use xlink:href=\"#DejaVuSans-75\" x=\"1422.765625\"/>\n     <use xlink:href=\"#DejaVuSans-74\" x=\"1486.144531\"/>\n    </g>\n   </g>\n   <g id=\"legend_1\">\n    <g id=\"patch_7\">\n     <path d=\"M 310.448125 74.3525 \nL 393.90125 74.3525 \nQ 395.90125 74.3525 395.90125 72.3525 \nL 395.90125 29.318125 \nQ 395.90125 27.318125 393.90125 27.318125 \nL 310.448125 27.318125 \nQ 308.448125 27.318125 308.448125 29.318125 \nL 308.448125 72.3525 \nQ 308.448125 74.3525 310.448125 74.3525 \nz\n\" style=\"fill: #ffffff; opacity: 0.8; stroke: #cccccc; stroke-linejoin: miter\"/>\n    </g>\n    <g id=\"line2d_17\">\n     <path d=\"M 312.448125 35.416562 \nL 322.448125 35.416562 \nL 332.448125 35.416562 \n\" style=\"fill: none; stroke: #1f77b4; stroke-opacity: 0.8; stroke-width: 1.5; stroke-linecap: square\"/>\n    </g>\n    <g id=\"text_18\">\n     <!-- travelers -->\n     <g transform=\"translate(340.448125 38.916562) scale(0.1 -0.1)\">\n      <use xlink:href=\"#DejaVuSans-74\"/>\n      <use xlink:href=\"#DejaVuSans-72\" x=\"39.208984\"/>\n      <use xlink:href=\"#DejaVuSans-61\" x=\"80.322266\"/>\n      <use xlink:href=\"#DejaVuSans-76\" x=\"141.601562\"/>\n      <use xlink:href=\"#DejaVuSans-65\" x=\"200.78125\"/>\n      <use xlink:href=\"#DejaVuSans-6c\" x=\"262.304688\"/>\n      <use xlink:href=\"#DejaVuSans-65\" x=\"290.087891\"/>\n      <use xlink:href=\"#DejaVuSans-72\" x=\"351.611328\"/>\n      <use xlink:href=\"#DejaVuSans-73\" x=\"392.724609\"/>\n     </g>\n    </g>\n    <g id=\"line2d_18\">\n     <path d=\"M 312.448125 50.094688 \nL 322.448125 50.094688 \nL 332.448125 50.094688 \n\" style=\"fill: none; stroke: #ff7f0e; stroke-opacity: 0.8; stroke-width: 1.5; stroke-linecap: square\"/>\n    </g>\n    <g id=\"text_19\">\n     <!-- 7D MA -->\n     <g transform=\"translate(340.448125 53.594688) scale(0.1 -0.1)\">\n      <defs>\n       <path id=\"DejaVuSans-44\" d=\"M 1259 4147 \nL 1259 519 \nL 2022 519 \nQ 2988 519 3436 956 \nQ 3884 1394 3884 2338 \nQ 3884 3275 3436 3711 \nQ 2988 4147 2022 4147 \nL 1259 4147 \nz\nM 628 4666 \nL 1925 4666 \nQ 3281 4666 3915 4102 \nQ 4550 3538 4550 2338 \nQ 4550 1131 3912 565 \nQ 3275 0 1925 0 \nL 628 0 \nL 628 4666 \nz\n\" transform=\"scale(0.015625)\"/>\n       <path id=\"DejaVuSans-4d\" d=\"M 628 4666 \nL 1569 4666 \nL 2759 1491 \nL 3956 4666 \nL 4897 4666 \nL 4897 0 \nL 4281 0 \nL 4281 4097 \nL 3078 897 \nL 2444 897 \nL 1241 4097 \nL 1241 0 \nL 628 0 \nL 628 4666 \nz\n\" transform=\"scale(0.015625)\"/>\n      </defs>\n      <use xlink:href=\"#DejaVuSans-37\"/>\n      <use xlink:href=\"#DejaVuSans-44\" x=\"63.623047\"/>\n      <use xlink:href=\"#DejaVuSans-20\" x=\"140.625\"/>\n      <use xlink:href=\"#DejaVuSans-4d\" x=\"172.412109\"/>\n      <use xlink:href=\"#DejaVuSans-41\" x=\"258.691406\"/>\n     </g>\n    </g>\n    <g id=\"line2d_19\">\n     <path d=\"M 312.448125 64.772812 \nL 322.448125 64.772812 \nL 332.448125 64.772812 \n\" style=\"fill: none; stroke: #2ca02c; stroke-opacity: 0.8; stroke-width: 1.5; stroke-linecap: square\"/>\n    </g>\n    <g id=\"text_20\">\n     <!-- YTD mean -->\n     <g transform=\"translate(340.448125 68.272812) scale(0.1 -0.1)\">\n      <defs>\n       <path id=\"DejaVuSans-59\" d=\"M -13 4666 \nL 666 4666 \nL 1959 2747 \nL 3244 4666 \nL 3922 4666 \nL 2272 2222 \nL 2272 0 \nL 1638 0 \nL 1638 2222 \nL -13 4666 \nz\n\" transform=\"scale(0.015625)\"/>\n       <path id=\"DejaVuSans-6d\" d=\"M 3328 2828 \nQ 3544 3216 3844 3400 \nQ 4144 3584 4550 3584 \nQ 5097 3584 5394 3201 \nQ 5691 2819 5691 2113 \nL 5691 0 \nL 5113 0 \nL 5113 2094 \nQ 5113 2597 4934 2840 \nQ 4756 3084 4391 3084 \nQ 3944 3084 3684 2787 \nQ 3425 2491 3425 1978 \nL 3425 0 \nL 2847 0 \nL 2847 2094 \nQ 2847 2600 2669 2842 \nQ 2491 3084 2119 3084 \nQ 1678 3084 1418 2786 \nQ 1159 2488 1159 1978 \nL 1159 0 \nL 581 0 \nL 581 3500 \nL 1159 3500 \nL 1159 2956 \nQ 1356 3278 1631 3431 \nQ 1906 3584 2284 3584 \nQ 2666 3584 2933 3390 \nQ 3200 3197 3328 2828 \nz\n\" transform=\"scale(0.015625)\"/>\n       <path id=\"DejaVuSans-6e\" d=\"M 3513 2113 \nL 3513 0 \nL 2938 0 \nL 2938 2094 \nQ 2938 2591 2744 2837 \nQ 2550 3084 2163 3084 \nQ 1697 3084 1428 2787 \nQ 1159 2491 1159 1978 \nL 1159 0 \nL 581 0 \nL 581 3500 \nL 1159 3500 \nL 1159 2956 \nQ 1366 3272 1645 3428 \nQ 1925 3584 2291 3584 \nQ 2894 3584 3203 3211 \nQ 3513 2838 3513 2113 \nz\n\" transform=\"scale(0.015625)\"/>\n      </defs>\n      <use xlink:href=\"#DejaVuSans-59\"/>\n      <use xlink:href=\"#DejaVuSans-54\" x=\"61.083984\"/>\n      <use xlink:href=\"#DejaVuSans-44\" x=\"122.167969\"/>\n      <use xlink:href=\"#DejaVuSans-20\" x=\"199.169922\"/>\n      <use xlink:href=\"#DejaVuSans-6d\" x=\"230.957031\"/>\n      <use xlink:href=\"#DejaVuSans-65\" x=\"328.369141\"/>\n      <use xlink:href=\"#DejaVuSans-61\" x=\"389.892578\"/>\n      <use xlink:href=\"#DejaVuSans-6e\" x=\"451.171875\"/>\n     </g>\n    </g>\n   </g>\n  </g>\n </g>\n <defs>\n  <clipPath id=\"pd6e3d2542f\">\n   <rect x=\"43.78125\" y=\"22.318125\" width=\"357.12\" height=\"235.008\"/>\n  </clipPath>\n </defs>\n</svg>\n",
      "text/plain": [
       "<Figure size 640x480 with 1 Axes>"
      ]
     },
     "metadata": {},
     "output_type": "display_data"
    }
   ],
   "source": [
    "_ = tsa_melted_holiday_travel.loc['2020'].assign(\n",
    "    **{\n",
    "        '7D MA': lambda x: x.rolling('7D').travelers.mean(),\n",
    "        'YTD mean': lambda x: x.expanding().travelers.mean()\n",
    "      }\n",
    ").plot(title='2020 TSA Traveler Throughput', ylabel='travelers', alpha=0.8)"
   ]
  },
  {
   "cell_type": "markdown",
   "id": "4fe90855-8228-4cf6-9c8b-375b416071b7",
   "metadata": {
    "slideshow": {
     "slide_type": "subslide"
    },
    "tags": []
   },
   "source": [
    "Other types of windows:\n",
    "- [exponentially weighted moving](https://pandas.pydata.org/pandas-docs/stable/reference/api/pandas.DataFrame.ewm.html): use the `ewm()` method\n",
    "- [custom](https://pandas.pydata.org/docs/user_guide/window.html#window-custom-rolling-window): create a subclass of `pandas.api.indexers.BaseIndexer` or use a pre-built one in `pandas.api.indexers`"
   ]
  },
  {
   "cell_type": "markdown",
   "id": "bc18799b-77d4-4699-9967-9797d76d3539",
   "metadata": {},
   "source": [
    "### [Exercise 2.5](./workbook.ipynb#Exercise-2.5)\n",
    "\n",
    "##### Using the taxi trip data in the `2019_Yellow_Taxi_Trip_Data.csv` file, resample the data to an hourly frequency based on the dropoff time. Calculate the total `trip_distance`, `fare_amount`, `tolls_amount`, and `tip_amount`, then find the 5 hours with the most tips."
   ]
  },
  {
   "cell_type": "code",
   "execution_count": 55,
   "id": "c5ce22c9-ea36-4d60-b291-c67e1deeeabf",
   "metadata": {},
   "outputs": [],
   "source": [
    "# Complete this exercise in the workbook.ipynb file\n",
    "# Click on `Exercise 2.5` above to open the workbook.ipynb file"
   ]
  },
  {
   "cell_type": "markdown",
   "id": "94ab60e4-a8de-4453-8598-4112bb86f098",
   "metadata": {
    "slideshow": {
     "slide_type": "slide"
    },
    "tags": []
   },
   "source": [
    "## Up Next: [Data Visualization](./3-data_visualization.ipynb)"
   ]
  }
 ],
 "metadata": {
  "kernelspec": {
   "display_name": "Python 3.11.1 64-bit",
   "language": "python",
   "name": "python3"
  },
  "language_info": {
   "codemirror_mode": {
    "name": "ipython",
    "version": 3
   },
   "file_extension": ".py",
   "mimetype": "text/x-python",
   "name": "python",
   "nbconvert_exporter": "python",
   "pygments_lexer": "ipython3",
   "version": "3.11.1"
  },
  "vscode": {
   "interpreter": {
    "hash": "aee8b7b246df8f9039afb4144a1f6fd8d2ca17a180786b69acc140d282b71a49"
   }
  }
 },
 "nbformat": 4,
 "nbformat_minor": 5
}
